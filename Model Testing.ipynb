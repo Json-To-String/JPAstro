{
 "cells": [
  {
   "cell_type": "markdown",
   "id": "7bb119c3",
   "metadata": {},
   "source": [
    "Filename is pcc_resnet50_X.h5 (where X is model number)\n"
   ]
  },
  {
   "cell_type": "code",
   "execution_count": 9,
   "id": "b7f50d71",
   "metadata": {},
   "outputs": [],
   "source": [
    "from keras.models import load_model\n",
    "# from keras.preprocessing import image\n",
    "import keras.utils as image\n",
    "import os\n",
    "import glob\n",
    "import numpy as np\n",
    "import matplotlib.pyplot as plt\n",
    "import SciServer.CasJobs as CasJobs # query with CasJobs, the primary database for the SDSS\n",
    "import SciServer.SkyServer as SkyServer # show individual objects through SkyServer\n",
    "import SciServer.SciDrive\n",
    "import warnings\n",
    "warnings.filterwarnings('ignore')\n",
    "import pandas as pd\n",
    "from PIL import Image\n"
   ]
  },
  {
   "cell_type": "code",
   "execution_count": 3,
   "id": "6c305283",
   "metadata": {},
   "outputs": [
    {
     "data": {
      "text/plain": [
       "<bound method Model.load_weights of <keras.engine.functional.Functional object at 0x7f0ced914340>>"
      ]
     },
     "execution_count": 3,
     "metadata": {},
     "output_type": "execute_result"
    }
   ],
   "source": [
    "cnn_model = load_model('pcc_resnet50_4.h5')\n",
    "cnn_model.load_weights\n",
    "# cnn_model.summary()\n"
   ]
  },
  {
   "cell_type": "markdown",
   "id": "9903373b",
   "metadata": {},
   "source": [
    "https://stackoverflow.com/questions/43469281/how-to-predict-input-image-using-trained-model-in-keras"
   ]
  },
  {
   "cell_type": "code",
   "execution_count": 3,
   "id": "665347cf",
   "metadata": {},
   "outputs": [],
   "source": [
    "# testDir = 'clean-flags-big-sweep'\n",
    "# testImgs = glob.glob(os.path.join(testDir, '*.png'))\n",
    "# img_width, img_height = 200, 200\n",
    "\n",
    "# predictions = []\n",
    "\n",
    "# for ind, im in enumerate(testImgs):\n",
    "# #     print(ind, im)\n",
    "# #     imPaths.append(im)\n",
    "#     img = image.load_img(im, target_size=(img_width, img_height))\n",
    "#     x = image.img_to_array(img)\n",
    "#     ex = np.expand_dims(x, axis = 0)\n",
    "#     images = np.vstack([ex])\n",
    "    \n",
    "#     pred = cnn_model.predict(ex)\n",
    "#     pred = np.argmax(pred, axis = 1)\n",
    "#     predictions.append(pred[0])\n",
    "    \n",
    "# #     if ind > 4:\n",
    "# #         break"
   ]
  },
  {
   "cell_type": "code",
   "execution_count": 4,
   "id": "56641ea8",
   "metadata": {},
   "outputs": [],
   "source": [
    "# mkdir bigSweepPredictions"
   ]
  },
  {
   "cell_type": "code",
   "execution_count": 5,
   "id": "d582446f",
   "metadata": {},
   "outputs": [],
   "source": [
    "# predictDir = 'bigSweepPredictions'\n",
    "\n",
    "# for ind, im in enumerate(testImgs):\n",
    "    \n",
    "#     img = image.load_img(im, target_size=(img_width, img_height))\n",
    "    \n",
    "#     plt.figure()\n",
    "#     plt.imshow(img)\n",
    "#     plt.title(f'Predicted as {predictions[ind]}')\n",
    "    \n",
    "#     basename = os.path.basename(im)\n",
    "#     filename = os.path.join(predictDir, f'{str(basename[:-4])}_label={str(predictions[ind])}')\n",
    "# #     print(filename)\n",
    "#     plt.savefig(f'{filename}.png')\n",
    "#     plt.close()"
   ]
  },
  {
   "cell_type": "code",
   "execution_count": 16,
   "id": "c4dc2d7e-ae5a-4f8c-88c9-e27d31e303a1",
   "metadata": {},
   "outputs": [],
   "source": [
    "# join on specObj to see if missmatch b/t PhotoObj type and SpecObj type\n",
    "# also want to see if objects in PCC appear\n",
    "\n",
    "radialSearchSpec = f'SELECT TOP 300 p.objID, p.ra, p.dec, \\\n",
    " p.modelMag_r, \\\n",
    " p.modelMag_u - p.modelMag_g as u_g, \\\n",
    " p.modelMag_g - p.modelMag_z as g_z, \\\n",
    " p.modelMag_g - p.modelMag_r as g_r, \\\n",
    " p.modelMag_g - p.modelMag_i as g_i, \\\n",
    " p.modelMag_r - p.modelMag_i as r_i, \\\n",
    " p.modelMag_r - p.modelMag_z as r_z, \\\n",
    " p.petroRad_r, p.flags, dbo.fPhotoFlagsN(p.flags) as flag_text, \\\n",
    " s.specObjID, s.z, s.zErr, s.zWarning, s.class, s.subClass, \\\n",
    " N.distance \\\n",
    "FROM\\\n",
    " photoObj as p \\\n",
    "JOIN SpecObjAll s ON p.objID = s.bestObjID \\\n",
    "JOIN dbo.fGetNearbyObjEq(49.9467, 41.5131, 45) as N ON N.objID = p.objID \\\n",
    "WHERE \\\n",
    " p.modelMag_r > -14.3*(p.modelMag_g - p.modelMag_z) + 37 \\\n",
    " and p.modelMag_r < -14.3*(p.modelMag_g - p.modelMag_z) + 46 \\\n",
    " and p.type = 3 \\\n",
    "ORDER BY distance'\n",
    "\n",
    "radDf = CasJobs.executeQuery(radialSearchSpec, \"dr16\")\n",
    "# radDf"
   ]
  },
  {
   "cell_type": "markdown",
   "id": "5cb4f2c4-c7cd-4d6d-9276-091c1c847038",
   "metadata": {},
   "source": [
    "Cluster member redshift range 0.01 < spec-z < 0.033 \\\n",
    "Stars spec-z < 0.01 \\\n",
    "Background spec-z > 0.033"
   ]
  },
  {
   "cell_type": "code",
   "execution_count": 22,
   "id": "2d32edf5-8d35-4865-a39b-57f76f46b778",
   "metadata": {},
   "outputs": [],
   "source": [
    "def labeler(num):\n",
    "    if num > 0.033:\n",
    "        return(0) # background\n",
    "        \n",
    "    elif num > 0.01 and num < 0.033:\n",
    "        return(1) # members\n",
    "        \n",
    "    else:\n",
    "        return(2) # stars"
   ]
  },
  {
   "cell_type": "code",
   "execution_count": 14,
   "id": "c46f94ea",
   "metadata": {},
   "outputs": [
    {
     "name": "stdout",
     "output_type": "stream",
     "text": [
      "1/1 [==============================] - 1s 601ms/step\n"
     ]
    }
   ],
   "source": [
    "SkyServer_DataRelease = 'DR16'\n",
    "img_width, img_height = 200, 200\n",
    "img_array = SkyServer.getJpegImgCutout(ra=197.614455642896, dec=18.438168853724, width=200, height=200, scale=0.1, \n",
    "                                 dataRelease=SkyServer_DataRelease)\n",
    "\n",
    "outPicTemplate = f'{}'\n",
    "img0 = Image.fromarray(img_array, 'RGB')\n",
    "img0.save(f'{outDir}/.png')\n",
    "\n"
   ]
  },
  {
   "cell_type": "code",
   "execution_count": null,
   "id": "2be232af-632e-4df1-a92d-db6eb2543bcb",
   "metadata": {},
   "outputs": [],
   "source": [
    "### Populating Test set ###\n",
    "outDir = 'Radial-Search-2_2024'\n",
    "for id, z, r, d in zip(radDf['objID'], radDf['z'], radDf['ra'], radDf['dec']):\n",
    "    img_array = SkyServer.getJpegImgCutout(ra=r, dec=d, width=200, height=200, scale=0.1, \n",
    "                                 dataRelease=SkyServer_DataRelease)\n",
    "    # print(f'{id}-label={labeler(z)}')\n",
    "    outPicTemplate = f'{id}-label={labeler(z)}.png'\n",
    "    \n",
    "    img0 = Image.fromarray(img_array, 'RGB')\n",
    "    img0.save(f'{outDir}/.png')"
   ]
  },
  {
   "cell_type": "code",
   "execution_count": 15,
   "id": "b379b8c7",
   "metadata": {},
   "outputs": [
    {
     "data": {
      "text/plain": [
       "array([0])"
      ]
     },
     "execution_count": 15,
     "metadata": {},
     "output_type": "execute_result"
    }
   ],
   "source": [
    "# img0\n",
    "\n",
    "# img = image.load_img(img0, target_size=(img_width, img_height))\n",
    "x = image.img_to_array(img0)\n",
    "ex = np.expand_dims(x, axis = 0)\n",
    "images = np.vstack([ex])\n",
    "pred = cnn_model.predict(ex)\n",
    "pred = np.argmax(pred, axis = 1)\n",
    "pred"
   ]
  },
  {
   "cell_type": "code",
   "execution_count": null,
   "id": "29815f45-91f4-4463-8219-5683cfb42195",
   "metadata": {},
   "outputs": [],
   "source": []
  }
 ],
 "metadata": {
  "kernelspec": {
   "display_name": "Python 3 (ipykernel)",
   "language": "python",
   "name": "python3"
  },
  "language_info": {
   "codemirror_mode": {
    "name": "ipython",
    "version": 3
   },
   "file_extension": ".py",
   "mimetype": "text/x-python",
   "name": "python",
   "nbconvert_exporter": "python",
   "pygments_lexer": "ipython3",
   "version": "3.8.10"
  }
 },
 "nbformat": 4,
 "nbformat_minor": 5
}
