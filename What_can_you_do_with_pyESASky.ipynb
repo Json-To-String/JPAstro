{
 "cells": [
  {
   "cell_type": "markdown",
   "metadata": {},
   "source": [
    "<p style=\"font-weight: bold;text-align: center;font-size: 3em;color: #00338D\">What can you do with pyESASky?</p>"
   ]
  },
  {
   "cell_type": "markdown",
   "metadata": {},
   "source": [
    "This notebook shows examples of what a scientist may typically want to do within a Jupyter notebook using pyESASky, e.g:\n",
    "* Download and inspect data from ESASky (images, spectra, catalogues, ...)\n",
    "* Cross-match catalogues available through ESASky\n",
    "* Upload your own data to ESASky, e.g.: \n",
    "  * Cross-matched tables\n",
    "  * Vizier catalogues (astropy tables) \n",
    "  * User provided tables\n",
    "  * Footprints\n",
    "  * HiPS\n",
    "* Interact with ESASky Functionalities:\n",
    "  * Set the: FoV, HiPS\n",
    "  * Go to a target or coordinates\n",
    "  * Slide through a selection of HiPS\n",
    "  * See the observations, catalogues and publications count in the current FoV\n",
    "  * Load the data panel for observations, spectra and catalogues accessible in ESASky\n",
    "  * JWST planning tool\n",
    "  * Set the coordinates grid on and off"
   ]
  },
  {
   "cell_type": "code",
   "execution_count": 1,
   "metadata": {},
   "outputs": [],
   "source": [
    "# Import the required python modules:\n",
    "from pyesasky import ESASkyWidget\n",
    "from pyesasky import Catalogue\n",
    "from pyesasky import CatalogueDescriptor\n",
    "from pyesasky import CooFrame\n",
    "from pyesasky import ImgFormat\n",
    "from pyesasky import FootprintSet\n",
    "from pyesasky import FootprintSetDescriptor\n",
    "from pyesasky import MetadataDescriptor\n",
    "from pyesasky import MetadataType\n",
    "\n",
    "import pandas as pd"
   ]
  },
  {
   "cell_type": "code",
   "execution_count": 2,
   "metadata": {},
   "outputs": [],
   "source": [
    "# Instantiate the pyESASky instance\n",
    "esasky = ESASkyWidget()"
   ]
  },
  {
   "cell_type": "markdown",
   "metadata": {},
   "source": [
    "All of the functions are now documented. Use the IPython ? magic to read about the function. Use tab to complete function names etc:"
   ]
  },
  {
   "cell_type": "code",
   "execution_count": 3,
   "metadata": {},
   "outputs": [],
   "source": [
    "?ESASkyWidget.goToRADec"
   ]
  },
  {
   "cell_type": "code",
   "execution_count": 4,
   "metadata": {
    "scrolled": true,
    "tags": []
   },
   "outputs": [
    {
     "data": {
      "application/vnd.jupyter.widget-view+json": {
       "model_id": "a0272c631cba4c6c9fdbd0d0d41bdd46",
       "version_major": 2,
       "version_minor": 0
      },
      "text/plain": [
       "ESASkyWidget(layout=Layout(align_self='stretch', height='400px'))"
      ]
     },
     "execution_count": 4,
     "metadata": {},
     "output_type": "execute_result"
    }
   ],
   "source": [
    "# Load the pyESASky instance\n",
    "esasky"
   ]
  },
  {
   "cell_type": "markdown",
   "metadata": {},
   "source": [
    "### Set custom height of the view"
   ]
  },
  {
   "cell_type": "code",
   "execution_count": 5,
   "metadata": {},
   "outputs": [],
   "source": [
    "esasky.setViewHeight('850px')"
   ]
  },
  {
   "cell_type": "markdown",
   "metadata": {},
   "source": [
    "### Go to a target name resolved against SIMBAD"
   ]
  },
  {
   "cell_type": "code",
   "execution_count": 6,
   "metadata": {},
   "outputs": [
    {
     "ename": "TimeoutError",
     "evalue": "Widget doesn't seem to have initialised properly",
     "output_type": "error",
     "traceback": [
      "\u001b[1;31m---------------------------------------------------------------------------\u001b[0m",
      "\u001b[1;31mTimeoutError\u001b[0m                              Traceback (most recent call last)",
      "Cell \u001b[1;32mIn[6], line 1\u001b[0m\n\u001b[1;32m----> 1\u001b[0m \u001b[43mesasky\u001b[49m\u001b[38;5;241;43m.\u001b[39;49m\u001b[43mgoToTargetName\u001b[49m\u001b[43m(\u001b[49m\u001b[38;5;124;43m'\u001b[39;49m\u001b[38;5;124;43mCOSMOS Field\u001b[39;49m\u001b[38;5;124;43m'\u001b[39;49m\u001b[43m)\u001b[49m\n",
      "File \u001b[1;32m~\\anaconda3\\envs\\tf-gpu\\lib\\site-packages\\pyesasky\\pyesasky.py:452\u001b[0m, in \u001b[0;36mESASkyWidget.goToTargetName\u001b[1;34m(self, targetName)\u001b[0m\n\u001b[0;32m    446\u001b[0m \u001b[38;5;124;03m\"\"\"Moves to targetName resolved by SIMBAD\"\"\"\u001b[39;00m\n\u001b[0;32m    448\u001b[0m content \u001b[38;5;241m=\u001b[39m \u001b[38;5;28mdict\u001b[39m(\n\u001b[0;32m    449\u001b[0m     event\u001b[38;5;241m=\u001b[39m\u001b[38;5;124m'\u001b[39m\u001b[38;5;124mgoToTargetName\u001b[39m\u001b[38;5;124m'\u001b[39m,\n\u001b[0;32m    450\u001b[0m     content\u001b[38;5;241m=\u001b[39m\u001b[38;5;28mdict\u001b[39m(targetName\u001b[38;5;241m=\u001b[39mtargetName)\n\u001b[0;32m    451\u001b[0m )\n\u001b[1;32m--> 452\u001b[0m \u001b[38;5;28;43mself\u001b[39;49m\u001b[38;5;241;43m.\u001b[39;49m\u001b[43m_sendToFrontEnd\u001b[49m\u001b[43m(\u001b[49m\u001b[43mcontent\u001b[49m\u001b[43m)\u001b[49m\n\u001b[0;32m    453\u001b[0m \u001b[38;5;66;03m# Add small sleeper to wait for simbad to react\u001b[39;00m\n\u001b[0;32m    454\u001b[0m time\u001b[38;5;241m.\u001b[39msleep(\u001b[38;5;241m1\u001b[39m)\n",
      "File \u001b[1;32m~\\anaconda3\\envs\\tf-gpu\\lib\\site-packages\\pyesasky\\pyesasky.py:156\u001b[0m, in \u001b[0;36mESASkyWidget._sendToFrontEnd\u001b[1;34m(self, content)\u001b[0m\n\u001b[0;32m    154\u001b[0m \u001b[38;5;28;01mdef\u001b[39;00m \u001b[38;5;21m_sendToFrontEnd\u001b[39m(\u001b[38;5;28mself\u001b[39m, content):\n\u001b[0;32m    155\u001b[0m     \u001b[38;5;28;01mif\u001b[39;00m \u001b[38;5;129;01mnot\u001b[39;00m (\u001b[38;5;28mself\u001b[39m\u001b[38;5;241m.\u001b[39mguiReady \u001b[38;5;129;01mor\u001b[39;00m \u001b[38;5;28mself\u001b[39m\u001b[38;5;241m.\u001b[39mguiReadyCallSent):\n\u001b[1;32m--> 156\u001b[0m         \u001b[38;5;28;43mself\u001b[39;49m\u001b[38;5;241;43m.\u001b[39;49m\u001b[43m_waitGuiReady\u001b[49m\u001b[43m(\u001b[49m\u001b[43m)\u001b[49m\n\u001b[0;32m    157\u001b[0m     content[\u001b[38;5;124m'\u001b[39m\u001b[38;5;124morigin\u001b[39m\u001b[38;5;124m'\u001b[39m] \u001b[38;5;241m=\u001b[39m \u001b[38;5;124m'\u001b[39m\u001b[38;5;124mpyesasky\u001b[39m\u001b[38;5;124m'\u001b[39m\n\u001b[0;32m    158\u001b[0m     \u001b[38;5;28mself\u001b[39m\u001b[38;5;241m.\u001b[39mmsgId \u001b[38;5;241m+\u001b[39m\u001b[38;5;241m=\u001b[39m \u001b[38;5;241m1\u001b[39m\n",
      "File \u001b[1;32m~\\anaconda3\\envs\\tf-gpu\\lib\\site-packages\\pyesasky\\pyesasky.py:109\u001b[0m, in \u001b[0;36mESASkyWidget._waitGuiReady\u001b[1;34m(self)\u001b[0m\n\u001b[0;32m    107\u001b[0m         \u001b[38;5;28mself\u001b[39m\u001b[38;5;241m.\u001b[39mguiReady \u001b[38;5;241m=\u001b[39m \u001b[38;5;28;01mTrue\u001b[39;00m\n\u001b[0;32m    108\u001b[0m         \u001b[38;5;28;01mreturn\u001b[39;00m val\n\u001b[1;32m--> 109\u001b[0m \u001b[38;5;28;01mraise\u001b[39;00m (\u001b[38;5;167;01mTimeoutError\u001b[39;00m(\u001b[38;5;124m\"\u001b[39m\u001b[38;5;124mWidget doesn\u001b[39m\u001b[38;5;124m'\u001b[39m\u001b[38;5;124mt seem to have initialised properly\u001b[39m\u001b[38;5;124m\"\u001b[39m))\n",
      "\u001b[1;31mTimeoutError\u001b[0m: Widget doesn't seem to have initialised properly"
     ]
    }
   ],
   "source": [
    "esasky.goToTargetName('COSMOS Field')"
   ]
  },
  {
   "cell_type": "markdown",
   "metadata": {},
   "source": [
    "### Go to RA and Dec (decimal degrees or sexagesimal format)"
   ]
  },
  {
   "cell_type": "code",
   "execution_count": null,
   "metadata": {},
   "outputs": [],
   "source": [
    "esasky.goToRADec('150.11917', '+02.20583') #COSMOS Field"
   ]
  },
  {
   "cell_type": "markdown",
   "metadata": {},
   "source": [
    "### Set the Field of View in degrees"
   ]
  },
  {
   "cell_type": "code",
   "execution_count": null,
   "metadata": {},
   "outputs": [],
   "source": [
    "esasky.setFoV(0.5)"
   ]
  },
  {
   "cell_type": "markdown",
   "metadata": {},
   "source": [
    "### Change the background HiPS to Herschel PACS colour"
   ]
  },
  {
   "cell_type": "code",
   "execution_count": null,
   "metadata": {},
   "outputs": [],
   "source": [
    "esasky.setHiPS('Herschel PACS RGB 70, 160 micron')\n",
    "# type the following to see the available HiPS from ESASky:\n",
    "# esasky.getAvailableHiPS()"
   ]
  },
  {
   "cell_type": "markdown",
   "metadata": {},
   "source": [
    "<br />\n",
    "<p style=\"font-weight: bold;text-align: center;font-size: 2.5em;color: #00338D\">Download and inspect data from ESASky</p>"
   ]
  },
  {
   "cell_type": "markdown",
   "metadata": {},
   "source": [
    "### Information about the available data in the current field of view can be retrieved. For example the number of sources per catalogue:"
   ]
  },
  {
   "cell_type": "code",
   "execution_count": null,
   "metadata": {},
   "outputs": [],
   "source": [
    "catCount = esasky.getCataloguesCount()\n",
    "catCount = pd.DataFrame.from_dict([catCount]).transpose()\n",
    "catCount.columns = ['Count']\n",
    "catCount"
   ]
  },
  {
   "cell_type": "markdown",
   "metadata": {},
   "source": [
    "### Download sources from the XMM EPIC (3XMM-DR8) catalogue and Herschel PACS 100 micron Point Source Catalogue in the current field of view:"
   ]
  },
  {
   "cell_type": "code",
   "execution_count": null,
   "metadata": {},
   "outputs": [],
   "source": [
    "# Firstly, plot the XMM-Newton Serendipitous Source catalogue in ESASky:\n",
    "esasky.plotCatalogues('XMM-EPIC')"
   ]
  },
  {
   "cell_type": "code",
   "execution_count": null,
   "metadata": {},
   "outputs": [],
   "source": [
    "# then parse the data with pandas\n",
    "data=esasky.getResultPanelData()\n",
    "xmmepic = pd.DataFrame.from_dict(data)\n",
    "xmmepic"
   ]
  },
  {
   "cell_type": "code",
   "execution_count": null,
   "metadata": {},
   "outputs": [],
   "source": [
    "# Plot the Herschel-HPPSC-100 catalogue in ESASky:\n",
    "esasky.plotCatalogues('Herschel-HPPSC-100')"
   ]
  },
  {
   "cell_type": "code",
   "execution_count": null,
   "metadata": {},
   "outputs": [],
   "source": [
    "# then parse the data with pandas\n",
    "data=esasky.getResultPanelData()\n",
    "HPPSC100 = pd.DataFrame.from_dict(data)\n",
    "HPPSC100"
   ]
  },
  {
   "cell_type": "markdown",
   "metadata": {},
   "source": [
    "### Download and check the postcard of an observation from Chandra in the current FoV"
   ]
  },
  {
   "cell_type": "code",
   "execution_count": null,
   "metadata": {},
   "outputs": [],
   "source": [
    "# Firstly, plot the Chandra imaging observations in ESASky\n",
    "esasky.plotObservations('Chandra')"
   ]
  },
  {
   "cell_type": "code",
   "execution_count": null,
   "metadata": {
    "scrolled": true
   },
   "outputs": [],
   "source": [
    "data=esasky.getResultPanelData()\n",
    "chandra = pd.DataFrame.from_dict(data)\n",
    "chandra"
   ]
  },
  {
   "cell_type": "code",
   "execution_count": null,
   "metadata": {},
   "outputs": [],
   "source": [
    "# plot one of the Chandra observation postcards:\n",
    "from IPython.display import Image\n",
    "Image(chandra.iloc[5]['postcard_url'])"
   ]
  },
  {
   "cell_type": "markdown",
   "metadata": {},
   "source": [
    "### Download data from XMM-Newton in the current FoV"
   ]
  },
  {
   "cell_type": "code",
   "execution_count": null,
   "metadata": {},
   "outputs": [],
   "source": [
    "# Plot the XMM-Newton imaging observations in ESASky\n",
    "esasky.plotObservations('XMM')"
   ]
  },
  {
   "cell_type": "code",
   "execution_count": null,
   "metadata": {
    "scrolled": true
   },
   "outputs": [],
   "source": [
    "data=esasky.getResultPanelData()\n",
    "xmm_newton = pd.DataFrame.from_dict(data)\n",
    "xmm_newton"
   ]
  },
  {
   "cell_type": "markdown",
   "metadata": {},
   "source": [
    "### Display and get data from External Data Centres"
   ]
  },
  {
   "cell_type": "code",
   "execution_count": null,
   "metadata": {},
   "outputs": [],
   "source": [
    "# View the available predefined external TAP services in ESASky,\n",
    "# e.g. European Southern Observatory (ESO), MAST (STScI), Canadian \n",
    "# Astronomical Data Centre (CADC)\n",
    "esasky.getAvailableTapServices()"
   ]
  },
  {
   "cell_type": "code",
   "execution_count": null,
   "metadata": {
    "scrolled": true
   },
   "outputs": [],
   "source": [
    "# View all the available external TAP missions:\n",
    "esasky.getAllAvailableTapMissions()"
   ]
  },
  {
   "cell_type": "code",
   "execution_count": null,
   "metadata": {},
   "outputs": [],
   "source": [
    "# Return the available data in the current field of from ESO (from the ESO TAP):\n",
    "esasky.getTapServiceCount('ESO')"
   ]
  },
  {
   "cell_type": "code",
   "execution_count": null,
   "metadata": {},
   "outputs": [],
   "source": [
    "# Plot the footprints and metadata in pyESASky for ESO VLT images in the current FoV \n",
    "esasky.plotTapService('eso-image-eso-vlt-u')"
   ]
  },
  {
   "cell_type": "code",
   "execution_count": null,
   "metadata": {
    "scrolled": true,
    "tags": []
   },
   "outputs": [],
   "source": [
    "data=esasky.getResultPanelData()\n",
    "vlt = pd.DataFrame.from_dict(data)\n",
    "vlt"
   ]
  },
  {
   "cell_type": "markdown",
   "metadata": {},
   "source": [
    "<br />\n",
    "<p style=\"font-weight: bold;text-align: center;font-size: 2.0em;color: #00338D\">Cross-match catalogues using astropy</p>"
   ]
  },
  {
   "cell_type": "markdown",
   "metadata": {},
   "source": [
    "### Cross-match the two catalogues using astropy.coordinates"
   ]
  },
  {
   "cell_type": "code",
   "execution_count": null,
   "metadata": {},
   "outputs": [],
   "source": [
    "from astropy.coordinates import SkyCoord\n",
    "from astropy.coordinates import ICRS, Galactic, FK4, FK5\n",
    "from astropy import units as u"
   ]
  },
  {
   "cell_type": "code",
   "execution_count": null,
   "metadata": {},
   "outputs": [],
   "source": [
    "ra1 = xmmepic['ra']\n",
    "dec1 = xmmepic['dec']\n",
    "ra2 = HPPSC100['ra']\n",
    "dec2 = HPPSC100['dec']\n",
    "c = SkyCoord(ra1, dec1, frame='icrs', unit='deg')\n",
    "catalog = SkyCoord(ra2, dec2, frame='icrs', unit='deg')\n",
    "idx, d2d, d3d = c.match_to_catalog_sky(catalog)"
   ]
  },
  {
   "cell_type": "code",
   "execution_count": null,
   "metadata": {
    "scrolled": true
   },
   "outputs": [],
   "source": [
    "# Set a maximum separation as 5 arcseconds\n",
    "max_sep = 5.0 * u.arcsec\n",
    "idx, d2d, d3d = c.match_to_catalog_3d(catalog)\n",
    "sep_constraint = d2d < max_sep\n",
    "c_matches = c[sep_constraint]\n",
    "catalog_matches = catalog[idx[sep_constraint]]\n",
    "catalog_matches\n",
    "#catalog_matches"
   ]
  },
  {
   "cell_type": "code",
   "execution_count": null,
   "metadata": {},
   "outputs": [],
   "source": [
    "# Convert the SkyCoord column to an astropy table \n",
    "# and add a Name column (for pyESASky)\n",
    "from astropy.table import Table\n",
    "import numpy as np\n",
    "XMMEPIC_HPPSC100 = Table()\n",
    "XMMEPIC_HPPSC100['ra'] = catalog_matches.ra\n",
    "XMMEPIC_HPPSC100['dec'] = catalog_matches.dec\n",
    "XMMEPIC_HPPSC100['Name'] = np.linspace(1, catalog_matches.size, catalog_matches.size)\n",
    "XMMEPIC_HPPSC100"
   ]
  },
  {
   "cell_type": "markdown",
   "metadata": {},
   "source": [
    "<br />\n",
    "<p style=\"font-weight: bold;text-align: center;font-size: 2.5em;color: #00338D\">Send your data to ESASky</p>"
   ]
  },
  {
   "cell_type": "markdown",
   "metadata": {},
   "source": [
    "## Send the cross-matched table to ESASky"
   ]
  },
  {
   "cell_type": "code",
   "execution_count": null,
   "metadata": {},
   "outputs": [],
   "source": [
    "# overlayCatalogueFromAstropyTable('<catName>', '<cooFrame>', <color>, <lineWidth>, <table>, '<raColname>', '<decColname>', '<mainIDColname>')\n",
    "# where:\n",
    "# - <catName> : name of the catalogue that will be used in pyESASky as label\n",
    "# - <cooFRAME> : coordinate frame\n",
    "# - <color> : HTML color. It could be a \"Color name\", \"Hex color code\" or \"RGB color code\"\n",
    "# - <lineWidth> : width used to draw sources. From 1 to 10\n",
    "# - <table> : name of the column containing a unique identifier for sources if any. None if not applicable\n",
    "# - <raColname> : name of the RA column in degrees\n",
    "# - <decColname> : name of the Dec column in degrees\n",
    "# - <mainIDColname> : name of the column with the name of the source\n",
    "\n",
    "esasky.overlayCatalogueFromAstropyTable('XMMEPIC_HPPSC100', 'J2000', '#ffff00', 10, XMMEPIC_HPPSC100, 'ra','dec','Name')"
   ]
  },
  {
   "cell_type": "markdown",
   "metadata": {},
   "source": [
    "## Send a catalogue in VizieR to ESASky"
   ]
  },
  {
   "cell_type": "code",
   "execution_count": null,
   "metadata": {},
   "outputs": [],
   "source": [
    "# Import the VizieR astroquery module\n",
    "from astroquery.vizier import Vizier"
   ]
  },
  {
   "cell_type": "code",
   "execution_count": null,
   "metadata": {},
   "outputs": [],
   "source": [
    "# Query the Véron-Cetty+ 2010 catalogue, VII/258/vv10, for the \n",
    "# Cosmos field with search radius 0.5 degrees\n",
    "result = Vizier.query_region(\"Cosmos Field\", \n",
    "                             radius=0.5*u.deg, catalog='VII/258/vv10')\n",
    "print(result)"
   ]
  },
  {
   "cell_type": "code",
   "execution_count": null,
   "metadata": {
    "scrolled": true
   },
   "outputs": [],
   "source": [
    "Veron = result['VII/258/vv10']\n",
    "Veron"
   ]
  },
  {
   "cell_type": "code",
   "execution_count": null,
   "metadata": {
    "scrolled": true
   },
   "outputs": [],
   "source": [
    "#transform the RA and Dec to degrees and add two new columns\n",
    "c = SkyCoord(Veron['RAJ2000'], Veron['DEJ2000'], unit=(u.hourangle, u.deg))\n",
    "Veron['RAJ2000'] = c.ra\n",
    "Veron['DEJ2000'] = c.dec\n",
    "Veron"
   ]
  },
  {
   "cell_type": "code",
   "execution_count": null,
   "metadata": {},
   "outputs": [],
   "source": [
    "# Send the catalogue to ESASky\n",
    "esasky.overlayCatalogueFromAstropyTable('Veron', 'J2000', '#33c9cc', 5, Veron, 'RAJ2000', 'DEJ2000','Name')"
   ]
  },
  {
   "cell_type": "markdown",
   "metadata": {},
   "source": [
    "You can also upload your own tables from files or create your own tables and send them to ESASky."
   ]
  },
  {
   "cell_type": "markdown",
   "metadata": {},
   "source": [
    "## Send Footprints to ESASky"
   ]
  },
  {
   "cell_type": "markdown",
   "metadata": {},
   "source": [
    "Go to another region in the sky, set the Fov and change the HiPS to Spitzer"
   ]
  },
  {
   "cell_type": "code",
   "execution_count": null,
   "metadata": {},
   "outputs": [],
   "source": [
    "esasky.closeAllResultPanelTabs()\n",
    "esasky.goToTargetName('[SPK2012] MWP1G300134-001035')\n",
    "esasky.setFoV(2.3)\n",
    "esasky.setHiPS(\"Spitzer cold SEIP IRAC-1-3-4 RGB bright\")\n",
    "#esasky.setHiPS(\"Spitzer\", \"http://cdn.skies.esac.esa.int/Spitzer/IRAC134_RGB_bright/\")"
   ]
  },
  {
   "cell_type": "code",
   "execution_count": null,
   "metadata": {},
   "outputs": [],
   "source": [
    "footprintDesc = FootprintSetDescriptor('test footprints', 'red', 5, 'id', 'id', 'stcs', 'ra', 'dec', [])"
   ]
  },
  {
   "cell_type": "code",
   "execution_count": null,
   "metadata": {},
   "outputs": [],
   "source": [
    "esasky.overlayFootprintsFromCSV('./testfootprint.csv', ',', footprintDesc)"
   ]
  },
  {
   "cell_type": "code",
   "execution_count": null,
   "metadata": {},
   "outputs": [],
   "source": [
    "esasky.closeResultPanelTab()"
   ]
  },
  {
   "cell_type": "markdown",
   "metadata": {},
   "source": [
    "## Send your own HiPS to ESASky"
   ]
  },
  {
   "cell_type": "markdown",
   "metadata": {},
   "source": [
    "This will start a tornado server opening up a port allowing web browser access to this path and all folders/files underneath"
   ]
  },
  {
   "cell_type": "code",
   "execution_count": null,
   "metadata": {},
   "outputs": [],
   "source": [
    "esasky.goToRADec('266.41683', '-29.00781')\n",
    "esasky.setFoV(90)\n",
    "esasky.removeHiPS('User')\n",
    "#Change the below directory to your own HiPS\n",
    "esasky.addLocalHiPS('/Users/dbaines/Downloads/LFI_SkyMap_030_1024_R3.00_full_HiPS/')\n",
    "esasky.openSkyPanel()"
   ]
  },
  {
   "cell_type": "code",
   "execution_count": null,
   "metadata": {},
   "outputs": [],
   "source": [
    "esasky.setHiPSColorPalette('PLANCK')"
   ]
  },
  {
   "cell_type": "code",
   "execution_count": null,
   "metadata": {},
   "outputs": [],
   "source": [
    "#Stop the tornado server:\n",
    "esasky.httpserver.stop()"
   ]
  },
  {
   "cell_type": "markdown",
   "metadata": {},
   "source": [
    "## Send HiPS from any URL to ESASky"
   ]
  },
  {
   "cell_type": "markdown",
   "metadata": {},
   "source": [
    "There are many additional HiPS available from many HiPS nodes, all listed here in the Aladin HiPS list: https://aladin.u-strasbg.fr/hips/list \n",
    "\n",
    "Select which HiPS you'd like to load in the list, copy the HiPS URL from the HiPS ID column in the HiPS sky maps section and paste the URL into the esasky.addHiPS command. Examples:"
   ]
  },
  {
   "cell_type": "code",
   "execution_count": null,
   "metadata": {},
   "outputs": [],
   "source": [
    "esasky.addHiPS(\"Skymapper\", \"https://alasky.u-strasbg.fr/Skymapper/skymapper_color/\")\n",
    "esasky.addHiPS(\"PanSTARRS DR1 color-i-r-g\", \"https://alasky.u-strasbg.fr/Pan-STARRS/DR1/color-i-r-g/\")\n",
    "esasky.addHiPS(\"DECaLS DR5 color\", \"https://alasky.u-strasbg.fr/DECaLS/DR5/color/\")\n",
    "esasky.addHiPS(\"ROSAT\", \"https://alasky.u-strasbg.fr/RASS/\")"
   ]
  },
  {
   "cell_type": "markdown",
   "metadata": {},
   "source": [
    "<br />\n",
    "<p style=\"font-weight: bold;text-align: center;font-size: 2.5em;color: #00338D\">Interacting with other ESASky Functionalities</p>"
   ]
  },
  {
   "cell_type": "markdown",
   "metadata": {},
   "source": [
    "## Perform Cone, Box and Polygon Searches"
   ]
  },
  {
   "cell_type": "markdown",
   "metadata": {},
   "source": [
    "There are a couple of ways to perform a cone search with pyESASky. "
   ]
  },
  {
   "cell_type": "markdown",
   "metadata": {},
   "source": [
    "#### Method 1) use the coneSearchCatalogues, Observations or Spectra commands:"
   ]
  },
  {
   "cell_type": "code",
   "execution_count": null,
   "metadata": {},
   "outputs": [],
   "source": [
    "esasky.goToRADec('15 0 0', '-59')\n",
    "esasky.setFoV(5)"
   ]
  },
  {
   "cell_type": "code",
   "execution_count": null,
   "metadata": {},
   "outputs": [],
   "source": [
    "?esasky.coneSearchCatalogues"
   ]
  },
  {
   "cell_type": "code",
   "execution_count": null,
   "metadata": {},
   "outputs": [],
   "source": [
    "esasky.coneSearchCatalogues('Herschel-HPPSC-160', '225.0', '-59', 1 )"
   ]
  },
  {
   "cell_type": "code",
   "execution_count": null,
   "metadata": {},
   "outputs": [],
   "source": [
    "esasky.coneSearchObservations('Chandra', '225.0', '-59', 1 )"
   ]
  },
  {
   "cell_type": "code",
   "execution_count": null,
   "metadata": {},
   "outputs": [],
   "source": [
    "esasky.coneSearchSpectra('ISO-IR', '225.0', '-59', 1 )"
   ]
  },
  {
   "cell_type": "code",
   "execution_count": null,
   "metadata": {},
   "outputs": [],
   "source": [
    "esasky.closeAllResultPanelTabs()"
   ]
  },
  {
   "cell_type": "markdown",
   "metadata": {},
   "source": [
    "#### Method 2) use the setConeSearchArea command:"
   ]
  },
  {
   "cell_type": "markdown",
   "metadata": {},
   "source": [
    "Define the Ra, Dec and radius, then data returned will only fall within this region. "
   ]
  },
  {
   "cell_type": "code",
   "execution_count": null,
   "metadata": {},
   "outputs": [],
   "source": [
    "ra = 225.0\n",
    "dec = -59.0\n",
    "radius = 1.0 # in decimal degrees\n",
    "esasky.setConeSearchArea(ra, dec, radius)"
   ]
  },
  {
   "cell_type": "code",
   "execution_count": null,
   "metadata": {},
   "outputs": [],
   "source": [
    "esasky.plotCatalogues('Herschel-HPPSC-160')\n",
    "esasky.plotObservations('Chandra')\n",
    "esasky.plotSpectra('ISO-IR')"
   ]
  },
  {
   "cell_type": "markdown",
   "metadata": {},
   "source": [
    "#### To perform a box or polygon search, use the setPolygonSearchArea(STCS) command. "
   ]
  },
  {
   "cell_type": "markdown",
   "metadata": {},
   "source": [
    "STCS strings are expected to follow the format of 'BOX|POLYGON ICRS RA(1) Dec(1) ... RA(n) Dec(n)'."
   ]
  },
  {
   "cell_type": "code",
   "execution_count": null,
   "metadata": {},
   "outputs": [],
   "source": [
    "esasky.setPolygonSearchArea('BOX ICRS 226.8297 -58.0490 223.2086 -58.0496 223.1085 -59.9203 226.9319 -59.9197')"
   ]
  },
  {
   "cell_type": "code",
   "execution_count": null,
   "metadata": {},
   "outputs": [],
   "source": [
    "esasky.setPolygonSearchArea('POLYGON ICRS 226.8682 -58.2503 225.3984 -60.1154 222.9764 -57.9569')"
   ]
  },
  {
   "cell_type": "code",
   "execution_count": null,
   "metadata": {},
   "outputs": [],
   "source": [
    "esasky.clearSearchArea()"
   ]
  },
  {
   "cell_type": "markdown",
   "metadata": {},
   "source": [
    "The Search tool panel can also be opened and closed with the following:"
   ]
  },
  {
   "cell_type": "code",
   "execution_count": null,
   "metadata": {},
   "outputs": [],
   "source": [
    "esasky.showSearchToolPanel()"
   ]
  },
  {
   "cell_type": "code",
   "execution_count": null,
   "metadata": {},
   "outputs": [],
   "source": [
    "esasky.closeSearchToolPanel()"
   ]
  },
  {
   "cell_type": "code",
   "execution_count": null,
   "metadata": {},
   "outputs": [],
   "source": [
    "esasky.clearSearchArea()"
   ]
  },
  {
   "cell_type": "code",
   "execution_count": null,
   "metadata": {},
   "outputs": [],
   "source": [
    "esasky.closeAllResultPanelTabs()"
   ]
  },
  {
   "cell_type": "markdown",
   "metadata": {},
   "source": [
    "## Sliding through different HiPS"
   ]
  },
  {
   "cell_type": "code",
   "execution_count": null,
   "metadata": {},
   "outputs": [],
   "source": [
    "# Go to Seyfert 2 Galaxy Centaurus A\n",
    "esasky.removeHiPS('User')\n",
    "esasky.goToRADec(201.365063, -43.019113)\n",
    "esasky.setFoV(0.2)"
   ]
  },
  {
   "cell_type": "markdown",
   "metadata": {},
   "source": [
    "Add HiPS to the sky panel"
   ]
  },
  {
   "cell_type": "code",
   "execution_count": null,
   "metadata": {},
   "outputs": [],
   "source": [
    "esasky.addHiPS(\"Chandra RGB\")\n",
    "esasky.addHiPS(\"XMM-Newton EPIC color\")\n",
    "esasky.addHiPS(\"DSS2 Color\")\n",
    "esasky.addHiPS(\"2MASS color JHK\")\n",
    "esasky.addHiPS(\"Spitzer cold SEIP IRAC2 faint\")\n",
    "esasky.addHiPS(\"Herschel PACS RGB 70, 160 micron\")"
   ]
  },
  {
   "cell_type": "markdown",
   "metadata": {},
   "source": [
    "Animations can be made programmatically using this slider function"
   ]
  },
  {
   "cell_type": "code",
   "execution_count": null,
   "metadata": {},
   "outputs": [],
   "source": [
    "import time\n",
    "for i in range(500):\n",
    "    esasky.setHiPSSliderValue(i/100.0)\n",
    "    time.sleep(0.02)"
   ]
  },
  {
   "cell_type": "markdown",
   "metadata": {},
   "source": [
    "We can even create a slider in the python interface to control the HiPS"
   ]
  },
  {
   "cell_type": "code",
   "execution_count": null,
   "metadata": {},
   "outputs": [],
   "source": [
    "import asyncio\n",
    "nSkies = esasky.getNumberOfSkyRows()\n",
    "def wait_for_change(widget, value):\n",
    "    future = asyncio.Future()\n",
    "    def getvalue(change):\n",
    "        future.set_result(change.new)\n",
    "        widget.unobserve(getvalue, value)\n",
    "    widget.observe(getvalue, value)\n",
    "    return future\n",
    "\n",
    "from ipywidgets import FloatSlider\n",
    "slider = FloatSlider(min=0.0, max=nSkies-1, step=0.01,  continuous_update=True)\n",
    "\n",
    "async def f():\n",
    "    while True:\n",
    "        x = await wait_for_change(slider, 'value')\n",
    "        esasky.setHiPSSliderValue(x)\n",
    "asyncio.ensure_future(f())\n",
    "\n",
    "slider"
   ]
  },
  {
   "cell_type": "markdown",
   "metadata": {},
   "source": [
    "## Interacting with the JWST Planning Tool"
   ]
  },
  {
   "cell_type": "markdown",
   "metadata": {},
   "source": [
    "### Open the JWST Planning Tool and add an instrument at specific coordinates"
   ]
  },
  {
   "cell_type": "code",
   "execution_count": null,
   "metadata": {},
   "outputs": [],
   "source": [
    "esasky.closeSkyPanel() #first, close the sky panel\n",
    "esasky.addJwstWithCoordinates(\"NIRSpec\", \"NRS_FULL_MSA\", False, \"201.365063\", \"-43.019113\", \"5\")"
   ]
  },
  {
   "cell_type": "markdown",
   "metadata": {},
   "source": [
    "### Add an instrument at the centre of the screen and include all instruments in the focal plane"
   ]
  },
  {
   "cell_type": "code",
   "execution_count": null,
   "metadata": {},
   "outputs": [],
   "source": [
    "esasky.setFoV(0.5)\n",
    "esasky.addJwst(\"NIRCam\", \"NRCALL_FULL\", True)"
   ]
  },
  {
   "cell_type": "code",
   "execution_count": null,
   "metadata": {},
   "outputs": [],
   "source": [
    "esasky.addJwstWithCoordinates?"
   ]
  },
  {
   "cell_type": "code",
   "execution_count": null,
   "metadata": {},
   "outputs": [],
   "source": [
    "esasky.closeJwstPanel()"
   ]
  },
  {
   "cell_type": "code",
   "execution_count": null,
   "metadata": {},
   "outputs": [],
   "source": [
    "esasky.openJwstPanel()"
   ]
  },
  {
   "cell_type": "code",
   "execution_count": null,
   "metadata": {},
   "outputs": [],
   "source": [
    "esasky.clearJwstAll()\n",
    "esasky.closeJwstPanel()"
   ]
  },
  {
   "cell_type": "markdown",
   "metadata": {},
   "source": [
    "## Coordinates Grid"
   ]
  },
  {
   "cell_type": "markdown",
   "metadata": {},
   "source": [
    "Switch on or off the coordinates grid:"
   ]
  },
  {
   "cell_type": "code",
   "execution_count": null,
   "metadata": {},
   "outputs": [],
   "source": [
    "esasky.goToRADec(350.850, +58.815) #Cas A\n",
    "esasky.setFoV(0.2)"
   ]
  },
  {
   "cell_type": "code",
   "execution_count": null,
   "metadata": {},
   "outputs": [],
   "source": [
    "esasky.setHiPS('Chandra RGB')\n",
    "esasky.showCoordinateGrid(True)"
   ]
  },
  {
   "cell_type": "code",
   "execution_count": null,
   "metadata": {},
   "outputs": [],
   "source": [
    "esasky.showCoordinateGrid(False)"
   ]
  },
  {
   "cell_type": "markdown",
   "metadata": {},
   "source": [
    "## Healpix MOCs"
   ]
  },
  {
   "cell_type": "markdown",
   "metadata": {},
   "source": [
    "Display your own multi-order coverage (MOC) maps on the sky using IVOA string or JSON notation"
   ]
  },
  {
   "cell_type": "code",
   "execution_count": null,
   "metadata": {},
   "outputs": [],
   "source": [
    "esasky.setHiPS('DSS2 color')\n",
    "esasky.goToRADec(43.376, +05.8587) #Cas A\n",
    "esasky.setFoV(150)\n",
    "esasky.overlayMOC('6/2-15 23 554 7/22 50-75', 'myMoc', 'red', 0.2)"
   ]
  },
  {
   "cell_type": "code",
   "execution_count": null,
   "metadata": {},
   "outputs": [],
   "source": [
    "esasky.overlayMOC('{\"3\":[1,2,3,4,5], \"4\":[26,27]}', 'myMoc2', '#FF1244', 1)"
   ]
  },
  {
   "cell_type": "code",
   "execution_count": null,
   "metadata": {},
   "outputs": [],
   "source": [
    "esasky.removeMOC('myMoc')\n",
    "esasky.removeMOC('myMoc2')"
   ]
  },
  {
   "cell_type": "markdown",
   "metadata": {},
   "source": [
    "## Multi-Messenger Events"
   ]
  },
  {
   "cell_type": "markdown",
   "metadata": {},
   "source": [
    "Return and visualise the multi-messenger events in ESASky."
   ]
  },
  {
   "cell_type": "markdown",
   "metadata": {},
   "source": [
    "#### Gravitational Wave (GW) Events:"
   ]
  },
  {
   "cell_type": "markdown",
   "metadata": {},
   "source": [
    "Return the IDs of all available GW events in ESASky"
   ]
  },
  {
   "cell_type": "code",
   "execution_count": null,
   "metadata": {
    "scrolled": true,
    "tags": []
   },
   "outputs": [],
   "source": [
    "gwdata=esasky.getGWIds() \n",
    "GWs = pd.DataFrame.from_dict(gwdata)\n",
    "GWs"
   ]
  },
  {
   "cell_type": "markdown",
   "metadata": {},
   "source": [
    "Return the metadata of all available GW Events in ESASky"
   ]
  },
  {
   "cell_type": "code",
   "execution_count": null,
   "metadata": {
    "scrolled": true,
    "tags": []
   },
   "outputs": [],
   "source": [
    "pd.set_option('max_colwidth', 400)\n",
    "gwdata=esasky.getGWData()\n",
    "GWs = pd.DataFrame.from_dict(gwdata)\n",
    "GWs"
   ]
  },
  {
   "cell_type": "markdown",
   "metadata": {},
   "source": [
    "Open the GWs Multi-Messenger Events in ESASky and display a GW Event"
   ]
  },
  {
   "cell_type": "code",
   "execution_count": null,
   "metadata": {},
   "outputs": [],
   "source": [
    "esasky.openGWPanel()\n",
    "esasky.showGWEvent('S200316bj') "
   ]
  },
  {
   "cell_type": "markdown",
   "metadata": {},
   "source": [
    "#### Neutrino Events:"
   ]
  },
  {
   "cell_type": "markdown",
   "metadata": {},
   "source": [
    "Return the metadata of all available Neutrino events in ESASky"
   ]
  },
  {
   "cell_type": "code",
   "execution_count": null,
   "metadata": {
    "scrolled": true,
    "tags": []
   },
   "outputs": [],
   "source": [
    "ndata=esasky.getNeutrinoEventData()\n",
    "neutrinos = pd.DataFrame.from_dict(ndata)\n",
    "neutrinos"
   ]
  },
  {
   "cell_type": "markdown",
   "metadata": {},
   "source": [
    "Open the neutrino event panel"
   ]
  },
  {
   "cell_type": "code",
   "execution_count": null,
   "metadata": {},
   "outputs": [],
   "source": [
    "esasky.openNeutrinoPanel()"
   ]
  },
  {
   "cell_type": "markdown",
   "metadata": {},
   "source": [
    "Close the Multi-Messenger panel in ESASky"
   ]
  },
  {
   "cell_type": "code",
   "execution_count": null,
   "metadata": {},
   "outputs": [],
   "source": [
    "esasky.closeAlertPanel() "
   ]
  },
  {
   "cell_type": "markdown",
   "metadata": {},
   "source": []
  },
  {
   "cell_type": "markdown",
   "metadata": {},
   "source": [
    "### Save and restore an ESASky session"
   ]
  },
  {
   "cell_type": "markdown",
   "metadata": {},
   "source": [
    "Save the current ESASky session as a JSON file object with all settings, HiPS stack, datapanels etc."
   ]
  },
  {
   "cell_type": "code",
   "execution_count": null,
   "metadata": {},
   "outputs": [],
   "source": [
    "esasky.saveSession(fileName='ESASkySession.json')"
   ]
  },
  {
   "cell_type": "markdown",
   "metadata": {},
   "source": [
    "Change ESASky settings and then restore the previous session"
   ]
  },
  {
   "cell_type": "code",
   "execution_count": null,
   "metadata": {},
   "outputs": [],
   "source": [
    "esasky.showCoordinateGrid(False)\n",
    "esasky.setHiPS('DSS2 color')\n",
    "esasky.goToTargetName('M101')"
   ]
  },
  {
   "cell_type": "code",
   "execution_count": null,
   "metadata": {},
   "outputs": [],
   "source": [
    "esasky.restoreSessionFromFile('ESASkySession.json')"
   ]
  }
 ],
 "metadata": {
  "kernelspec": {
   "display_name": "Python 3 (ipykernel)",
   "language": "python",
   "name": "python3"
  },
  "language_info": {
   "codemirror_mode": {
    "name": "ipython",
    "version": 3
   },
   "file_extension": ".py",
   "mimetype": "text/x-python",
   "name": "python",
   "nbconvert_exporter": "python",
   "pygments_lexer": "ipython3",
   "version": "3.9.16"
  }
 },
 "nbformat": 4,
 "nbformat_minor": 4
}
