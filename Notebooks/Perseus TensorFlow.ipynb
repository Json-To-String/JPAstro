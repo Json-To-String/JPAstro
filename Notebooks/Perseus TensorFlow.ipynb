{
 "cells": [
  {
   "cell_type": "code",
   "execution_count": 36,
   "id": "f41a4510",
   "metadata": {},
   "outputs": [],
   "source": [
    "import requests\n",
    "import pandas as pd\n",
    "import sys\n",
    "import os\n",
    "import numpy as np\n",
    "import matplotlib.pyplot as plt\n",
    "import tensorflow as tf\n",
    "\n",
    "from keras.models import Sequential\n",
    "#Import from keras_preprocessing not from keras.preprocessing\n",
    "from keras_preprocessing.image import ImageDataGenerator\n",
    "from keras.layers import Dense, Activation, Flatten, Dropout, BatchNormalization\n",
    "from keras.layers import Conv2D, MaxPooling2D\n",
    "from keras import regularizers, optimizers\n",
    "\n",
    "from sklearn.preprocessing import LabelEncoder\n",
    "from sklearn.metrics import ConfusionMatrixDisplay\n",
    "from sklearn.metrics import classification_report, confusion_matrix\n"
   ]
  },
  {
   "cell_type": "code",
   "execution_count": 2,
   "id": "8f1435f3",
   "metadata": {},
   "outputs": [],
   "source": [
    "df0 = pd.read_fwf('PCC_cat.txt', header=None)\n",
    "# df0\n",
    "# df0[21]"
   ]
  },
  {
   "cell_type": "markdown",
   "id": "728579a4",
   "metadata": {},
   "source": [
    "# Here we have 7 unique labels:"
   ]
  },
  {
   "cell_type": "code",
   "execution_count": 3,
   "id": "f4325872",
   "metadata": {
    "scrolled": true
   },
   "outputs": [
    {
     "name": "stdout",
     "output_type": "stream",
     "text": [
      "['Cluster or background LTG' 'Likely background ETG or unresolved source'\n",
      " 'Likely cluster or background edge-on disk galaxy'\n",
      " 'Likely dE/ETGcluster candidate' 'Likely merging system'\n",
      " 'Possible dE/ETGcluster candidate'\n",
      " 'background galaxy with possibly weak substructure']\n",
      "7\n"
     ]
    }
   ],
   "source": [
    "print(np.unique(df0[21]))\n",
    "print(len(np.unique(df0[21]))) # number of unique labels"
   ]
  },
  {
   "cell_type": "code",
   "execution_count": 4,
   "id": "e08e5d8f",
   "metadata": {},
   "outputs": [
    {
     "name": "stdout",
     "output_type": "stream",
     "text": [
      "                                 files  \\\n",
      "0     sdss_ra=49.2355_dec=41.5722.jpeg   \n",
      "1     sdss_ra=49.2366_dec=41.4013.jpeg   \n",
      "2      sdss_ra=49.237_dec=41.4336.jpeg   \n",
      "3     sdss_ra=49.2377_dec=41.5285.jpeg   \n",
      "4      sdss_ra=49.238_dec=41.4346.jpeg   \n",
      "...                                ...   \n",
      "5432   sdss_ra=50.0062_dec=41.238.jpeg   \n",
      "5433  sdss_ra=50.0064_dec=41.2568.jpeg   \n",
      "5434  sdss_ra=50.0068_dec=41.6048.jpeg   \n",
      "5435   sdss_ra=50.007_dec=41.3916.jpeg   \n",
      "5436  sdss_ra=50.0089_dec=41.6781.jpeg   \n",
      "\n",
      "                                                labels  \n",
      "0     Likely cluster or background edge-on disk galaxy  \n",
      "1     Likely cluster or background edge-on disk galaxy  \n",
      "2     Likely cluster or background edge-on disk galaxy  \n",
      "3           Likely background ETG or unresolved source  \n",
      "4     Likely cluster or background edge-on disk galaxy  \n",
      "...                                                ...  \n",
      "5432        Likely background ETG or unresolved source  \n",
      "5433  Likely cluster or background edge-on disk galaxy  \n",
      "5434  Likely cluster or background edge-on disk galaxy  \n",
      "5435                         Cluster or background LTG  \n",
      "5436        Likely background ETG or unresolved source  \n",
      "\n",
      "[5437 rows x 2 columns]\n"
     ]
    }
   ],
   "source": [
    "# access ra and dec from their columns in the datagframe\n",
    "ra = df0[2]\n",
    "dec = df0[3]\n",
    "workDir = 'SDSS2'\n",
    "\n",
    "# df1 = pd.DataFrame()\n",
    "filenames = []\n",
    "for r, d in zip(ra, dec):\n",
    "    fn = f'sdss_ra={r}_dec={d}.jpeg'\n",
    "    filenames.append(fn)\n",
    "\n",
    "# # turning labels to numbers -- didn't use this method - verify? -- TODO\n",
    "le = LabelEncoder()\n",
    "labelToNum = le.fit_transform(df0[21])\n",
    "\n",
    "df1 = pd.DataFrame({'files' : filenames,\n",
    "                    'labels': df0[21]})    \n",
    "\n",
    "print(df1) \n",
    "# splitting dataframe by row index\n",
    "ind = int(5437*.80) # split data 80/20 -- Need to split randomly: Look into helper funcs for train/test split\n",
    "trainDf = df1.iloc[:ind,:]\n",
    "testDf = df1.iloc[ind:,:]\n"
   ]
  },
  {
   "cell_type": "code",
   "execution_count": 5,
   "id": "9e2b4da7",
   "metadata": {},
   "outputs": [
    {
     "data": {
      "image/png": "[encoded data removed]",
      "text/plain": [
       "<PIL.JpegImagePlugin.JpegImageFile image mode=RGB size=200x200>"
      ]
     },
     "execution_count": 5,
     "metadata": {},
     "output_type": "execute_result"
    }
   ],
   "source": [
    "from keras.preprocessing.image import load_img\n",
    "\n",
    "load_img('SDSS1/sdss_ra=49.2355_dec=41.5722.jpeg')"
   ]
  },
  {
   "cell_type": "code",
   "execution_count": 6,
   "id": "a394bb7f",
   "metadata": {},
   "outputs": [
    {
     "data": {
      "text/html": [
       "<div>\n",
       "<style scoped>\n",
       "    .dataframe tbody tr th:only-of-type {\n",
       "        vertical-align: middle;\n",
       "    }\n",
       "\n",
       "    .dataframe tbody tr th {\n",
       "        vertical-align: top;\n",
       "    }\n",
       "\n",
       "    .dataframe thead th {\n",
       "        text-align: right;\n",
       "    }\n",
       "</style>\n",
       "<table border=\"1\" class=\"dataframe\">\n",
       "  <thead>\n",
       "    <tr style=\"text-align: right;\">\n",
       "      <th></th>\n",
       "      <th>files</th>\n",
       "      <th>labels</th>\n",
       "    </tr>\n",
       "  </thead>\n",
       "  <tbody>\n",
       "    <tr>\n",
       "      <th>0</th>\n",
       "      <td>sdss_ra=49.2355_dec=41.5722.jpeg</td>\n",
       "      <td>Likely cluster or background edge-on disk galaxy</td>\n",
       "    </tr>\n",
       "    <tr>\n",
       "      <th>1</th>\n",
       "      <td>sdss_ra=49.2366_dec=41.4013.jpeg</td>\n",
       "      <td>Likely cluster or background edge-on disk galaxy</td>\n",
       "    </tr>\n",
       "    <tr>\n",
       "      <th>2</th>\n",
       "      <td>sdss_ra=49.237_dec=41.4336.jpeg</td>\n",
       "      <td>Likely cluster or background edge-on disk galaxy</td>\n",
       "    </tr>\n",
       "    <tr>\n",
       "      <th>3</th>\n",
       "      <td>sdss_ra=49.2377_dec=41.5285.jpeg</td>\n",
       "      <td>Likely background ETG or unresolved source</td>\n",
       "    </tr>\n",
       "    <tr>\n",
       "      <th>4</th>\n",
       "      <td>sdss_ra=49.238_dec=41.4346.jpeg</td>\n",
       "      <td>Likely cluster or background edge-on disk galaxy</td>\n",
       "    </tr>\n",
       "    <tr>\n",
       "      <th>...</th>\n",
       "      <td>...</td>\n",
       "      <td>...</td>\n",
       "    </tr>\n",
       "    <tr>\n",
       "      <th>4344</th>\n",
       "      <td>sdss_ra=49.8648_dec=41.5081.jpeg</td>\n",
       "      <td>Likely cluster or background edge-on disk galaxy</td>\n",
       "    </tr>\n",
       "    <tr>\n",
       "      <th>4345</th>\n",
       "      <td>sdss_ra=49.8649_dec=41.3532.jpeg</td>\n",
       "      <td>Likely dE/ETGcluster candidate</td>\n",
       "    </tr>\n",
       "    <tr>\n",
       "      <th>4346</th>\n",
       "      <td>sdss_ra=49.8649_dec=41.2249.jpeg</td>\n",
       "      <td>Cluster or background LTG</td>\n",
       "    </tr>\n",
       "    <tr>\n",
       "      <th>4347</th>\n",
       "      <td>sdss_ra=49.8654_dec=41.4619.jpeg</td>\n",
       "      <td>Likely background ETG or unresolved source</td>\n",
       "    </tr>\n",
       "    <tr>\n",
       "      <th>4348</th>\n",
       "      <td>sdss_ra=49.8654_dec=41.4495.jpeg</td>\n",
       "      <td>Likely background ETG or unresolved source</td>\n",
       "    </tr>\n",
       "  </tbody>\n",
       "</table>\n",
       "<p>4349 rows × 2 columns</p>\n",
       "</div>"
      ],
      "text/plain": [
       "                                 files  \\\n",
       "0     sdss_ra=49.2355_dec=41.5722.jpeg   \n",
       "1     sdss_ra=49.2366_dec=41.4013.jpeg   \n",
       "2      sdss_ra=49.237_dec=41.4336.jpeg   \n",
       "3     sdss_ra=49.2377_dec=41.5285.jpeg   \n",
       "4      sdss_ra=49.238_dec=41.4346.jpeg   \n",
       "...                                ...   \n",
       "4344  sdss_ra=49.8648_dec=41.5081.jpeg   \n",
       "4345  sdss_ra=49.8649_dec=41.3532.jpeg   \n",
       "4346  sdss_ra=49.8649_dec=41.2249.jpeg   \n",
       "4347  sdss_ra=49.8654_dec=41.4619.jpeg   \n",
       "4348  sdss_ra=49.8654_dec=41.4495.jpeg   \n",
       "\n",
       "                                                labels  \n",
       "0     Likely cluster or background edge-on disk galaxy  \n",
       "1     Likely cluster or background edge-on disk galaxy  \n",
       "2     Likely cluster or background edge-on disk galaxy  \n",
       "3           Likely background ETG or unresolved source  \n",
       "4     Likely cluster or background edge-on disk galaxy  \n",
       "...                                                ...  \n",
       "4344  Likely cluster or background edge-on disk galaxy  \n",
       "4345                    Likely dE/ETGcluster candidate  \n",
       "4346                         Cluster or background LTG  \n",
       "4347        Likely background ETG or unresolved source  \n",
       "4348        Likely background ETG or unresolved source  \n",
       "\n",
       "[4349 rows x 2 columns]"
      ]
     },
     "execution_count": 6,
     "metadata": {},
     "output_type": "execute_result"
    }
   ],
   "source": [
    "trainDf"
   ]
  },
  {
   "cell_type": "code",
   "execution_count": 7,
   "id": "6a104114",
   "metadata": {},
   "outputs": [
    {
     "name": "stdout",
     "output_type": "stream",
     "text": [
      "0.0\n",
      "0.0\n",
      "0.0\n",
      "0.0\n",
      "0.0\n",
      "0.0\n",
      "0.0\n",
      "['Cluster or background LTG' 'Likely background ETG or unresolved source'\n",
      " 'Likely cluster or background edge-on disk galaxy'\n",
      " 'Likely dE/ETGcluster candidate' 'Likely merging system'\n",
      " 'Possible dE/ETGcluster candidate'\n",
      " 'background galaxy with possibly weak substructure']\n",
      "[0 1 2 3 4 5 6]\n"
     ]
    }
   ],
   "source": [
    "x = df1['labels']\n",
    "x = x.tolist()\n",
    "\n",
    "# Balance of data\n",
    "for i in range(7):\n",
    "    print(x.count(i)/5437)\n",
    "\n",
    "print(le.classes_)\n",
    "print(le.transform(le.classes_))"
   ]
  },
  {
   "cell_type": "code",
   "execution_count": 8,
   "id": "d2825351",
   "metadata": {},
   "outputs": [
    {
     "name": "stdout",
     "output_type": "stream",
     "text": [
      "Found 2914 validated image filenames belonging to 7 classes.\n",
      "Found 1435 validated image filenames belonging to 7 classes.\n",
      "Found 1088 validated image filenames.\n"
     ]
    }
   ],
   "source": [
    "\n",
    "\n",
    "datagen=ImageDataGenerator(rescale=1./255.,validation_split=0.33)\n",
    "# datagen=ImageDataGenerator(rescale=1./255.)\n",
    "\n",
    "train_generator=datagen.flow_from_dataframe(\n",
    "dataframe=trainDf,\n",
    "directory=\"./SDSS1/\",\n",
    "x_col=\"files\",\n",
    "y_col=\"labels\",\n",
    "subset=\"training\",\n",
    "batch_size=1, # divisibility \n",
    "seed=42,\n",
    "shuffle=True,\n",
    "class_mode=\"categorical\",\n",
    "target_size=(200,200))\n",
    "\n",
    "valid_generator=datagen.flow_from_dataframe(\n",
    "dataframe=trainDf,\n",
    "directory=\"./SDSS1/\",\n",
    "x_col=\"files\",\n",
    "y_col=\"labels\",\n",
    "subset=\"validation\",\n",
    "batch_size=1,\n",
    "seed=42,\n",
    "shuffle=True,\n",
    "class_mode=\"categorical\",\n",
    "target_size=(200, 200))\n",
    "\n",
    "test_datagen=ImageDataGenerator(rescale=1./255.)\n",
    "test_generator=test_datagen.flow_from_dataframe(\n",
    "dataframe=testDf,\n",
    "directory=\"./SDSS1/\",\n",
    "x_col=\"files\",\n",
    "y_col=None,\n",
    "batch_size=1,\n",
    "seed=42,\n",
    "shuffle=False,\n",
    "class_mode=None,\n",
    "target_size=(200,200))"
   ]
  },
  {
   "cell_type": "code",
   "execution_count": 9,
   "id": "06e0d5ab",
   "metadata": {},
   "outputs": [
    {
     "name": "stdout",
     "output_type": "stream",
     "text": [
      "Model: \"sequential\"\n",
      "_________________________________________________________________\n",
      "Layer (type)                 Output Shape              Param #   \n",
      "=================================================================\n",
      "conv2d (Conv2D)              (None, 200, 200, 32)      896       \n",
      "_________________________________________________________________\n",
      "activation (Activation)      (None, 200, 200, 32)      0         \n",
      "_________________________________________________________________\n",
      "conv2d_1 (Conv2D)            (None, 198, 198, 32)      9248      \n",
      "_________________________________________________________________\n",
      "activation_1 (Activation)    (None, 198, 198, 32)      0         \n",
      "_________________________________________________________________\n",
      "max_pooling2d (MaxPooling2D) (None, 99, 99, 32)        0         \n",
      "_________________________________________________________________\n",
      "dropout (Dropout)            (None, 99, 99, 32)        0         \n",
      "_________________________________________________________________\n",
      "conv2d_2 (Conv2D)            (None, 99, 99, 64)        18496     \n",
      "_________________________________________________________________\n",
      "activation_2 (Activation)    (None, 99, 99, 64)        0         \n",
      "_________________________________________________________________\n",
      "conv2d_3 (Conv2D)            (None, 97, 97, 64)        36928     \n",
      "_________________________________________________________________\n",
      "activation_3 (Activation)    (None, 97, 97, 64)        0         \n",
      "_________________________________________________________________\n",
      "max_pooling2d_1 (MaxPooling2 (None, 48, 48, 64)        0         \n",
      "_________________________________________________________________\n",
      "dropout_1 (Dropout)          (None, 48, 48, 64)        0         \n",
      "_________________________________________________________________\n",
      "flatten (Flatten)            (None, 147456)            0         \n",
      "_________________________________________________________________\n",
      "dense (Dense)                (None, 512)               75497984  \n",
      "_________________________________________________________________\n",
      "activation_4 (Activation)    (None, 512)               0         \n",
      "_________________________________________________________________\n",
      "dropout_2 (Dropout)          (None, 512)               0         \n",
      "_________________________________________________________________\n",
      "dense_1 (Dense)              (None, 7)                 3591      \n",
      "=================================================================\n",
      "Total params: 75,567,143\n",
      "Trainable params: 75,567,143\n",
      "Non-trainable params: 0\n",
      "_________________________________________________________________\n"
     ]
    }
   ],
   "source": [
    "# Model from online example with image classification of animals\n",
    "model = Sequential()\n",
    "model.add(Conv2D(32, (3, 3), padding='same',\n",
    "                 input_shape=(200,200,3)))\n",
    "model.add(Activation('relu'))\n",
    "model.add(Conv2D(32, (3, 3)))\n",
    "model.add(Activation('relu'))\n",
    "model.add(MaxPooling2D(pool_size=(2, 2)))\n",
    "model.add(Dropout(0.25))\n",
    "\n",
    "model.add(Conv2D(64, (3, 3), padding='same'))\n",
    "model.add(Activation('relu'))\n",
    "model.add(Conv2D(64, (3, 3)))\n",
    "model.add(Activation('relu'))\n",
    "model.add(MaxPooling2D(pool_size=(2, 2)))\n",
    "model.add(Dropout(0.25))\n",
    "\n",
    "model.add(Flatten())\n",
    "model.add(Dense(512))\n",
    "model.add(Activation('relu'))\n",
    "model.add(Dropout(0.5))\n",
    "\n",
    "model.add(Dense(7, activation='softmax')) # always want last layer to output same number of categories\n",
    "model.compile(optimizer='adam', loss=\"categorical_crossentropy\", metrics=[\"accuracy\"])\n",
    "model.summary()\n"
   ]
  },
  {
   "cell_type": "code",
   "execution_count": 10,
   "id": "6ebf1941",
   "metadata": {},
   "outputs": [],
   "source": [
    "# Me trying to implement CNN from paper\n",
    "# model = Sequential()\n",
    "# model.add(Conv2D(32, (3, 3), padding='same',\n",
    "#                  input_shape=(200,200,3)))\n",
    "# model.add(Dense(7, activation='softmax')) # always want last layer to output same number of categories\n",
    "# model.add(Dense(3))\n",
    "# model.add(Activation('relu'))\n",
    "# model.add(Dense(24))\n",
    "\n",
    "# model.add(MaxPooling2D(pool_size=(3, 3)))\n",
    "# model.add(Activation('relu'))\n",
    "# model.add(Conv2D(64, (3, 3), padding='same'))\n",
    "# model.add(Dense(7, activation='softmax')) # always want last layer to output same number of categories\n",
    "\n",
    "\n",
    "# model.compile(optimizer='adam', loss=\"categorical_crossentropy\", metrics=[\"accuracy\"])\n",
    "# model.summary()\n"
   ]
  },
  {
   "cell_type": "code",
   "execution_count": 11,
   "id": "7cc7ce69",
   "metadata": {},
   "outputs": [],
   "source": [
    "# '''Oxford’s Visual Geometry Group. VGG6 is a very \n",
    "# simple network that performs well in traditional \n",
    "# image classification competitions \n",
    "# (e.g. those using the ImageNet data)'''\n",
    "\n",
    "# def vgg6(input_shape=(21, 21, 1), n_classes: int = 2):\n",
    "#     \"\"\"\n",
    "#         VGG6\n",
    "#     :param input_shape:\n",
    "#     :param n_classes:\n",
    "#     :return:\n",
    "#     \"\"\"\n",
    "\n",
    "#     model = tf.keras.models.Sequential(name='VGG6')\n",
    "#     # input: 21x21 images with 1 channel -> (21, 21, 1) tensors.\n",
    "#     # this applies 16 convolution filters of size 3x3 each.\n",
    "#     model.add(tf.keras.layers.Conv2D(16, (3, 3), activation='relu', input_shape=input_shape, name='conv1'))\n",
    "#     model.add(tf.keras.layers.Conv2D(16, (3, 3), activation='relu', name='conv2'))\n",
    "#     model.add(tf.keras.layers.MaxPooling2D(pool_size=(2, 2)))\n",
    "#     model.add(tf.keras.layers.Dropout(0.25))\n",
    "\n",
    "#     model.add(tf.keras.layers.Conv2D(32, (3, 3), activation='relu', name='conv3'))\n",
    "#     model.add(tf.keras.layers.Conv2D(32, (3, 3), activation='relu', name='conv4'))\n",
    "#     model.add(tf.keras.layers.BatchNormalization(axis = 3, name = 'bn_2'))\n",
    "#     model.add(tf.keras.layers.MaxPooling2D(pool_size=(4, 4)))\n",
    "#     model.add(tf.keras.layers.Dropout(0.25))\n",
    "\n",
    "#     model.add(tf.keras.layers.Flatten())\n",
    "\n",
    "#     model.add(tf.keras.layers.Dense(256, activation='relu', name='fc_1'))\n",
    "#     model.add(tf.keras.layers.Dropout(0.5))\n",
    "#     # output layer\n",
    "#     activation = 'sigmoid' if n_classes == 1 else 'softmax'\n",
    "#     model.add(tf.keras.layers.Dense(n_classes, activation=activation, name='fc_out'))\n",
    "\n",
    "#     return model\n"
   ]
  },
  {
   "cell_type": "code",
   "execution_count": 12,
   "id": "43787299",
   "metadata": {},
   "outputs": [],
   "source": [
    "# vgg_model = vgg6()\n",
    "# vgg_model.compile(loss='categorical_crossentropy', optimizer='sgd', metrics=['accuracy'])\n",
    "# n_epochs=15\n",
    "# vgg_model.summary()\n"
   ]
  },
  {
   "cell_type": "code",
   "execution_count": 13,
   "id": "6982bece",
   "metadata": {},
   "outputs": [],
   "source": [
    "# vgg_model_history = vgg_model.fit(data_train, class_train, epochs=n_epochs, batch_size=1024, verbose=2, \n",
    "#                                   validation_data=(data_val, class_val), shuffle=True)\n",
    "# classes = vgg_model.predict(data_test)\n",
    "\n",
    "# vgg_model_history = vgg_model.fit(train_generator, epochs = 5, verbose = 2, validation_data = valid_generator, shuffle = True)\n",
    "# STEP_SIZE_TRAIN=train_generator.n//train_generator.batch_size\n",
    "# STEP_SIZE_VALID=valid_generator.n//valid_generator.batch_size\n",
    "# STEP_SIZE_TEST=test_generator.n//test_generator.batch_size\n",
    "# vgg_model_history = vgg_model.fit_generator(generator=train_generator,\n",
    "#                     steps_per_epoch=STEP_SIZE_TRAIN,\n",
    "#                     validation_data=valid_generator,\n",
    "#                     validation_steps=STEP_SIZE_VALID,\n",
    "#                     epochs=10\n",
    "# )"
   ]
  },
  {
   "cell_type": "code",
   "execution_count": 15,
   "id": "829e6fcd",
   "metadata": {},
   "outputs": [],
   "source": [
    "# # plot the confusion matrix\n",
    "# plot_confusion_matrix(np.argmax(class_test,axis=1), np.argmax(classes,axis=1), normalize=True,\n",
    "#                       title='Normalized confusion matrix')"
   ]
  },
  {
   "cell_type": "code",
   "execution_count": 16,
   "id": "40f1f481",
   "metadata": {},
   "outputs": [],
   "source": [
    "# # plot the training history\n",
    "# plot_model_history(vgg_model_history)"
   ]
  },
  {
   "cell_type": "code",
   "execution_count": 17,
   "id": "84fd0ff7",
   "metadata": {},
   "outputs": [],
   "source": [
    "# # plot example classifications\n",
    "# plot_image_array(data_val, figsize=[16,10], subtitle=True, classes=classes, class_true=class_test)"
   ]
  },
  {
   "cell_type": "code",
   "execution_count": 18,
   "id": "00175cfa",
   "metadata": {},
   "outputs": [
    {
     "name": "stdout",
     "output_type": "stream",
     "text": [
      "Epoch 1/5\n",
      "2914/2914 [==============================] - 51s 16ms/step - loss: 1.4251 - accuracy: 0.5436 - val_loss: 1.3213 - val_accuracy: 0.5540\n",
      "Epoch 2/5\n",
      "2914/2914 [==============================] - 47s 16ms/step - loss: 1.3773 - accuracy: 0.5443 - val_loss: 1.3101 - val_accuracy: 0.5540\n",
      "Epoch 3/5\n",
      "2914/2914 [==============================] - 47s 16ms/step - loss: 1.3627 - accuracy: 0.5443 - val_loss: 1.3213 - val_accuracy: 0.5540\n",
      "Epoch 4/5\n",
      "2914/2914 [==============================] - 47s 16ms/step - loss: 1.3604 - accuracy: 0.5443 - val_loss: 1.3142 - val_accuracy: 0.5540\n",
      "Epoch 5/5\n",
      "2914/2914 [==============================] - 47s 16ms/step - loss: 1.3631 - accuracy: 0.5443 - val_loss: 1.3178 - val_accuracy: 0.5540\n"
     ]
    },
    {
     "data": {
      "text/plain": [
       "<keras.callbacks.History at 0x2881614ed90>"
      ]
     },
     "execution_count": 18,
     "metadata": {},
     "output_type": "execute_result"
    }
   ],
   "source": [
    "STEP_SIZE_TRAIN=train_generator.n//train_generator.batch_size\n",
    "STEP_SIZE_VALID=valid_generator.n//valid_generator.batch_size\n",
    "STEP_SIZE_TEST=test_generator.n//test_generator.batch_size\n",
    "# model.fit_generator(generator=train_generator,\n",
    "#                     steps_per_epoch=STEP_SIZE_TRAIN,\n",
    "#                     validation_data=valid_generator,\n",
    "#                     validation_steps=STEP_SIZE_VALID,\n",
    "#                     epochs=5\n",
    "# )\n",
    "model.fit(train_generator,\n",
    "        steps_per_epoch=STEP_SIZE_TRAIN,\n",
    "        validation_data=valid_generator,\n",
    "        validation_steps=STEP_SIZE_VALID,\n",
    "        epochs=5\n",
    ")\n"
   ]
  },
  {
   "cell_type": "code",
   "execution_count": 19,
   "id": "c4b4d8a1",
   "metadata": {},
   "outputs": [
    {
     "name": "stdout",
     "output_type": "stream",
     "text": [
      "1088/1088 [==============================] - 4s 4ms/step - loss: 1.3237 - accuracy: 0.5515\n"
     ]
    },
    {
     "data": {
      "text/plain": [
       "[1.3236500024795532, 0.5514705777168274]"
      ]
     },
     "execution_count": 19,
     "metadata": {},
     "output_type": "execute_result"
    }
   ],
   "source": [
    "model.evaluate(valid_generator,\n",
    "steps=STEP_SIZE_TEST)\n",
    "\n",
    "# Use new method for batches - Model.evaluate seems to use the data generator"
   ]
  },
  {
   "cell_type": "code",
   "execution_count": 20,
   "id": "964a151b",
   "metadata": {},
   "outputs": [
    {
     "name": "stdout",
     "output_type": "stream",
     "text": [
      "(1, 200, 200, 3)\n",
      "[[0. 1. 0. 0. 0. 0. 0.]]\n"
     ]
    }
   ],
   "source": [
    "# self verify -- TODO\n",
    "\n",
    "# img = np.expand_dims(img,0)\n",
    "# result = cnn.predict(img)\n",
    "\n",
    "testImg = load_img('SDSS1/sdss_ra=49.2355_dec=41.5722.jpeg')\n",
    "testImg = np.expand_dims(testImg,0)\n",
    "print(np.shape(testImg))\n",
    "x = model.predict(testImg)\n",
    "\n",
    "x = x.round()\n",
    "print(x) # thinks the image is ETG"
   ]
  },
  {
   "cell_type": "code",
   "execution_count": 21,
   "id": "d7347d2a",
   "metadata": {},
   "outputs": [
    {
     "data": {
      "text/plain": [
       "'Likely cluster or background edge-on disk galaxy'"
      ]
     },
     "execution_count": 21,
     "metadata": {},
     "output_type": "execute_result"
    }
   ],
   "source": [
    "df0[21][0]"
   ]
  },
  {
   "cell_type": "code",
   "execution_count": 22,
   "id": "f690bdee",
   "metadata": {},
   "outputs": [
    {
     "name": "stdout",
     "output_type": "stream",
     "text": [
      "1435\n"
     ]
    }
   ],
   "source": [
    "## Confusion matrix of 7 classes - the diagonal is the good result, matching \n",
    "\n",
    "Y_pred = model.predict(valid_generator, test_generator.n // test_generator.batch_size +1)\n",
    "y_pred = np.argmax(Y_pred, axis=1)\n",
    "\n",
    "print(len(Y_pred))\n",
    "# cm = confusion_matrix(y_test, y_pred)\n",
    "# labels = le.classes_\n",
    "\n",
    "# isp = ConfusionMatrixDisplay(confusion_matrix=cm, display_labels=labels)\n",
    "\n",
    "# disp.plot(cmap=plt.cm.Blues)\n",
    "# plt.show()\n"
   ]
  },
  {
   "cell_type": "code",
   "execution_count": 28,
   "id": "323e3faf",
   "metadata": {},
   "outputs": [
    {
     "name": "stdout",
     "output_type": "stream",
     "text": [
      "[[  0 111   0   0   0   0   0]\n",
      " [  0 795   0   0   0   0   0]\n",
      " [  0 300   0   0   0   0   0]\n",
      " [  0  80   0   0   0   0   0]\n",
      " [  0   7   0   0   0   0   0]\n",
      " [  0  16   0   0   0   0   0]\n",
      " [  0 126   0   0   0   0   0]]\n",
      "                                                   precision    recall  f1-score   support\n",
      "\n",
      "                        Cluster or background LTG       0.00      0.00      0.00       111\n",
      "       Likely background ETG or unresolved source       0.55      1.00      0.71       795\n",
      " Likely cluster or background edge-on disk galaxy       0.00      0.00      0.00       300\n",
      "                   Likely dE/ETGcluster candidate       0.00      0.00      0.00        80\n",
      "                            Likely merging system       0.00      0.00      0.00         7\n",
      "                 Possible dE/ETGcluster candidate       0.00      0.00      0.00        16\n",
      "background galaxy with possibly weak substructure       0.00      0.00      0.00       126\n",
      "\n",
      "                                         accuracy                           0.55      1435\n",
      "                                        macro avg       0.08      0.14      0.10      1435\n",
      "                                     weighted avg       0.31      0.55      0.40      1435\n",
      "\n"
     ]
    },
    {
     "name": "stderr",
     "output_type": "stream",
     "text": [
      "C:\\Users\\Jason\\anaconda3\\envs\\tensorflow_gpu\\lib\\site-packages\\sklearn\\metrics\\_classification.py:1327: UndefinedMetricWarning: Precision and F-score are ill-defined and being set to 0.0 in labels with no predicted samples. Use `zero_division` parameter to control this behavior.\n",
      "  _warn_prf(average, modifier, msg_start, len(result))\n",
      "C:\\Users\\Jason\\anaconda3\\envs\\tensorflow_gpu\\lib\\site-packages\\sklearn\\metrics\\_classification.py:1327: UndefinedMetricWarning: Precision and F-score are ill-defined and being set to 0.0 in labels with no predicted samples. Use `zero_division` parameter to control this behavior.\n",
      "  _warn_prf(average, modifier, msg_start, len(result))\n",
      "C:\\Users\\Jason\\anaconda3\\envs\\tensorflow_gpu\\lib\\site-packages\\sklearn\\metrics\\_classification.py:1327: UndefinedMetricWarning: Precision and F-score are ill-defined and being set to 0.0 in labels with no predicted samples. Use `zero_division` parameter to control this behavior.\n",
      "  _warn_prf(average, modifier, msg_start, len(result))\n"
     ]
    }
   ],
   "source": [
    "print(confusion_matrix(valid_generator.classes, y_pred))\n",
    "print(classification_report(valid_generator.classes, y_pred, target_names=le.classes_))\n"
   ]
  },
  {
   "cell_type": "code",
   "execution_count": null,
   "id": "b13787c7",
   "metadata": {},
   "outputs": [],
   "source": []
  },
  {
   "cell_type": "code",
   "execution_count": null,
   "id": "2879d7ed",
   "metadata": {},
   "outputs": [],
   "source": []
  }
 ],
 "metadata": {
  "kernelspec": {
   "display_name": "Python 3 (ipykernel)",
   "language": "python",
   "name": "python3"
  },
  "language_info": {
   "codemirror_mode": {
    "name": "ipython",
    "version": 3
   },
   "file_extension": ".py",
   "mimetype": "text/x-python",
   "name": "python",
   "nbconvert_exporter": "python",
   "pygments_lexer": "ipython3",
   "version": "3.9.12"
  }
 },
 "nbformat": 4,
 "nbformat_minor": 5
}
