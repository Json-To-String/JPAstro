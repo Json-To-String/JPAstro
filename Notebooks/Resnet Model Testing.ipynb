{
 "cells": [
  {
   "cell_type": "markdown",
   "id": "7bb119c3",
   "metadata": {},
   "source": [
    "Filename is pcc_resnet50_X.h5 (where X is model number)\n"
   ]
  },
  {
   "cell_type": "code",
   "execution_count": null,
   "id": "b7f50d71",
   "metadata": {},
   "outputs": [],
   "source": [
    "from keras.models import load_model\n",
    "# from keras.preprocessing import image\n",
    "# import keras.utils as image\n",
    "# from keras.utils import load_img, img_to_array\n",
    "from tensorflow.keras.utils import load_img, img_to_array\n",
    "import tensorflow as tf\n",
    "import seaborn as sns\n",
    "import os\n",
    "import glob\n",
    "import numpy as np\n",
    "import matplotlib.pyplot as plt\n",
    "import SciServer.CasJobs as CasJobs # query with CasJobs, the primary database for the SDSS\n",
    "import SciServer.SkyServer as SkyServer # show individual objects through SkyServer\n",
    "import SciServer.SciDrive\n",
    "import warnings\n",
    "warnings.filterwarnings('ignore')\n",
    "import pandas as pd\n",
    "from PIL import Image\n",
    "print(tf.config.list_physical_devices('GPU'))\n"
   ]
  },
  {
   "cell_type": "code",
   "execution_count": null,
   "id": "02164a2f-f84c-4d8f-a2aa-231c7e3e2b65",
   "metadata": {},
   "outputs": [],
   "source": [
    "from sklearn.metrics import classification_report, confusion_matrix\n",
    "def plot_confusion_matrix(y_true, y_pred, \n",
    "                          normalize=False,\n",
    "                          title=None,\n",
    "                          cmap=plt.cm.Blues):\n",
    "    \"\"\"\n",
    "    From scikit-learn: plots a confusion matrix.\n",
    "    Normalization can be applied by setting `normalize=True`.\n",
    "    \"\"\"\n",
    "    if not title:\n",
    "        if normalize:\n",
    "            title = 'Normalized confusion matrix'\n",
    "        else:\n",
    "            title = 'Confusion matrix, without normalization'\n",
    "\n",
    "    # Compute confusion matrix\n",
    "    cm = confusion_matrix(y_true, y_pred)\n",
    "\n",
    "    if normalize:\n",
    "        cm = cm.astype('float') / cm.sum(axis=1)[:, np.newaxis]\n",
    "\n",
    "    fig, ax = plt.subplots()\n",
    "    im = ax.imshow(cm, interpolation='nearest', cmap=cmap)\n",
    "    ax.figure.colorbar(im, ax=ax)\n",
    "\n",
    "    ax.set(xticks=np.arange(cm.shape[1]),\n",
    "           yticks=np.arange(cm.shape[0]),\n",
    "           # ... and label them with the respective list entries\n",
    "           title=title,\n",
    "           ylabel='True label',\n",
    "           xlabel='Predicted label')\n",
    "\n",
    "    # Rotate the tick labels and set their alignment.\n",
    "    plt.setp(ax.get_xticklabels(), rotation=45, ha=\"right\",\n",
    "             rotation_mode=\"anchor\")\n",
    "\n",
    "    #fixes \"squishing of plot\"\n",
    "    plt.ylim([1.5, -.5]) \n",
    "    \n",
    "    # Loop over data dimensions and create text annotations.\n",
    "    fmt = '.2f' if normalize else 'd'\n",
    "    thresh = cm.max() / 2.\n",
    "    for i in range(cm.shape[0]):\n",
    "        for j in range(cm.shape[1]):\n",
    "            ax.text(j, i, format(cm[i, j], fmt),\n",
    "                    ha=\"center\", va=\"center\",\n",
    "                    color=\"white\" if cm[i, j] > thresh else \"black\")\n",
    "    fig.tight_layout()\n"
   ]
  },
  {
   "cell_type": "markdown",
   "id": "9903373b",
   "metadata": {},
   "source": [
    "https://stackoverflow.com/questions/43469281/how-to-predict-input-image-using-trained-model-in-keras"
   ]
  },
  {
   "cell_type": "code",
   "execution_count": null,
   "id": "665347cf",
   "metadata": {},
   "outputs": [],
   "source": [
    "# testDir = 'clean-flags-big-sweep'\n",
    "# testImgs = glob.glob(os.path.join(testDir, '*.png'))\n",
    "# img_width, img_height = 200, 200\n",
    "\n",
    "# predictions = []\n",
    "\n",
    "# for ind, im in enumerate(testImgs):\n",
    "# #     print(ind, im)\n",
    "# #     imPaths.append(im)\n",
    "#     img = image.load_img(im, target_size=(img_width, img_height))\n",
    "#     x = image.img_to_array(img)\n",
    "#     ex = np.expand_dims(x, axis = 0)\n",
    "#     images = np.vstack([ex])\n",
    "    \n",
    "#     pred = cnn_model.predict(ex)\n",
    "#     pred = np.argmax(pred, axis = 1)\n",
    "#     predictions.append(pred[0])\n",
    "    \n",
    "# #     if ind > 4:\n",
    "# #         break"
   ]
  },
  {
   "cell_type": "code",
   "execution_count": null,
   "id": "56641ea8",
   "metadata": {},
   "outputs": [],
   "source": [
    "# mkdir bigSweepPredictions"
   ]
  },
  {
   "cell_type": "code",
   "execution_count": null,
   "id": "d582446f",
   "metadata": {},
   "outputs": [],
   "source": [
    "# predictDir = 'bigSweepPredictions'\n",
    "\n",
    "# for ind, im in enumerate(testImgs):\n",
    "    \n",
    "#     img = image.load_img(im, target_size=(img_width, img_height))\n",
    "    \n",
    "#     plt.figure()\n",
    "#     plt.imshow(img)\n",
    "#     plt.title(f'Predicted as {predictions[ind]}')\n",
    "    \n",
    "#     basename = os.path.basename(im)\n",
    "#     filename = os.path.join(predictDir, f'{str(basename[:-4])}_label={str(predictions[ind])}')\n",
    "# #     print(filename)\n",
    "#     plt.savefig(f'{filename}.png')\n",
    "#     plt.close()"
   ]
  },
  {
   "cell_type": "code",
   "execution_count": null,
   "id": "c4dc2d7e-ae5a-4f8c-88c9-e27d31e303a1",
   "metadata": {},
   "outputs": [],
   "source": [
    "# join on specObj to see if missmatch b/t PhotoObj type and SpecObj type\n",
    "# also want to see if objects in PCC appear\n",
    "\n",
    "radialSearchSpec = f'SELECT TOP 300 p.objID, p.ra, p.dec, \\\n",
    " p.modelMag_r, \\\n",
    " p.modelMag_u - p.modelMag_g as u_g, \\\n",
    " p.modelMag_g - p.modelMag_z as g_z, \\\n",
    " p.modelMag_g - p.modelMag_r as g_r, \\\n",
    " p.modelMag_g - p.modelMag_i as g_i, \\\n",
    " p.modelMag_r - p.modelMag_i as r_i, \\\n",
    " p.modelMag_r - p.modelMag_z as r_z, \\\n",
    " p.petroRad_r, p.flags, dbo.fPhotoFlagsN(p.flags) as flag_text, \\\n",
    " s.specObjID, s.z, s.zErr, s.zWarning, s.class, s.subClass, \\\n",
    " N.distance \\\n",
    "FROM\\\n",
    " photoObj as p \\\n",
    "JOIN SpecObjAll s ON p.objID = s.bestObjID \\\n",
    "JOIN dbo.fGetNearbyObjEq(49.9467, 41.5131, 45) as N ON N.objID = p.objID \\\n",
    "WHERE \\\n",
    " p.modelMag_r > -14.3*(p.modelMag_g - p.modelMag_z) + 37 \\\n",
    " and p.modelMag_r < -14.3*(p.modelMag_g - p.modelMag_z) + 46 \\\n",
    " and p.type = 3 \\\n",
    "ORDER BY distance'\n",
    "\n",
    "radDf = CasJobs.executeQuery(radialSearchSpec, \"dr16\")\n",
    "# radDf"
   ]
  },
  {
   "cell_type": "code",
   "execution_count": null,
   "id": "ee93e5ac-a3ee-4cd2-b666-66e1835384d9",
   "metadata": {},
   "outputs": [],
   "source": [
    "plt.hist(radDf['z'], bins = 40)"
   ]
  },
  {
   "cell_type": "markdown",
   "id": "5cb4f2c4-c7cd-4d6d-9276-091c1c847038",
   "metadata": {},
   "source": [
    "Cluster member redshift range 0.01 < spec-z < 0.033 \\\n",
    "Stars spec-z < 0.01 \\\n",
    "Background spec-z > 0.033"
   ]
  },
  {
   "cell_type": "code",
   "execution_count": null,
   "id": "2d32edf5-8d35-4865-a39b-57f76f46b778",
   "metadata": {},
   "outputs": [],
   "source": [
    "def labeler(num):\n",
    "    if (num > 0.01 and num < 0.033):\n",
    "        return(1) # members\n",
    "        \n",
    "    else:\n",
    "        return(0) # background\n",
    "        \n",
    "\n",
    "# def labeler(num):\n",
    "#     if num > 0.033:\n",
    "#         return(0) # background\n",
    "        \n",
    "#     elif num > 0.01 and num < 0.033:\n",
    "#         return(1) # members\n",
    "        \n",
    "#     else:\n",
    "#         return(2) # stars"
   ]
  },
  {
   "cell_type": "code",
   "execution_count": null,
   "id": "c46f94ea",
   "metadata": {},
   "outputs": [],
   "source": [
    "SkyServer_DataRelease = 'DR16'\n",
    "img_width, img_height = 200, 200\n",
    "\n",
    "# # img_array = SkyServer.getJpegImgCutout(ra=197.614455642896, dec=18.438168853724, width=200, height=200, scale=0.1, \n",
    "# #                                  dataRelease=SkyServer_DataRelease)\n",
    "# img_array = SkyServer.getJpegImgCutout(ra=49.9955, dec=41.2136, width=200, height=200, scale=0.1, \n",
    "#                                  dataRelease=SkyServer_DataRelease)\n",
    "\n",
    "# # outPicTemplate = f'{}'\n",
    "# img0 = Image.fromarray(img_array, 'RGB')\n",
    "# # img0.save(f'{outDir}/.png')\n",
    "# img0\n"
   ]
  },
  {
   "cell_type": "code",
   "execution_count": null,
   "id": "3fa7bbd3-c287-43ed-b265-e981a8479c98",
   "metadata": {},
   "outputs": [],
   "source": []
  },
  {
   "cell_type": "code",
   "execution_count": null,
   "id": "7e280b20-bf1f-48ae-b3cb-92af246efa1e",
   "metadata": {},
   "outputs": [],
   "source": [
    "# rm -rf /Radial-Search-2_2024\n",
    "# radDf.sort_values(by=['modelMag_r'])\n",
    "# threshold for the r-band -- the lower the brighter\n",
    "rmag_threshold = 17.3\n",
    "faint = np.where(radDf['modelMag_r'] >= rmag_threshold)\n",
    "faintDf = radDf.iloc[faint].copy()\n",
    "faintDf.sort_values(by = ['modelMag_r'])\n"
   ]
  },
  {
   "cell_type": "code",
   "execution_count": null,
   "id": "f0f5d653-3f98-4475-966d-60e156a1b3b4",
   "metadata": {},
   "outputs": [],
   "source": [
    "plt.hist(radDf['modelMag_r'])\n"
   ]
  },
  {
   "cell_type": "code",
   "execution_count": null,
   "id": "2be232af-632e-4df1-a92d-db6eb2543bcb",
   "metadata": {},
   "outputs": [],
   "source": [
    "### Populating Test set ###\n",
    "outDir = '..\\Images\\Radial-Search-2_2024'\n",
    "numImgs = radDf.shape[0]\n",
    "print(f'Search has {numImgs} images')\n",
    "\n",
    "# if len(outDir) == len(radDf['objID']):\n",
    "if len(glob.glob(os.path.join(outDir, '*.png'))) == numImgs:\n",
    "    print('Skipping populate')\n",
    "else:\n",
    "    for id, z, r, d in zip(radDf['objID'], radDf['z'], radDf['ra'], radDf['dec']):\n",
    "        img_array = SkyServer.getJpegImgCutout(ra=r, dec=d, width=img_width, height=img_height, scale=0.1, \n",
    "                                     dataRelease=SkyServer_DataRelease)\n",
    "        # print(f'{id}-label={labeler(z)}')\n",
    "        outPicTemplate = f'{id}-label={labeler(z)}.png'\n",
    "        \n",
    "        img0 = Image.fromarray(img_array, 'RGB')\n",
    "        img0.save(f'{outDir}/{outPicTemplate}')"
   ]
  },
  {
   "cell_type": "code",
   "execution_count": null,
   "id": "bb4a90ed-236c-424d-81fc-5ea5aa839675",
   "metadata": {},
   "outputs": [],
   "source": [
    "## Make outdir into a dataframe\n",
    "outDir = '..\\Images\\Radial-Search-2_2024'\n",
    "\n",
    "testFiles = glob.glob(os.path.join(outDir, '*'))\n",
    "testDf = pd.DataFrame({'files' : testFiles,\n",
    "                       'labels': [int(filename[-5:-4]) for filename in testFiles]})\n",
    "\n",
    "testDf"
   ]
  },
  {
   "cell_type": "code",
   "execution_count": null,
   "id": "a177d55f-1b11-47fb-a11c-57b7647d7957",
   "metadata": {},
   "outputs": [],
   "source": [
    "testDf.to_csv('testDf') # checking visually for label mismatch"
   ]
  },
  {
   "cell_type": "code",
   "execution_count": null,
   "id": "3b70b2a9-6c1a-44ff-a388-7995b0b51218",
   "metadata": {},
   "outputs": [],
   "source": [
    "models = glob.glob(os.path.join('..', 'Models', '*.h5'))\n",
    "print(models[-1])"
   ]
  },
  {
   "cell_type": "code",
   "execution_count": null,
   "id": "b379b8c7",
   "metadata": {},
   "outputs": [],
   "source": [
    "# # models = ['..\\Models\\pcc_resnet50_1.h5','..\\Models\\pcc_resnet50_2.h5','..\\Models\\pcc_resnet50_3.h5','..\\Models\\pcc_resnet50_4.h5','..\\Models\\pcc_resnet50_5.h5']\n",
    "\n",
    "# # modelStr = 'pcc_resnet50_3.h5'\n",
    "# # for modelStr in models:\n",
    "# for modelStr in models[0]:\n",
    "#     print(modelStr)\n",
    "#     cnn_model = load_model(modelStr)\n",
    "#     cnn_model.load_weights\n",
    "#     # cnn_model.summary()\n",
    "#     # print(testFiles)\n",
    "#     predictions = []\n",
    "    \n",
    "#     for ind, im in enumerate(testDf['files']):\n",
    "#         img = load_img(im, target_size=(img_width, img_height))\n",
    "#         x = img_to_array(img)\n",
    "#         ex = np.expand_dims(x, axis = 0)\n",
    "#         images = np.vstack([ex])\n",
    "        \n",
    "#         pred = cnn_model.predict(ex)\n",
    "#         # print(pred)\n",
    "#         pred = np.argmax(pred, axis = 1)\n",
    "#         predictions.append(pred[0])\n",
    "#         # print(im, pred[0])\n",
    "#         # print(f'image is {im[-5:-4]}, model predicts {pred[0]}')\n",
    "        \n",
    "#         # if ind > 4:\n",
    "#         #     break\n",
    "    \n",
    "#     # cf_mtx = confusion_matrix(Y_true, y_pred)\n",
    "#     Y_true = testDf['labels'].to_list()[:len(predictions)]\n",
    "#     cf_mtx = confusion_matrix(Y_true, predictions)\n",
    "    \n",
    "#     group_counts = [\"{0:0.0f}\".format(value) for value in cf_mtx.flatten()]\n",
    "#     group_percentages = [\"{0:.2%}\".format(value) for value in cf_mtx.flatten()/np.sum(cf_mtx)]\n",
    "#     box_labels = [f\"{v1}\\n({v2})\" for v1, v2 in zip(group_counts, group_percentages)]\n",
    "#     box_labels = np.asarray(box_labels).reshape(2, 2)\n",
    "    \n",
    "#     plt.figure(figsize = (12, 10))\n",
    "#     # # sns.heatmap(cf_mtx, xticklabels=labels.values(), yticklabels=labels.values(),\n",
    "#     # #            cmap=\"YlGnBu\", fmt=\"\", annot=box_labels)\n",
    "#     sns.heatmap(cf_mtx, cmap=\"YlGnBu\", fmt=\"\", annot=box_labels)\n",
    "#     # sns.heatmap(cf_mtx, cmap=\"YlGnBu\", fmt=\"\")\n",
    "    \n",
    "#     plt.title(f'performance of {modelStr}')\n",
    "#     plt.xlabel('Predicted Classes')\n",
    "#     plt.ylabel('True Classes')\n",
    "#     plt.savefig(f'{modelStr[:-3]}-performance.png')\n",
    "#     plt.show()"
   ]
  },
  {
   "cell_type": "code",
   "execution_count": null,
   "id": "2f465e15-4f0a-4f54-81a0-6e0352e50e79",
   "metadata": {},
   "outputs": [],
   "source": [
    "testDf"
   ]
  },
  {
   "cell_type": "code",
   "execution_count": null,
   "id": "078aa7d0-cfa9-4e11-8329-7ac7d7332bbb",
   "metadata": {},
   "outputs": [],
   "source": [
    "modelStr = models[-1]\n",
    "print(modelStr)\n",
    "cnn_model = load_model(modelStr)\n",
    "cnn_model.load_weights\n",
    "# cnn_model.summary()\n",
    "# # print(testFiles)\n",
    "y_pred = []\n",
    "\n",
    "for ind, im in enumerate(testDf['files']):\n",
    "    img = load_img(im, target_size=(img_width, img_height))\n",
    "    x = img_to_array(img)\n",
    "    ex = np.expand_dims(x, axis = 0)\n",
    "    images = np.vstack([ex])\n",
    "    \n",
    "    pred = cnn_model.predict(ex)\n",
    "    # print(pred)\n",
    "    pred = np.argmax(pred, axis = 1)\n",
    "    y_pred.append(pred[0])\n",
    "    # print(im, pred[0])\n",
    "    # print(f'image is {im[-5:-4]}, model predicts {pred[0]}')\n",
    "    \n",
    "    # if ind > 4:\n",
    "    #     break\n",
    "\n",
    "# cf_mtx = confusion_matrix(Y_true, y_pred)\n",
    "Y_true = testDf['labels'].to_list()[:len(y_pred)]\n",
    "cf_mtx = confusion_matrix(Y_true, y_pred)\n",
    "\n",
    "group_counts = [\"{0:0.0f}\".format(value) for value in cf_mtx.flatten()]\n",
    "group_percentages = [\"{0:.2%}\".format(value) for value in cf_mtx.flatten()/np.sum(cf_mtx)]\n",
    "box_labels = [f\"{v1}\\n({v2})\" for v1, v2 in zip(group_counts, group_percentages)]\n",
    "box_labels = np.asarray(box_labels).reshape(2, 2)\n",
    "\n",
    "plt.figure(figsize = (12, 10))\n",
    "# # sns.heatmap(cf_mtx, xticklabels=labels.values(), yticklabels=labels.values(),\n",
    "# #            cmap=\"YlGnBu\", fmt=\"\", annot=box_labels)\n",
    "sns.heatmap(cf_mtx, cmap=\"YlGnBu\", fmt=\"\", annot=box_labels)\n",
    "# sns.heatmap(cf_mtx, cmap=\"YlGnBu\", fmt=\"\")\n",
    "\n",
    "plt.title(f'performance of {modelStr}')\n",
    "plt.xlabel('Predicted Classes')\n",
    "plt.ylabel('True Classes')\n",
    "plt.savefig(f'{modelStr[:-3]}-performance.png')\n",
    "plt.show()\n",
    "\n",
    "print(classification_report(Y_true, y_pred, labels = [0, 1]))"
   ]
  },
  {
   "cell_type": "code",
   "execution_count": null,
   "id": "8e8df6f3-2f33-4caa-8cdc-b0db44745992",
   "metadata": {},
   "outputs": [],
   "source": [
    "def checkBalance(df):\n",
    "    all_labels = df['labels']\n",
    "    all_labels = all_labels.tolist()\n",
    "    balance = df['labels'].value_counts()\n",
    "    print(balance)\n",
    "    for i in range(len(balance)):\n",
    "        print(f'{2*balance[i]*100/df.size:.2f} %')\n",
    "\n",
    "checkBalance(testDf)"
   ]
  },
  {
   "cell_type": "code",
   "execution_count": null,
   "id": "345f3e2a-c0b4-4d08-8409-16d5b3568291",
   "metadata": {},
   "outputs": [],
   "source": [
    "\n"
   ]
  },
  {
   "cell_type": "code",
   "execution_count": null,
   "id": "bc73fb54-4b09-466a-8643-fa621bfbaf76",
   "metadata": {},
   "outputs": [],
   "source": []
  }
 ],
 "metadata": {
  "kernelspec": {
   "display_name": "Python 3 (ipykernel)",
   "language": "python",
   "name": "python3"
  },
  "language_info": {
   "codemirror_mode": {
    "name": "ipython",
    "version": 3
   },
   "file_extension": ".py",
   "mimetype": "text/x-python",
   "name": "python",
   "nbconvert_exporter": "python",
   "pygments_lexer": "ipython3",
   "version": "3.9.16"
  },
  "widgets": {
   "application/vnd.jupyter.widget-state+json": {
    "state": {},
    "version_major": 2,
    "version_minor": 0
   }
  }
 },
 "nbformat": 4,
 "nbformat_minor": 5
}
