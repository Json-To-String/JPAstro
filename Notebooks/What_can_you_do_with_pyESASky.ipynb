{
 "cells": [
  {
   "cell_type": "markdown",
   "metadata": {},
   "source": [
    "<p style=\"font-weight: bold;text-align: center;font-size: 3em;color: #00338D\">What can you do with pyESASky?</p>"
   ]
  },
  {
   "cell_type": "markdown",
   "metadata": {},
   "source": [
    "This notebook shows examples of what a scientist may typically want to do within a Jupyter notebook using pyESASky, e.g:\n",
    "* Download and inspect data from ESASky (images, spectra, catalogues, ...)\n",
    "* Cross-match catalogues available through ESASky\n",
    "* Upload your own data to ESASky, e.g.: \n",
    "  * Cross-matched tables\n",
    "  * Vizier catalogues (astropy tables) \n",
    "  * User provided tables\n",
    "  * Footprints\n",
    "  * HiPS\n",
    "* Interact with ESASky Functionalities:\n",
    "  * Set the: FoV, HiPS\n",
    "  * Go to a target or coordinates\n",
    "  * Slide through a selection of HiPS\n",
    "  * See the observations, catalogues and publications count in the current FoV\n",
    "  * Load the data panel for observations, spectra and catalogues accessible in ESASky\n",
    "  * JWST planning tool\n",
    "  * Set the coordinates grid on and off"
   ]
  },
  {
   "cell_type": "code",
   "execution_count": 1,
   "metadata": {},
   "outputs": [],
   "source": [
    "# Import the required python modules:\n",
    "from pyesasky import ESASkyWidget\n",
    "from pyesasky import Catalogue\n",
    "from pyesasky import CatalogueDescriptor\n",
    "from pyesasky import CooFrame\n",
    "from pyesasky import ImgFormat\n",
    "from pyesasky import FootprintSet\n",
    "from pyesasky import FootprintSetDescriptor\n",
    "from pyesasky import MetadataDescriptor\n",
    "from pyesasky import MetadataType\n",
    "\n",
    "import pandas as pd"
   ]
  },
  {
   "cell_type": "code",
   "execution_count": 2,
   "metadata": {},
   "outputs": [],
   "source": [
    "# jupyter nbextension install --py pyesasky --sys-prefix\n",
    "# jupyter nbextension enable --py pyesasky --sys-prefix"
   ]
  },
  {
   "cell_type": "code",
   "execution_count": 3,
   "metadata": {},
   "outputs": [],
   "source": [
    "# Instantiate the pyESASky instance\n",
    "esasky = ESASkyWidget()"
   ]
  },
  {
   "cell_type": "markdown",
   "metadata": {},
   "source": [
    "All of the functions are now documented. Use the IPython ? magic to read about the function. Use tab to complete function names etc:"
   ]
  },
  {
   "cell_type": "code",
   "execution_count": 4,
   "metadata": {},
   "outputs": [
    {
     "data": {
      "text/plain": [
       "\u001b[1;31mSignature:\u001b[0m \u001b[0mESASkyWidget\u001b[0m\u001b[1;33m.\u001b[0m\u001b[0mgoToRADec\u001b[0m\u001b[1;33m(\u001b[0m\u001b[0mself\u001b[0m\u001b[1;33m,\u001b[0m \u001b[0mra\u001b[0m\u001b[1;33m,\u001b[0m \u001b[0mdec\u001b[0m\u001b[1;33m)\u001b[0m\u001b[1;33m\u001b[0m\u001b[1;33m\u001b[0m\u001b[0m\n",
       "\u001b[1;31mDocstring:\u001b[0m\n",
       "Moves the center of the view to the specified coordinate \n",
       "in current coordinate system\n",
       "\n",
       "Arguments:\n",
       "ra -- float or string in sexagesimal or decimal format\n",
       "dec -- float or string in sexagesimal or decimal format\n",
       "\u001b[1;31mFile:\u001b[0m      c:\\users\\jason\\anaconda3\\envs\\tf-gpu\\lib\\site-packages\\pyesasky\\pyesasky.py\n",
       "\u001b[1;31mType:\u001b[0m      function"
      ]
     },
     "metadata": {},
     "output_type": "display_data"
    }
   ],
   "source": [
    "?ESASkyWidget.goToRADec"
   ]
  },
  {
   "cell_type": "code",
   "execution_count": 5,
   "metadata": {
    "scrolled": true,
    "tags": []
   },
   "outputs": [
    {
     "data": {
      "application/vnd.jupyter.widget-view+json": {
       "model_id": "aa3e5bb4dbc94296835853825cf724e0",
       "version_major": 2,
       "version_minor": 0
      },
      "text/plain": [
       "ESASkyWidget(layout=Layout(align_self='stretch', height='400px'))"
      ]
     },
     "execution_count": 5,
     "metadata": {},
     "output_type": "execute_result"
    }
   ],
   "source": [
    "# Load the pyESASky instance\n",
    "esasky"
   ]
  },
  {
   "cell_type": "markdown",
   "metadata": {},
   "source": [
    "### Set custom height of the view"
   ]
  },
  {
   "cell_type": "code",
   "execution_count": 6,
   "metadata": {},
   "outputs": [],
   "source": [
    "esasky.setViewHeight('850px')"
   ]
  },
  {
   "cell_type": "markdown",
   "metadata": {},
   "source": [
    "### Go to a target name resolved against SIMBAD"
   ]
  },
  {
   "cell_type": "code",
   "execution_count": 7,
   "metadata": {},
   "outputs": [],
   "source": [
    "esasky.goToTargetName('COSMOS Field')"
   ]
  },
  {
   "cell_type": "markdown",
   "metadata": {},
   "source": [
    "### Go to RA and Dec (decimal degrees or sexagesimal format)"
   ]
  },
  {
   "cell_type": "code",
   "execution_count": 8,
   "metadata": {},
   "outputs": [],
   "source": [
    "esasky.goToRADec('150.11917', '+02.20583') #COSMOS Field"
   ]
  },
  {
   "cell_type": "markdown",
   "metadata": {},
   "source": [
    "### Set the Field of View in degrees"
   ]
  },
  {
   "cell_type": "code",
   "execution_count": 9,
   "metadata": {},
   "outputs": [],
   "source": [
    "esasky.setFoV(0.5)"
   ]
  },
  {
   "cell_type": "markdown",
   "metadata": {},
   "source": [
    "### Change the background HiPS to Herschel PACS colour"
   ]
  },
  {
   "cell_type": "code",
   "execution_count": 10,
   "metadata": {},
   "outputs": [],
   "source": [
    "esasky.setHiPS('Herschel PACS RGB 70, 160 micron')\n",
    "# type the following to see the available HiPS from ESASky:\n",
    "# esasky.getAvailableHiPS()"
   ]
  },
  {
   "cell_type": "markdown",
   "metadata": {},
   "source": [
    "<br />\n",
    "<p style=\"font-weight: bold;text-align: center;font-size: 2.5em;color: #00338D\">Download and inspect data from ESASky</p>"
   ]
  },
  {
   "cell_type": "markdown",
   "metadata": {},
   "source": [
    "### Information about the available data in the current field of view can be retrieved. For example the number of sources per catalogue:"
   ]
  },
  {
   "cell_type": "code",
   "execution_count": 11,
   "metadata": {},
   "outputs": [
    {
     "data": {
      "text/html": [
       "<div>\n",
       "<style scoped>\n",
       "    .dataframe tbody tr th:only-of-type {\n",
       "        vertical-align: middle;\n",
       "    }\n",
       "\n",
       "    .dataframe tbody tr th {\n",
       "        vertical-align: top;\n",
       "    }\n",
       "\n",
       "    .dataframe thead th {\n",
       "        text-align: right;\n",
       "    }\n",
       "</style>\n",
       "<table border=\"1\" class=\"dataframe\">\n",
       "  <thead>\n",
       "    <tr style=\"text-align: right;\">\n",
       "      <th></th>\n",
       "      <th>Count</th>\n",
       "    </tr>\n",
       "  </thead>\n",
       "  <tbody>\n",
       "    <tr>\n",
       "      <th>Hipparcos-2</th>\n",
       "      <td>0</td>\n",
       "    </tr>\n",
       "    <tr>\n",
       "      <th>Tycho-2</th>\n",
       "      <td>1</td>\n",
       "    </tr>\n",
       "    <tr>\n",
       "      <th>Gaia-DR3</th>\n",
       "      <td>679</td>\n",
       "    </tr>\n",
       "    <tr>\n",
       "      <th>PLATO asPIC1.1</th>\n",
       "      <td>7</td>\n",
       "    </tr>\n",
       "    <tr>\n",
       "      <th>Gaia-FPR</th>\n",
       "      <td>0</td>\n",
       "    </tr>\n",
       "    <tr>\n",
       "      <th>Herschel-SPSC-250</th>\n",
       "      <td>329</td>\n",
       "    </tr>\n",
       "    <tr>\n",
       "      <th>Planck-PCCS2-HFI</th>\n",
       "      <td>0</td>\n",
       "    </tr>\n",
       "    <tr>\n",
       "      <th>Planck-PCCS2-LFI</th>\n",
       "      <td>0</td>\n",
       "    </tr>\n",
       "    <tr>\n",
       "      <th>Planck-PSZ2</th>\n",
       "      <td>0</td>\n",
       "    </tr>\n",
       "    <tr>\n",
       "      <th>XMM-OM</th>\n",
       "      <td>1486</td>\n",
       "    </tr>\n",
       "    <tr>\n",
       "      <th>Herschel-HPPSC-070</th>\n",
       "      <td>0</td>\n",
       "    </tr>\n",
       "    <tr>\n",
       "      <th>2RXS</th>\n",
       "      <td>0</td>\n",
       "    </tr>\n",
       "    <tr>\n",
       "      <th>Fermi_4LAC-DR2</th>\n",
       "      <td>0</td>\n",
       "    </tr>\n",
       "    <tr>\n",
       "      <th>OU_Blazars</th>\n",
       "      <td>0</td>\n",
       "    </tr>\n",
       "    <tr>\n",
       "      <th>XMM-SLEW</th>\n",
       "      <td>0</td>\n",
       "    </tr>\n",
       "    <tr>\n",
       "      <th>XMM-EPIC</th>\n",
       "      <td>710</td>\n",
       "    </tr>\n",
       "    <tr>\n",
       "      <th>Herschel-HPPSC-100</th>\n",
       "      <td>570</td>\n",
       "    </tr>\n",
       "    <tr>\n",
       "      <th>LAMOST_MRS</th>\n",
       "      <td>120</td>\n",
       "    </tr>\n",
       "    <tr>\n",
       "      <th>Herschel-SPSC-350</th>\n",
       "      <td>121</td>\n",
       "    </tr>\n",
       "    <tr>\n",
       "      <th>AKARI-IRC-SC</th>\n",
       "      <td>0</td>\n",
       "    </tr>\n",
       "    <tr>\n",
       "      <th>Herschel-HPPSC-160</th>\n",
       "      <td>261</td>\n",
       "    </tr>\n",
       "    <tr>\n",
       "      <th>eROSITA-etaCha-hard</th>\n",
       "      <td>0</td>\n",
       "    </tr>\n",
       "    <tr>\n",
       "      <th>2WHSP</th>\n",
       "      <td>0</td>\n",
       "    </tr>\n",
       "    <tr>\n",
       "      <th>Planck-PCCS2E-HFI</th>\n",
       "      <td>0</td>\n",
       "    </tr>\n",
       "    <tr>\n",
       "      <th>eROSITA-etaCha-main</th>\n",
       "      <td>0</td>\n",
       "    </tr>\n",
       "    <tr>\n",
       "      <th>CHANDRA-SC2</th>\n",
       "      <td>355</td>\n",
       "    </tr>\n",
       "    <tr>\n",
       "      <th>Icecube</th>\n",
       "      <td>0</td>\n",
       "    </tr>\n",
       "    <tr>\n",
       "      <th>Fermi_3FHL</th>\n",
       "      <td>0</td>\n",
       "    </tr>\n",
       "    <tr>\n",
       "      <th>GLADE+</th>\n",
       "      <td>186</td>\n",
       "    </tr>\n",
       "    <tr>\n",
       "      <th>TwoMASS</th>\n",
       "      <td>288</td>\n",
       "    </tr>\n",
       "    <tr>\n",
       "      <th>Fermi_4FGL-DR2</th>\n",
       "      <td>0</td>\n",
       "    </tr>\n",
       "    <tr>\n",
       "      <th>HSC</th>\n",
       "      <td>112129</td>\n",
       "    </tr>\n",
       "    <tr>\n",
       "      <th>eROSITA-eFEDS-main</th>\n",
       "      <td>0</td>\n",
       "    </tr>\n",
       "    <tr>\n",
       "      <th>Spitzer</th>\n",
       "      <td>0</td>\n",
       "    </tr>\n",
       "    <tr>\n",
       "      <th>Planck-PGCC</th>\n",
       "      <td>0</td>\n",
       "    </tr>\n",
       "    <tr>\n",
       "      <th>LAMOST_LRS</th>\n",
       "      <td>89</td>\n",
       "    </tr>\n",
       "    <tr>\n",
       "      <th>Herschel-SPSC-500</th>\n",
       "      <td>83</td>\n",
       "    </tr>\n",
       "    <tr>\n",
       "      <th>AllWise</th>\n",
       "      <td>2429</td>\n",
       "    </tr>\n",
       "    <tr>\n",
       "      <th>eROSITA-eFEDS-hard</th>\n",
       "      <td>0</td>\n",
       "    </tr>\n",
       "    <tr>\n",
       "      <th>XMM-EPIC-STACK</th>\n",
       "      <td>206</td>\n",
       "    </tr>\n",
       "    <tr>\n",
       "      <th>INTEGRAL</th>\n",
       "      <td>0</td>\n",
       "    </tr>\n",
       "    <tr>\n",
       "      <th>total</th>\n",
       "      <td>120049</td>\n",
       "    </tr>\n",
       "  </tbody>\n",
       "</table>\n",
       "</div>"
      ],
      "text/plain": [
       "                      Count\n",
       "Hipparcos-2               0\n",
       "Tycho-2                   1\n",
       "Gaia-DR3                679\n",
       "PLATO asPIC1.1            7\n",
       "Gaia-FPR                  0\n",
       "Herschel-SPSC-250       329\n",
       "Planck-PCCS2-HFI          0\n",
       "Planck-PCCS2-LFI          0\n",
       "Planck-PSZ2               0\n",
       "XMM-OM                 1486\n",
       "Herschel-HPPSC-070        0\n",
       "2RXS                      0\n",
       "Fermi_4LAC-DR2            0\n",
       "OU_Blazars                0\n",
       "XMM-SLEW                  0\n",
       "XMM-EPIC                710\n",
       "Herschel-HPPSC-100      570\n",
       "LAMOST_MRS              120\n",
       "Herschel-SPSC-350       121\n",
       "AKARI-IRC-SC              0\n",
       "Herschel-HPPSC-160      261\n",
       "eROSITA-etaCha-hard       0\n",
       "2WHSP                     0\n",
       "Planck-PCCS2E-HFI         0\n",
       "eROSITA-etaCha-main       0\n",
       "CHANDRA-SC2             355\n",
       "Icecube                   0\n",
       "Fermi_3FHL                0\n",
       "GLADE+                  186\n",
       "TwoMASS                 288\n",
       "Fermi_4FGL-DR2            0\n",
       "HSC                  112129\n",
       "eROSITA-eFEDS-main        0\n",
       "Spitzer                   0\n",
       "Planck-PGCC               0\n",
       "LAMOST_LRS               89\n",
       "Herschel-SPSC-500        83\n",
       "AllWise                2429\n",
       "eROSITA-eFEDS-hard        0\n",
       "XMM-EPIC-STACK          206\n",
       "INTEGRAL                  0\n",
       "total                120049"
      ]
     },
     "execution_count": 11,
     "metadata": {},
     "output_type": "execute_result"
    }
   ],
   "source": [
    "catCount = esasky.getCataloguesCount()\n",
    "catCount = pd.DataFrame.from_dict([catCount]).transpose()\n",
    "catCount.columns = ['Count']\n",
    "catCount"
   ]
  },
  {
   "cell_type": "markdown",
   "metadata": {},
   "source": [
    "### Download sources from the XMM EPIC (3XMM-DR8) catalogue and Herschel PACS 100 micron Point Source Catalogue in the current field of view:"
   ]
  },
  {
   "cell_type": "code",
   "execution_count": 12,
   "metadata": {},
   "outputs": [
    {
     "name": "stdout",
     "output_type": "stream",
     "text": [
      "Catalogs from missionId: XMM-EPIC displayed in the ESASky\n"
     ]
    }
   ],
   "source": [
    "# Firstly, plot the XMM-Newton Serendipitous Source catalogue in ESASky:\n",
    "esasky.plotCatalogues('XMM-EPIC')"
   ]
  },
  {
   "cell_type": "code",
   "execution_count": 13,
   "metadata": {},
   "outputs": [
    {
     "data": {
      "text/html": [
       "<div>\n",
       "<style scoped>\n",
       "    .dataframe tbody tr th:only-of-type {\n",
       "        vertical-align: middle;\n",
       "    }\n",
       "\n",
       "    .dataframe tbody tr th {\n",
       "        vertical-align: top;\n",
       "    }\n",
       "\n",
       "    .dataframe thead th {\n",
       "        text-align: right;\n",
       "    }\n",
       "</style>\n",
       "<table border=\"1\" class=\"dataframe\">\n",
       "  <thead>\n",
       "    <tr style=\"text-align: right;\">\n",
       "      <th></th>\n",
       "      <th>bii</th>\n",
       "      <th>ccdm1</th>\n",
       "      <th>ccdm2</th>\n",
       "      <th>ccdpn</th>\n",
       "      <th>confused</th>\n",
       "      <th>date_end</th>\n",
       "      <th>date_obs</th>\n",
       "      <th>detid</th>\n",
       "      <th>dist_nn</th>\n",
       "      <th>duration</th>\n",
       "      <th>...</th>\n",
       "      <th>ep_8_flux_err</th>\n",
       "      <th>ep_2_flux</th>\n",
       "      <th>ep_2_flux_err</th>\n",
       "      <th>ep_3_flux</th>\n",
       "      <th>ep_3_flux_err</th>\n",
       "      <th>ep_4_flux</th>\n",
       "      <th>ep_4_flux_err</th>\n",
       "      <th>ep_5_flux</th>\n",
       "      <th>ep_5_flux_err</th>\n",
       "      <th>mjd_start</th>\n",
       "    </tr>\n",
       "  </thead>\n",
       "  <tbody>\n",
       "    <tr>\n",
       "      <th>0</th>\n",
       "      <td>41.871898</td>\n",
       "      <td>1.0</td>\n",
       "      <td>1.0</td>\n",
       "      <td>1.0</td>\n",
       "      <td>False</td>\n",
       "      <td>2006-05-17T23:18:46.0</td>\n",
       "      <td>2006-05-17T17:46:47.0</td>\n",
       "      <td>103023518010046</td>\n",
       "      <td>38.55977</td>\n",
       "      <td>18038</td>\n",
       "      <td>...</td>\n",
       "      <td>5.150533e-15</td>\n",
       "      <td>1.275460e-15</td>\n",
       "      <td>3.981612e-16</td>\n",
       "      <td>1.582552e-15</td>\n",
       "      <td>5.351077e-16</td>\n",
       "      <td>4.068506e-15</td>\n",
       "      <td>1.335329e-15</td>\n",
       "      <td>1.986302e-15</td>\n",
       "      <td>4.816564e-15</td>\n",
       "      <td>53872.756829</td>\n",
       "    </tr>\n",
       "    <tr>\n",
       "      <th>1</th>\n",
       "      <td>41.872270</td>\n",
       "      <td>1.0</td>\n",
       "      <td>6.0</td>\n",
       "      <td>2.0</td>\n",
       "      <td>False</td>\n",
       "      <td>2004-12-13T06:11:29.0</td>\n",
       "      <td>2004-12-12T21:36:12.0</td>\n",
       "      <td>102033619010045</td>\n",
       "      <td>36.26597</td>\n",
       "      <td>29035</td>\n",
       "      <td>...</td>\n",
       "      <td>7.528119e-15</td>\n",
       "      <td>1.086722e-15</td>\n",
       "      <td>3.819100e-16</td>\n",
       "      <td>2.672575e-15</td>\n",
       "      <td>6.389533e-16</td>\n",
       "      <td>3.323130e-15</td>\n",
       "      <td>1.260350e-15</td>\n",
       "      <td>9.980941e-15</td>\n",
       "      <td>7.301651e-15</td>\n",
       "      <td>53351.916192</td>\n",
       "    </tr>\n",
       "    <tr>\n",
       "      <th>2</th>\n",
       "      <td>41.873052</td>\n",
       "      <td>8.0</td>\n",
       "      <td>1.0</td>\n",
       "      <td>1.0</td>\n",
       "      <td>False</td>\n",
       "      <td>2003-12-12T06:34:13.0</td>\n",
       "      <td>2003-12-11T22:32:19.0</td>\n",
       "      <td>102033618015062</td>\n",
       "      <td>33.49740</td>\n",
       "      <td>27037</td>\n",
       "      <td>...</td>\n",
       "      <td>3.183102e-15</td>\n",
       "      <td>7.515058e-16</td>\n",
       "      <td>2.637996e-16</td>\n",
       "      <td>1.876487e-15</td>\n",
       "      <td>4.208806e-16</td>\n",
       "      <td>1.926229e-15</td>\n",
       "      <td>8.514358e-16</td>\n",
       "      <td>5.367284e-17</td>\n",
       "      <td>2.905381e-15</td>\n",
       "      <td>52984.955139</td>\n",
       "    </tr>\n",
       "    <tr>\n",
       "      <th>3</th>\n",
       "      <td>41.871847</td>\n",
       "      <td>4.0</td>\n",
       "      <td>6.0</td>\n",
       "      <td>7.0</td>\n",
       "      <td>False</td>\n",
       "      <td>2004-12-13T06:11:29.0</td>\n",
       "      <td>2004-12-12T21:36:12.0</td>\n",
       "      <td>102033619010063</td>\n",
       "      <td>44.86391</td>\n",
       "      <td>29035</td>\n",
       "      <td>...</td>\n",
       "      <td>3.761473e-15</td>\n",
       "      <td>6.295035e-16</td>\n",
       "      <td>2.607458e-16</td>\n",
       "      <td>7.462641e-16</td>\n",
       "      <td>3.571965e-16</td>\n",
       "      <td>1.231581e-15</td>\n",
       "      <td>7.852875e-16</td>\n",
       "      <td>1.499905e-15</td>\n",
       "      <td>3.636769e-15</td>\n",
       "      <td>53351.916192</td>\n",
       "    </tr>\n",
       "    <tr>\n",
       "      <th>4</th>\n",
       "      <td>41.872428</td>\n",
       "      <td>2.0</td>\n",
       "      <td>7.0</td>\n",
       "      <td>2.0</td>\n",
       "      <td>False</td>\n",
       "      <td>2006-05-17T23:18:46.0</td>\n",
       "      <td>2006-05-17T17:46:47.0</td>\n",
       "      <td>103023518010067</td>\n",
       "      <td>45.80248</td>\n",
       "      <td>18038</td>\n",
       "      <td>...</td>\n",
       "      <td>8.618754e-15</td>\n",
       "      <td>1.800133e-15</td>\n",
       "      <td>5.483639e-16</td>\n",
       "      <td>1.099798e-15</td>\n",
       "      <td>5.924065e-16</td>\n",
       "      <td>1.487141e-15</td>\n",
       "      <td>1.282217e-15</td>\n",
       "      <td>0.000000e+00</td>\n",
       "      <td>8.415689e-15</td>\n",
       "      <td>53872.756829</td>\n",
       "    </tr>\n",
       "    <tr>\n",
       "      <th>...</th>\n",
       "      <td>...</td>\n",
       "      <td>...</td>\n",
       "      <td>...</td>\n",
       "      <td>...</td>\n",
       "      <td>...</td>\n",
       "      <td>...</td>\n",
       "      <td>...</td>\n",
       "      <td>...</td>\n",
       "      <td>...</td>\n",
       "      <td>...</td>\n",
       "      <td>...</td>\n",
       "      <td>...</td>\n",
       "      <td>...</td>\n",
       "      <td>...</td>\n",
       "      <td>...</td>\n",
       "      <td>...</td>\n",
       "      <td>...</td>\n",
       "      <td>...</td>\n",
       "      <td>...</td>\n",
       "      <td>...</td>\n",
       "      <td>...</td>\n",
       "    </tr>\n",
       "    <tr>\n",
       "      <th>705</th>\n",
       "      <td>42.359250</td>\n",
       "      <td>1.0</td>\n",
       "      <td>6.0</td>\n",
       "      <td>2.0</td>\n",
       "      <td>False</td>\n",
       "      <td>2005-11-26T01:15:47.0</td>\n",
       "      <td>2005-11-25T19:43:56.0</td>\n",
       "      <td>103023508010104</td>\n",
       "      <td>118.57190</td>\n",
       "      <td>18037</td>\n",
       "      <td>...</td>\n",
       "      <td>5.105643e-15</td>\n",
       "      <td>1.138066e-16</td>\n",
       "      <td>2.124407e-16</td>\n",
       "      <td>1.516420e-15</td>\n",
       "      <td>5.718491e-16</td>\n",
       "      <td>2.289277e-15</td>\n",
       "      <td>1.238953e-15</td>\n",
       "      <td>1.804036e-15</td>\n",
       "      <td>4.896655e-15</td>\n",
       "      <td>53699.838113</td>\n",
       "    </tr>\n",
       "    <tr>\n",
       "      <th>706</th>\n",
       "      <td>42.391640</td>\n",
       "      <td>7.0</td>\n",
       "      <td>3.0</td>\n",
       "      <td>5.0</td>\n",
       "      <td>False</td>\n",
       "      <td>2005-11-23T10:37:52.0</td>\n",
       "      <td>2005-11-23T05:05:30.0</td>\n",
       "      <td>103023507010021</td>\n",
       "      <td>101.48450</td>\n",
       "      <td>18037</td>\n",
       "      <td>...</td>\n",
       "      <td>1.583272e-14</td>\n",
       "      <td>1.071770e-14</td>\n",
       "      <td>1.518947e-15</td>\n",
       "      <td>8.870534e-15</td>\n",
       "      <td>1.517365e-15</td>\n",
       "      <td>5.985735e-15</td>\n",
       "      <td>2.162507e-15</td>\n",
       "      <td>2.440473e-14</td>\n",
       "      <td>1.547548e-14</td>\n",
       "      <td>53697.228079</td>\n",
       "    </tr>\n",
       "    <tr>\n",
       "      <th>707</th>\n",
       "      <td>42.391596</td>\n",
       "      <td>1.0</td>\n",
       "      <td>6.0</td>\n",
       "      <td>2.0</td>\n",
       "      <td>False</td>\n",
       "      <td>2004-11-18T12:32:48.0</td>\n",
       "      <td>2004-11-17T21:48:58.0</td>\n",
       "      <td>102033608010011</td>\n",
       "      <td>98.27076</td>\n",
       "      <td>34793</td>\n",
       "      <td>...</td>\n",
       "      <td>8.805395e-15</td>\n",
       "      <td>7.042399e-15</td>\n",
       "      <td>7.115157e-16</td>\n",
       "      <td>7.901616e-15</td>\n",
       "      <td>8.359146e-16</td>\n",
       "      <td>1.106797e-14</td>\n",
       "      <td>1.750718e-15</td>\n",
       "      <td>2.581109e-14</td>\n",
       "      <td>8.526855e-15</td>\n",
       "      <td>53326.924965</td>\n",
       "    </tr>\n",
       "    <tr>\n",
       "      <th>708</th>\n",
       "      <td>42.391761</td>\n",
       "      <td>7.0</td>\n",
       "      <td>3.0</td>\n",
       "      <td>5.0</td>\n",
       "      <td>False</td>\n",
       "      <td>2003-12-06T11:10:14.0</td>\n",
       "      <td>2003-12-06T01:35:03.0</td>\n",
       "      <td>102033607010019</td>\n",
       "      <td>96.21605</td>\n",
       "      <td>32637</td>\n",
       "      <td>...</td>\n",
       "      <td>6.569900e-15</td>\n",
       "      <td>4.945401e-15</td>\n",
       "      <td>5.790224e-16</td>\n",
       "      <td>5.242568e-15</td>\n",
       "      <td>6.742369e-16</td>\n",
       "      <td>5.241033e-15</td>\n",
       "      <td>1.144223e-15</td>\n",
       "      <td>1.246440e-14</td>\n",
       "      <td>6.379668e-15</td>\n",
       "      <td>52979.081968</td>\n",
       "    </tr>\n",
       "    <tr>\n",
       "      <th>709</th>\n",
       "      <td>42.391911</td>\n",
       "      <td>1.0</td>\n",
       "      <td>6.0</td>\n",
       "      <td>2.0</td>\n",
       "      <td>False</td>\n",
       "      <td>2005-11-26T01:15:47.0</td>\n",
       "      <td>2005-11-25T19:43:56.0</td>\n",
       "      <td>103023508010012</td>\n",
       "      <td>102.50520</td>\n",
       "      <td>18037</td>\n",
       "      <td>...</td>\n",
       "      <td>9.539499e-15</td>\n",
       "      <td>5.181457e-15</td>\n",
       "      <td>8.295654e-16</td>\n",
       "      <td>6.647063e-15</td>\n",
       "      <td>1.097669e-15</td>\n",
       "      <td>1.053187e-14</td>\n",
       "      <td>2.290669e-15</td>\n",
       "      <td>1.116742e-14</td>\n",
       "      <td>9.068786e-15</td>\n",
       "      <td>53699.838113</td>\n",
       "    </tr>\n",
       "  </tbody>\n",
       "</table>\n",
       "<p>710 rows × 222 columns</p>\n",
       "</div>"
      ],
      "text/plain": [
       "           bii  ccdm1  ccdm2  ccdpn  confused               date_end  \\\n",
       "0    41.871898    1.0    1.0    1.0     False  2006-05-17T23:18:46.0   \n",
       "1    41.872270    1.0    6.0    2.0     False  2004-12-13T06:11:29.0   \n",
       "2    41.873052    8.0    1.0    1.0     False  2003-12-12T06:34:13.0   \n",
       "3    41.871847    4.0    6.0    7.0     False  2004-12-13T06:11:29.0   \n",
       "4    41.872428    2.0    7.0    2.0     False  2006-05-17T23:18:46.0   \n",
       "..         ...    ...    ...    ...       ...                    ...   \n",
       "705  42.359250    1.0    6.0    2.0     False  2005-11-26T01:15:47.0   \n",
       "706  42.391640    7.0    3.0    5.0     False  2005-11-23T10:37:52.0   \n",
       "707  42.391596    1.0    6.0    2.0     False  2004-11-18T12:32:48.0   \n",
       "708  42.391761    7.0    3.0    5.0     False  2003-12-06T11:10:14.0   \n",
       "709  42.391911    1.0    6.0    2.0     False  2005-11-26T01:15:47.0   \n",
       "\n",
       "                  date_obs            detid    dist_nn  duration  ...  \\\n",
       "0    2006-05-17T17:46:47.0  103023518010046   38.55977     18038  ...   \n",
       "1    2004-12-12T21:36:12.0  102033619010045   36.26597     29035  ...   \n",
       "2    2003-12-11T22:32:19.0  102033618015062   33.49740     27037  ...   \n",
       "3    2004-12-12T21:36:12.0  102033619010063   44.86391     29035  ...   \n",
       "4    2006-05-17T17:46:47.0  103023518010067   45.80248     18038  ...   \n",
       "..                     ...              ...        ...       ...  ...   \n",
       "705  2005-11-25T19:43:56.0  103023508010104  118.57190     18037  ...   \n",
       "706  2005-11-23T05:05:30.0  103023507010021  101.48450     18037  ...   \n",
       "707  2004-11-17T21:48:58.0  102033608010011   98.27076     34793  ...   \n",
       "708  2003-12-06T01:35:03.0  102033607010019   96.21605     32637  ...   \n",
       "709  2005-11-25T19:43:56.0  103023508010012  102.50520     18037  ...   \n",
       "\n",
       "     ep_8_flux_err     ep_2_flux  ep_2_flux_err     ep_3_flux  ep_3_flux_err  \\\n",
       "0     5.150533e-15  1.275460e-15   3.981612e-16  1.582552e-15   5.351077e-16   \n",
       "1     7.528119e-15  1.086722e-15   3.819100e-16  2.672575e-15   6.389533e-16   \n",
       "2     3.183102e-15  7.515058e-16   2.637996e-16  1.876487e-15   4.208806e-16   \n",
       "3     3.761473e-15  6.295035e-16   2.607458e-16  7.462641e-16   3.571965e-16   \n",
       "4     8.618754e-15  1.800133e-15   5.483639e-16  1.099798e-15   5.924065e-16   \n",
       "..             ...           ...            ...           ...            ...   \n",
       "705   5.105643e-15  1.138066e-16   2.124407e-16  1.516420e-15   5.718491e-16   \n",
       "706   1.583272e-14  1.071770e-14   1.518947e-15  8.870534e-15   1.517365e-15   \n",
       "707   8.805395e-15  7.042399e-15   7.115157e-16  7.901616e-15   8.359146e-16   \n",
       "708   6.569900e-15  4.945401e-15   5.790224e-16  5.242568e-15   6.742369e-16   \n",
       "709   9.539499e-15  5.181457e-15   8.295654e-16  6.647063e-15   1.097669e-15   \n",
       "\n",
       "        ep_4_flux  ep_4_flux_err     ep_5_flux  ep_5_flux_err     mjd_start  \n",
       "0    4.068506e-15   1.335329e-15  1.986302e-15   4.816564e-15  53872.756829  \n",
       "1    3.323130e-15   1.260350e-15  9.980941e-15   7.301651e-15  53351.916192  \n",
       "2    1.926229e-15   8.514358e-16  5.367284e-17   2.905381e-15  52984.955139  \n",
       "3    1.231581e-15   7.852875e-16  1.499905e-15   3.636769e-15  53351.916192  \n",
       "4    1.487141e-15   1.282217e-15  0.000000e+00   8.415689e-15  53872.756829  \n",
       "..            ...            ...           ...            ...           ...  \n",
       "705  2.289277e-15   1.238953e-15  1.804036e-15   4.896655e-15  53699.838113  \n",
       "706  5.985735e-15   2.162507e-15  2.440473e-14   1.547548e-14  53697.228079  \n",
       "707  1.106797e-14   1.750718e-15  2.581109e-14   8.526855e-15  53326.924965  \n",
       "708  5.241033e-15   1.144223e-15  1.246440e-14   6.379668e-15  52979.081968  \n",
       "709  1.053187e-14   2.290669e-15  1.116742e-14   9.068786e-15  53699.838113  \n",
       "\n",
       "[710 rows x 222 columns]"
      ]
     },
     "execution_count": 13,
     "metadata": {},
     "output_type": "execute_result"
    }
   ],
   "source": [
    "# then parse the data with pandas\n",
    "data=esasky.getResultPanelData()\n",
    "xmmepic = pd.DataFrame.from_dict(data)\n",
    "xmmepic"
   ]
  },
  {
   "cell_type": "code",
   "execution_count": 14,
   "metadata": {},
   "outputs": [
    {
     "name": "stdout",
     "output_type": "stream",
     "text": [
      "Catalogs from missionId: Herschel-HPPSC-100 displayed in the ESASky\n"
     ]
    }
   ],
   "source": [
    "# Plot the Herschel-HPPSC-100 catalogue in ESASky:\n",
    "esasky.plotCatalogues('Herschel-HPPSC-100')"
   ]
  },
  {
   "cell_type": "code",
   "execution_count": 15,
   "metadata": {},
   "outputs": [
    {
     "data": {
      "text/html": [
       "<div>\n",
       "<style scoped>\n",
       "    .dataframe tbody tr th:only-of-type {\n",
       "        vertical-align: middle;\n",
       "    }\n",
       "\n",
       "    .dataframe tbody tr th {\n",
       "        vertical-align: top;\n",
       "    }\n",
       "\n",
       "    .dataframe thead th {\n",
       "        text-align: right;\n",
       "    }\n",
       "</style>\n",
       "<table border=\"1\" class=\"dataframe\">\n",
       "  <thead>\n",
       "    <tr style=\"text-align: right;\">\n",
       "      <th></th>\n",
       "      <th>band</th>\n",
       "      <th>decerr</th>\n",
       "      <th>fratio</th>\n",
       "      <th>raerr</th>\n",
       "      <th>snrnoise</th>\n",
       "      <th>strn</th>\n",
       "      <th>name</th>\n",
       "      <th>ra</th>\n",
       "      <th>dec</th>\n",
       "      <th>flux</th>\n",
       "      <th>...</th>\n",
       "      <th>fwhmxfit</th>\n",
       "      <th>fwhmyfit</th>\n",
       "      <th>snr</th>\n",
       "      <th>stn</th>\n",
       "      <th>elong_flag</th>\n",
       "      <th>edge_flag</th>\n",
       "      <th>blend_flag</th>\n",
       "      <th>warmat</th>\n",
       "      <th>ssomap_flag</th>\n",
       "      <th>obsid</th>\n",
       "    </tr>\n",
       "  </thead>\n",
       "  <tbody>\n",
       "    <tr>\n",
       "      <th>0</th>\n",
       "      <td>green</td>\n",
       "      <td>0.000149</td>\n",
       "      <td>0.862042</td>\n",
       "      <td>0.000149</td>\n",
       "      <td>3.592271</td>\n",
       "      <td>11.290516</td>\n",
       "      <td>HPPSC100A_J095931.1+020400</td>\n",
       "      <td>149.879732</td>\n",
       "      <td>2.066793</td>\n",
       "      <td>6.194375</td>\n",
       "      <td>...</td>\n",
       "      <td>12.652350</td>\n",
       "      <td>5.015738</td>\n",
       "      <td>1.724362</td>\n",
       "      <td>3.117882</td>\n",
       "      <td>0.39643</td>\n",
       "      <td>True</td>\n",
       "      <td>0</td>\n",
       "      <td>False</td>\n",
       "      <td>False</td>\n",
       "      <td>1342186610</td>\n",
       "    </tr>\n",
       "    <tr>\n",
       "      <th>1</th>\n",
       "      <td>green</td>\n",
       "      <td>0.000093</td>\n",
       "      <td>1.246813</td>\n",
       "      <td>0.000093</td>\n",
       "      <td>3.377836</td>\n",
       "      <td>11.780167</td>\n",
       "      <td>HPPSC100A_J095929.8+020415</td>\n",
       "      <td>149.874521</td>\n",
       "      <td>2.070874</td>\n",
       "      <td>16.721182</td>\n",
       "      <td>...</td>\n",
       "      <td>7.449990</td>\n",
       "      <td>6.142634</td>\n",
       "      <td>4.950264</td>\n",
       "      <td>8.141095</td>\n",
       "      <td>0.82452</td>\n",
       "      <td>True</td>\n",
       "      <td>0</td>\n",
       "      <td>False</td>\n",
       "      <td>False</td>\n",
       "      <td>1342186610</td>\n",
       "    </tr>\n",
       "    <tr>\n",
       "      <th>2</th>\n",
       "      <td>green</td>\n",
       "      <td>0.000289</td>\n",
       "      <td>1.107412</td>\n",
       "      <td>0.000289</td>\n",
       "      <td>3.487201</td>\n",
       "      <td>10.504492</td>\n",
       "      <td>HPPSC100A_J095935.6+020401</td>\n",
       "      <td>149.898546</td>\n",
       "      <td>2.066961</td>\n",
       "      <td>5.855806</td>\n",
       "      <td>...</td>\n",
       "      <td>9.517804</td>\n",
       "      <td>6.215881</td>\n",
       "      <td>1.679228</td>\n",
       "      <td>3.149648</td>\n",
       "      <td>0.65308</td>\n",
       "      <td>True</td>\n",
       "      <td>0</td>\n",
       "      <td>False</td>\n",
       "      <td>False</td>\n",
       "      <td>1342186610</td>\n",
       "    </tr>\n",
       "    <tr>\n",
       "      <th>3</th>\n",
       "      <td>green</td>\n",
       "      <td>0.000303</td>\n",
       "      <td>1.652111</td>\n",
       "      <td>0.000303</td>\n",
       "      <td>2.371627</td>\n",
       "      <td>10.267478</td>\n",
       "      <td>HPPSC100A_J095940.4+020336</td>\n",
       "      <td>149.918525</td>\n",
       "      <td>2.060048</td>\n",
       "      <td>6.707739</td>\n",
       "      <td>...</td>\n",
       "      <td>7.412841</td>\n",
       "      <td>-99.900000</td>\n",
       "      <td>2.828328</td>\n",
       "      <td>3.711238</td>\n",
       "      <td>0.00000</td>\n",
       "      <td>True</td>\n",
       "      <td>0</td>\n",
       "      <td>False</td>\n",
       "      <td>False</td>\n",
       "      <td>1342186610</td>\n",
       "    </tr>\n",
       "    <tr>\n",
       "      <th>4</th>\n",
       "      <td>green</td>\n",
       "      <td>0.000058</td>\n",
       "      <td>1.215222</td>\n",
       "      <td>0.000058</td>\n",
       "      <td>3.565728</td>\n",
       "      <td>11.979542</td>\n",
       "      <td>HPPSC100A_J095940.3+020440</td>\n",
       "      <td>149.918196</td>\n",
       "      <td>2.077868</td>\n",
       "      <td>27.570760</td>\n",
       "      <td>...</td>\n",
       "      <td>7.257972</td>\n",
       "      <td>6.731940</td>\n",
       "      <td>7.732154</td>\n",
       "      <td>11.858815</td>\n",
       "      <td>0.92752</td>\n",
       "      <td>True</td>\n",
       "      <td>0</td>\n",
       "      <td>False</td>\n",
       "      <td>False</td>\n",
       "      <td>1342186610</td>\n",
       "    </tr>\n",
       "    <tr>\n",
       "      <th>...</th>\n",
       "      <td>...</td>\n",
       "      <td>...</td>\n",
       "      <td>...</td>\n",
       "      <td>...</td>\n",
       "      <td>...</td>\n",
       "      <td>...</td>\n",
       "      <td>...</td>\n",
       "      <td>...</td>\n",
       "      <td>...</td>\n",
       "      <td>...</td>\n",
       "      <td>...</td>\n",
       "      <td>...</td>\n",
       "      <td>...</td>\n",
       "      <td>...</td>\n",
       "      <td>...</td>\n",
       "      <td>...</td>\n",
       "      <td>...</td>\n",
       "      <td>...</td>\n",
       "      <td>...</td>\n",
       "      <td>...</td>\n",
       "      <td>...</td>\n",
       "    </tr>\n",
       "    <tr>\n",
       "      <th>565</th>\n",
       "      <td>green</td>\n",
       "      <td>0.000179</td>\n",
       "      <td>1.132935</td>\n",
       "      <td>0.000179</td>\n",
       "      <td>4.441747</td>\n",
       "      <td>13.214699</td>\n",
       "      <td>HPPSC100A_J100116.0+022008</td>\n",
       "      <td>150.316863</td>\n",
       "      <td>2.335472</td>\n",
       "      <td>11.995592</td>\n",
       "      <td>...</td>\n",
       "      <td>12.998211</td>\n",
       "      <td>8.876977</td>\n",
       "      <td>2.700647</td>\n",
       "      <td>4.562505</td>\n",
       "      <td>0.68294</td>\n",
       "      <td>True</td>\n",
       "      <td>0</td>\n",
       "      <td>False</td>\n",
       "      <td>False</td>\n",
       "      <td>1342186610</td>\n",
       "    </tr>\n",
       "    <tr>\n",
       "      <th>566</th>\n",
       "      <td>green</td>\n",
       "      <td>0.000248</td>\n",
       "      <td>1.183553</td>\n",
       "      <td>0.000248</td>\n",
       "      <td>3.021677</td>\n",
       "      <td>9.746986</td>\n",
       "      <td>HPPSC100A_J100115.2+022110</td>\n",
       "      <td>150.313371</td>\n",
       "      <td>2.352880</td>\n",
       "      <td>6.373572</td>\n",
       "      <td>...</td>\n",
       "      <td>6.397358</td>\n",
       "      <td>-99.900000</td>\n",
       "      <td>2.109283</td>\n",
       "      <td>3.174036</td>\n",
       "      <td>0.00000</td>\n",
       "      <td>True</td>\n",
       "      <td>0</td>\n",
       "      <td>False</td>\n",
       "      <td>False</td>\n",
       "      <td>1342186610</td>\n",
       "    </tr>\n",
       "    <tr>\n",
       "      <th>567</th>\n",
       "      <td>green</td>\n",
       "      <td>0.000138</td>\n",
       "      <td>1.069333</td>\n",
       "      <td>0.000138</td>\n",
       "      <td>3.748000</td>\n",
       "      <td>11.271493</td>\n",
       "      <td>HPPSC100A_J100120.4+022022</td>\n",
       "      <td>150.335250</td>\n",
       "      <td>2.339374</td>\n",
       "      <td>9.948842</td>\n",
       "      <td>...</td>\n",
       "      <td>8.518755</td>\n",
       "      <td>-99.900000</td>\n",
       "      <td>2.654440</td>\n",
       "      <td>4.298913</td>\n",
       "      <td>0.00000</td>\n",
       "      <td>True</td>\n",
       "      <td>0</td>\n",
       "      <td>False</td>\n",
       "      <td>False</td>\n",
       "      <td>1342186610</td>\n",
       "    </tr>\n",
       "    <tr>\n",
       "      <th>568</th>\n",
       "      <td>green</td>\n",
       "      <td>0.000134</td>\n",
       "      <td>1.097525</td>\n",
       "      <td>0.000134</td>\n",
       "      <td>3.634068</td>\n",
       "      <td>11.121658</td>\n",
       "      <td>HPPSC100A_J100120.6+022111</td>\n",
       "      <td>150.336034</td>\n",
       "      <td>2.353172</td>\n",
       "      <td>11.827202</td>\n",
       "      <td>...</td>\n",
       "      <td>9.137727</td>\n",
       "      <td>5.732248</td>\n",
       "      <td>3.254535</td>\n",
       "      <td>6.323408</td>\n",
       "      <td>0.62732</td>\n",
       "      <td>True</td>\n",
       "      <td>0</td>\n",
       "      <td>False</td>\n",
       "      <td>False</td>\n",
       "      <td>1342186610</td>\n",
       "    </tr>\n",
       "    <tr>\n",
       "      <th>569</th>\n",
       "      <td>green</td>\n",
       "      <td>0.000093</td>\n",
       "      <td>1.261637</td>\n",
       "      <td>0.000093</td>\n",
       "      <td>3.805732</td>\n",
       "      <td>13.036151</td>\n",
       "      <td>HPPSC100A_J100125.0+022133</td>\n",
       "      <td>150.354553</td>\n",
       "      <td>2.359095</td>\n",
       "      <td>19.050442</td>\n",
       "      <td>...</td>\n",
       "      <td>8.473278</td>\n",
       "      <td>7.654517</td>\n",
       "      <td>5.005723</td>\n",
       "      <td>8.350959</td>\n",
       "      <td>0.90337</td>\n",
       "      <td>True</td>\n",
       "      <td>0</td>\n",
       "      <td>False</td>\n",
       "      <td>False</td>\n",
       "      <td>1342186610</td>\n",
       "    </tr>\n",
       "  </tbody>\n",
       "</table>\n",
       "<p>570 rows × 21 columns</p>\n",
       "</div>"
      ],
      "text/plain": [
       "      band    decerr    fratio     raerr  snrnoise       strn  \\\n",
       "0    green  0.000149  0.862042  0.000149  3.592271  11.290516   \n",
       "1    green  0.000093  1.246813  0.000093  3.377836  11.780167   \n",
       "2    green  0.000289  1.107412  0.000289  3.487201  10.504492   \n",
       "3    green  0.000303  1.652111  0.000303  2.371627  10.267478   \n",
       "4    green  0.000058  1.215222  0.000058  3.565728  11.979542   \n",
       "..     ...       ...       ...       ...       ...        ...   \n",
       "565  green  0.000179  1.132935  0.000179  4.441747  13.214699   \n",
       "566  green  0.000248  1.183553  0.000248  3.021677   9.746986   \n",
       "567  green  0.000138  1.069333  0.000138  3.748000  11.271493   \n",
       "568  green  0.000134  1.097525  0.000134  3.634068  11.121658   \n",
       "569  green  0.000093  1.261637  0.000093  3.805732  13.036151   \n",
       "\n",
       "                           name          ra       dec       flux  ...  \\\n",
       "0    HPPSC100A_J095931.1+020400  149.879732  2.066793   6.194375  ...   \n",
       "1    HPPSC100A_J095929.8+020415  149.874521  2.070874  16.721182  ...   \n",
       "2    HPPSC100A_J095935.6+020401  149.898546  2.066961   5.855806  ...   \n",
       "3    HPPSC100A_J095940.4+020336  149.918525  2.060048   6.707739  ...   \n",
       "4    HPPSC100A_J095940.3+020440  149.918196  2.077868  27.570760  ...   \n",
       "..                          ...         ...       ...        ...  ...   \n",
       "565  HPPSC100A_J100116.0+022008  150.316863  2.335472  11.995592  ...   \n",
       "566  HPPSC100A_J100115.2+022110  150.313371  2.352880   6.373572  ...   \n",
       "567  HPPSC100A_J100120.4+022022  150.335250  2.339374   9.948842  ...   \n",
       "568  HPPSC100A_J100120.6+022111  150.336034  2.353172  11.827202  ...   \n",
       "569  HPPSC100A_J100125.0+022133  150.354553  2.359095  19.050442  ...   \n",
       "\n",
       "      fwhmxfit   fwhmyfit       snr        stn  elong_flag  edge_flag  \\\n",
       "0    12.652350   5.015738  1.724362   3.117882     0.39643       True   \n",
       "1     7.449990   6.142634  4.950264   8.141095     0.82452       True   \n",
       "2     9.517804   6.215881  1.679228   3.149648     0.65308       True   \n",
       "3     7.412841 -99.900000  2.828328   3.711238     0.00000       True   \n",
       "4     7.257972   6.731940  7.732154  11.858815     0.92752       True   \n",
       "..         ...        ...       ...        ...         ...        ...   \n",
       "565  12.998211   8.876977  2.700647   4.562505     0.68294       True   \n",
       "566   6.397358 -99.900000  2.109283   3.174036     0.00000       True   \n",
       "567   8.518755 -99.900000  2.654440   4.298913     0.00000       True   \n",
       "568   9.137727   5.732248  3.254535   6.323408     0.62732       True   \n",
       "569   8.473278   7.654517  5.005723   8.350959     0.90337       True   \n",
       "\n",
       "     blend_flag  warmat  ssomap_flag       obsid  \n",
       "0             0   False        False  1342186610  \n",
       "1             0   False        False  1342186610  \n",
       "2             0   False        False  1342186610  \n",
       "3             0   False        False  1342186610  \n",
       "4             0   False        False  1342186610  \n",
       "..          ...     ...          ...         ...  \n",
       "565           0   False        False  1342186610  \n",
       "566           0   False        False  1342186610  \n",
       "567           0   False        False  1342186610  \n",
       "568           0   False        False  1342186610  \n",
       "569           0   False        False  1342186610  \n",
       "\n",
       "[570 rows x 21 columns]"
      ]
     },
     "execution_count": 15,
     "metadata": {},
     "output_type": "execute_result"
    }
   ],
   "source": [
    "# then parse the data with pandas\n",
    "data=esasky.getResultPanelData()\n",
    "HPPSC100 = pd.DataFrame.from_dict(data)\n",
    "HPPSC100"
   ]
  },
  {
   "cell_type": "markdown",
   "metadata": {},
   "source": [
    "### Download and check the postcard of an observation from Chandra in the current FoV"
   ]
  },
  {
   "cell_type": "code",
   "execution_count": 16,
   "metadata": {},
   "outputs": [
    {
     "name": "stdout",
     "output_type": "stream",
     "text": [
      "Image observations from missionId: Chandra displayed in the ESASky\n"
     ]
    }
   ],
   "source": [
    "# Firstly, plot the Chandra imaging observations in ESASky\n",
    "esasky.plotObservations('Chandra')"
   ]
  },
  {
   "cell_type": "code",
   "execution_count": 17,
   "metadata": {
    "scrolled": true
   },
   "outputs": [
    {
     "data": {
      "text/html": [
       "<div>\n",
       "<style scoped>\n",
       "    .dataframe tbody tr th:only-of-type {\n",
       "        vertical-align: middle;\n",
       "    }\n",
       "\n",
       "    .dataframe tbody tr th {\n",
       "        vertical-align: top;\n",
       "    }\n",
       "\n",
       "    .dataframe thead th {\n",
       "        text-align: right;\n",
       "    }\n",
       "</style>\n",
       "<table border=\"1\" class=\"dataframe\">\n",
       "  <thead>\n",
       "    <tr style=\"text-align: right;\">\n",
       "      <th></th>\n",
       "      <th>access_url</th>\n",
       "      <th>access_estsize</th>\n",
       "      <th>access_format</th>\n",
       "      <th>calib_level</th>\n",
       "      <th>chandra_obs_photo_oid</th>\n",
       "      <th>dataproduct_subtype</th>\n",
       "      <th>dataproduct_type</th>\n",
       "      <th>data_rights</th>\n",
       "      <th>em_calib_status</th>\n",
       "      <th>em_max</th>\n",
       "      <th>...</th>\n",
       "      <th>t_stat_error</th>\n",
       "      <th>postcard_url</th>\n",
       "      <th>obs_id</th>\n",
       "      <th>instrument_name</th>\n",
       "      <th>target_name</th>\n",
       "      <th>s_ra</th>\n",
       "      <th>s_dec</th>\n",
       "      <th>t_min</th>\n",
       "      <th>t_exptime</th>\n",
       "      <th>stc_s</th>\n",
       "    </tr>\n",
       "  </thead>\n",
       "  <tbody>\n",
       "    <tr>\n",
       "      <th>0</th>\n",
       "      <td>https://cdaftp.cfa.harvard.edu/cgi-bin/chaser_...</td>\n",
       "      <td>432</td>\n",
       "      <td>image/x-fits</td>\n",
       "      <td>2</td>\n",
       "      <td>4914407</td>\n",
       "      <td>None</td>\n",
       "      <td>image</td>\n",
       "      <td>public</td>\n",
       "      <td>calibrated</td>\n",
       "      <td>6.000000e-09</td>\n",
       "      <td>...</td>\n",
       "      <td>0.0001</td>\n",
       "      <td>https://cdaftp.cfa.harvard.edu/cgi-bin/chaser_...</td>\n",
       "      <td>8001</td>\n",
       "      <td>ACIS</td>\n",
       "      <td>C-COSMOS</td>\n",
       "      <td>150.338138</td>\n",
       "      <td>2.289032</td>\n",
       "      <td>54192.154658</td>\n",
       "      <td>48674.862721</td>\n",
       "      <td>polygon j2000 UNION ICRS TOPOCENTER  POLYGON 1...</td>\n",
       "    </tr>\n",
       "    <tr>\n",
       "      <th>1</th>\n",
       "      <td>https://cdaftp.cfa.harvard.edu/cgi-bin/chaser_...</td>\n",
       "      <td>515</td>\n",
       "      <td>image/x-fits</td>\n",
       "      <td>2</td>\n",
       "      <td>4914412</td>\n",
       "      <td>None</td>\n",
       "      <td>image</td>\n",
       "      <td>public</td>\n",
       "      <td>calibrated</td>\n",
       "      <td>6.000000e-09</td>\n",
       "      <td>...</td>\n",
       "      <td>0.0001</td>\n",
       "      <td>https://cdaftp.cfa.harvard.edu/cgi-bin/chaser_...</td>\n",
       "      <td>8006</td>\n",
       "      <td>ACIS</td>\n",
       "      <td>C-COSMOS</td>\n",
       "      <td>150.170323</td>\n",
       "      <td>2.220460</td>\n",
       "      <td>54101.492241</td>\n",
       "      <td>26681.765299</td>\n",
       "      <td>polygon j2000 UNION ICRS TOPOCENTER  POLYGON 1...</td>\n",
       "    </tr>\n",
       "    <tr>\n",
       "      <th>2</th>\n",
       "      <td>https://cdaftp.cfa.harvard.edu/cgi-bin/chaser_...</td>\n",
       "      <td>509</td>\n",
       "      <td>image/x-fits</td>\n",
       "      <td>2</td>\n",
       "      <td>4914413</td>\n",
       "      <td>None</td>\n",
       "      <td>image</td>\n",
       "      <td>public</td>\n",
       "      <td>calibrated</td>\n",
       "      <td>6.000000e-09</td>\n",
       "      <td>...</td>\n",
       "      <td>0.0001</td>\n",
       "      <td>https://cdaftp.cfa.harvard.edu/cgi-bin/chaser_...</td>\n",
       "      <td>8007</td>\n",
       "      <td>ACIS</td>\n",
       "      <td>C-COSMOS</td>\n",
       "      <td>150.044920</td>\n",
       "      <td>2.266118</td>\n",
       "      <td>54088.929365</td>\n",
       "      <td>21753.017469</td>\n",
       "      <td>polygon j2000 UNION ICRS TOPOCENTER  POLYGON 1...</td>\n",
       "    </tr>\n",
       "    <tr>\n",
       "      <th>3</th>\n",
       "      <td>https://cdaftp.cfa.harvard.edu/cgi-bin/chaser_...</td>\n",
       "      <td>519</td>\n",
       "      <td>image/x-fits</td>\n",
       "      <td>2</td>\n",
       "      <td>4914414</td>\n",
       "      <td>None</td>\n",
       "      <td>image</td>\n",
       "      <td>public</td>\n",
       "      <td>calibrated</td>\n",
       "      <td>6.000000e-09</td>\n",
       "      <td>...</td>\n",
       "      <td>0.0001</td>\n",
       "      <td>https://cdaftp.cfa.harvard.edu/cgi-bin/chaser_...</td>\n",
       "      <td>8008</td>\n",
       "      <td>ACIS</td>\n",
       "      <td>C-COSMOS</td>\n",
       "      <td>149.919773</td>\n",
       "      <td>2.311538</td>\n",
       "      <td>54102.194052</td>\n",
       "      <td>46431.672633</td>\n",
       "      <td>polygon j2000 UNION ICRS TOPOCENTER  POLYGON 1...</td>\n",
       "    </tr>\n",
       "    <tr>\n",
       "      <th>4</th>\n",
       "      <td>https://cdaftp.cfa.harvard.edu/cgi-bin/chaser_...</td>\n",
       "      <td>524</td>\n",
       "      <td>image/x-fits</td>\n",
       "      <td>2</td>\n",
       "      <td>4914418</td>\n",
       "      <td>None</td>\n",
       "      <td>image</td>\n",
       "      <td>public</td>\n",
       "      <td>calibrated</td>\n",
       "      <td>6.000000e-09</td>\n",
       "      <td>...</td>\n",
       "      <td>0.0001</td>\n",
       "      <td>https://cdaftp.cfa.harvard.edu/cgi-bin/chaser_...</td>\n",
       "      <td>8012</td>\n",
       "      <td>ACIS</td>\n",
       "      <td>C-COSMOS</td>\n",
       "      <td>150.124713</td>\n",
       "      <td>2.095025</td>\n",
       "      <td>54104.229596</td>\n",
       "      <td>49499.527374</td>\n",
       "      <td>polygon j2000 UNION ICRS TOPOCENTER  POLYGON 1...</td>\n",
       "    </tr>\n",
       "    <tr>\n",
       "      <th>5</th>\n",
       "      <td>https://cdaftp.cfa.harvard.edu/cgi-bin/chaser_...</td>\n",
       "      <td>527</td>\n",
       "      <td>image/x-fits</td>\n",
       "      <td>2</td>\n",
       "      <td>4914419</td>\n",
       "      <td>None</td>\n",
       "      <td>image</td>\n",
       "      <td>public</td>\n",
       "      <td>calibrated</td>\n",
       "      <td>6.000000e-09</td>\n",
       "      <td>...</td>\n",
       "      <td>0.0001</td>\n",
       "      <td>https://cdaftp.cfa.harvard.edu/cgi-bin/chaser_...</td>\n",
       "      <td>8013</td>\n",
       "      <td>ACIS</td>\n",
       "      <td>C-COSMOS</td>\n",
       "      <td>149.999441</td>\n",
       "      <td>2.140587</td>\n",
       "      <td>54104.822690</td>\n",
       "      <td>48115.634792</td>\n",
       "      <td>polygon j2000 UNION ICRS TOPOCENTER  POLYGON 1...</td>\n",
       "    </tr>\n",
       "    <tr>\n",
       "      <th>6</th>\n",
       "      <td>https://cdaftp.cfa.harvard.edu/cgi-bin/chaser_...</td>\n",
       "      <td>522</td>\n",
       "      <td>image/x-fits</td>\n",
       "      <td>2</td>\n",
       "      <td>4914420</td>\n",
       "      <td>None</td>\n",
       "      <td>image</td>\n",
       "      <td>public</td>\n",
       "      <td>calibrated</td>\n",
       "      <td>6.000000e-09</td>\n",
       "      <td>...</td>\n",
       "      <td>0.0001</td>\n",
       "      <td>https://cdaftp.cfa.harvard.edu/cgi-bin/chaser_...</td>\n",
       "      <td>8014</td>\n",
       "      <td>ACIS</td>\n",
       "      <td>C-COSMOS</td>\n",
       "      <td>149.874166</td>\n",
       "      <td>2.186129</td>\n",
       "      <td>54105.395729</td>\n",
       "      <td>47858.684211</td>\n",
       "      <td>polygon j2000 UNION ICRS TOPOCENTER  POLYGON 1...</td>\n",
       "    </tr>\n",
       "    <tr>\n",
       "      <th>7</th>\n",
       "      <td>https://cdaftp.cfa.harvard.edu/cgi-bin/chaser_...</td>\n",
       "      <td>439</td>\n",
       "      <td>image/x-fits</td>\n",
       "      <td>2</td>\n",
       "      <td>4914521</td>\n",
       "      <td>None</td>\n",
       "      <td>image</td>\n",
       "      <td>public</td>\n",
       "      <td>calibrated</td>\n",
       "      <td>6.000000e-09</td>\n",
       "      <td>...</td>\n",
       "      <td>0.0001</td>\n",
       "      <td>https://cdaftp.cfa.harvard.edu/cgi-bin/chaser_...</td>\n",
       "      <td>8123</td>\n",
       "      <td>ACIS</td>\n",
       "      <td>C-COSMOS</td>\n",
       "      <td>150.212714</td>\n",
       "      <td>2.334583</td>\n",
       "      <td>54197.569689</td>\n",
       "      <td>49123.589776</td>\n",
       "      <td>polygon j2000 UNION ICRS TOPOCENTER  POLYGON 1...</td>\n",
       "    </tr>\n",
       "    <tr>\n",
       "      <th>8</th>\n",
       "      <td>https://cdaftp.cfa.harvard.edu/cgi-bin/chaser_...</td>\n",
       "      <td>437</td>\n",
       "      <td>image/x-fits</td>\n",
       "      <td>2</td>\n",
       "      <td>4914522</td>\n",
       "      <td>None</td>\n",
       "      <td>image</td>\n",
       "      <td>public</td>\n",
       "      <td>calibrated</td>\n",
       "      <td>6.000000e-09</td>\n",
       "      <td>...</td>\n",
       "      <td>0.0001</td>\n",
       "      <td>https://cdaftp.cfa.harvard.edu/cgi-bin/chaser_...</td>\n",
       "      <td>8124</td>\n",
       "      <td>ACIS</td>\n",
       "      <td>C-COSMOS</td>\n",
       "      <td>150.292376</td>\n",
       "      <td>2.163767</td>\n",
       "      <td>54198.154295</td>\n",
       "      <td>31689.459561</td>\n",
       "      <td>polygon j2000 UNION ICRS TOPOCENTER  POLYGON 1...</td>\n",
       "    </tr>\n",
       "    <tr>\n",
       "      <th>9</th>\n",
       "      <td>https://cdaftp.cfa.harvard.edu/cgi-bin/chaser_...</td>\n",
       "      <td>506</td>\n",
       "      <td>image/x-fits</td>\n",
       "      <td>2</td>\n",
       "      <td>4914812</td>\n",
       "      <td>None</td>\n",
       "      <td>image</td>\n",
       "      <td>public</td>\n",
       "      <td>calibrated</td>\n",
       "      <td>6.000000e-09</td>\n",
       "      <td>...</td>\n",
       "      <td>0.0001</td>\n",
       "      <td>https://cdaftp.cfa.harvard.edu/cgi-bin/chaser_...</td>\n",
       "      <td>8497</td>\n",
       "      <td>ACIS</td>\n",
       "      <td>C-COSMOS</td>\n",
       "      <td>150.044928</td>\n",
       "      <td>2.266112</td>\n",
       "      <td>54094.076538</td>\n",
       "      <td>27797.102061</td>\n",
       "      <td>polygon j2000 UNION ICRS TOPOCENTER  POLYGON 1...</td>\n",
       "    </tr>\n",
       "    <tr>\n",
       "      <th>10</th>\n",
       "      <td>https://cdaftp.cfa.harvard.edu/cgi-bin/chaser_...</td>\n",
       "      <td>516</td>\n",
       "      <td>image/x-fits</td>\n",
       "      <td>2</td>\n",
       "      <td>4914815</td>\n",
       "      <td>None</td>\n",
       "      <td>image</td>\n",
       "      <td>public</td>\n",
       "      <td>calibrated</td>\n",
       "      <td>6.000000e-09</td>\n",
       "      <td>...</td>\n",
       "      <td>0.0001</td>\n",
       "      <td>https://cdaftp.cfa.harvard.edu/cgi-bin/chaser_...</td>\n",
       "      <td>8503</td>\n",
       "      <td>ACIS</td>\n",
       "      <td>C-COSMOS</td>\n",
       "      <td>150.170306</td>\n",
       "      <td>2.220435</td>\n",
       "      <td>54100.429450</td>\n",
       "      <td>20410.238613</td>\n",
       "      <td>polygon j2000 UNION ICRS TOPOCENTER  POLYGON 1...</td>\n",
       "    </tr>\n",
       "    <tr>\n",
       "      <th>11</th>\n",
       "      <td>https://cdaftp.cfa.harvard.edu/cgi-bin/chaser_...</td>\n",
       "      <td>442</td>\n",
       "      <td>image/x-fits</td>\n",
       "      <td>2</td>\n",
       "      <td>4914843</td>\n",
       "      <td>None</td>\n",
       "      <td>image</td>\n",
       "      <td>public</td>\n",
       "      <td>calibrated</td>\n",
       "      <td>6.000000e-09</td>\n",
       "      <td>...</td>\n",
       "      <td>0.0001</td>\n",
       "      <td>https://cdaftp.cfa.harvard.edu/cgi-bin/chaser_...</td>\n",
       "      <td>8549</td>\n",
       "      <td>ACIS</td>\n",
       "      <td>C-COSMOS</td>\n",
       "      <td>150.292365</td>\n",
       "      <td>2.163726</td>\n",
       "      <td>54225.720218</td>\n",
       "      <td>17813.146331</td>\n",
       "      <td>polygon j2000 UNION ICRS TOPOCENTER  POLYGON 1...</td>\n",
       "    </tr>\n",
       "    <tr>\n",
       "      <th>12</th>\n",
       "      <td>https://cdaftp.cfa.harvard.edu/cgi-bin/chaser_...</td>\n",
       "      <td>545</td>\n",
       "      <td>image/x-fits</td>\n",
       "      <td>2</td>\n",
       "      <td>4917916</td>\n",
       "      <td>None</td>\n",
       "      <td>image</td>\n",
       "      <td>public</td>\n",
       "      <td>calibrated</td>\n",
       "      <td>6.000000e-09</td>\n",
       "      <td>...</td>\n",
       "      <td>0.0001</td>\n",
       "      <td>https://cdaftp.cfa.harvard.edu/cgi-bin/chaser_...</td>\n",
       "      <td>12810</td>\n",
       "      <td>HRC</td>\n",
       "      <td>2XMM J100043.1+020637</td>\n",
       "      <td>150.183368</td>\n",
       "      <td>2.112489</td>\n",
       "      <td>55585.232420</td>\n",
       "      <td>79298.884758</td>\n",
       "      <td>polygon j2000 UNION ICRS TOPOCENTER  POLYGON 1...</td>\n",
       "    </tr>\n",
       "  </tbody>\n",
       "</table>\n",
       "<p>13 rows × 52 columns</p>\n",
       "</div>"
      ],
      "text/plain": [
       "                                           access_url  access_estsize  \\\n",
       "0   https://cdaftp.cfa.harvard.edu/cgi-bin/chaser_...             432   \n",
       "1   https://cdaftp.cfa.harvard.edu/cgi-bin/chaser_...             515   \n",
       "2   https://cdaftp.cfa.harvard.edu/cgi-bin/chaser_...             509   \n",
       "3   https://cdaftp.cfa.harvard.edu/cgi-bin/chaser_...             519   \n",
       "4   https://cdaftp.cfa.harvard.edu/cgi-bin/chaser_...             524   \n",
       "5   https://cdaftp.cfa.harvard.edu/cgi-bin/chaser_...             527   \n",
       "6   https://cdaftp.cfa.harvard.edu/cgi-bin/chaser_...             522   \n",
       "7   https://cdaftp.cfa.harvard.edu/cgi-bin/chaser_...             439   \n",
       "8   https://cdaftp.cfa.harvard.edu/cgi-bin/chaser_...             437   \n",
       "9   https://cdaftp.cfa.harvard.edu/cgi-bin/chaser_...             506   \n",
       "10  https://cdaftp.cfa.harvard.edu/cgi-bin/chaser_...             516   \n",
       "11  https://cdaftp.cfa.harvard.edu/cgi-bin/chaser_...             442   \n",
       "12  https://cdaftp.cfa.harvard.edu/cgi-bin/chaser_...             545   \n",
       "\n",
       "   access_format  calib_level  chandra_obs_photo_oid dataproduct_subtype  \\\n",
       "0   image/x-fits            2                4914407                None   \n",
       "1   image/x-fits            2                4914412                None   \n",
       "2   image/x-fits            2                4914413                None   \n",
       "3   image/x-fits            2                4914414                None   \n",
       "4   image/x-fits            2                4914418                None   \n",
       "5   image/x-fits            2                4914419                None   \n",
       "6   image/x-fits            2                4914420                None   \n",
       "7   image/x-fits            2                4914521                None   \n",
       "8   image/x-fits            2                4914522                None   \n",
       "9   image/x-fits            2                4914812                None   \n",
       "10  image/x-fits            2                4914815                None   \n",
       "11  image/x-fits            2                4914843                None   \n",
       "12  image/x-fits            2                4917916                None   \n",
       "\n",
       "   dataproduct_type  data_rights em_calib_status        em_max  ...  \\\n",
       "0             image  public           calibrated  6.000000e-09  ...   \n",
       "1             image  public           calibrated  6.000000e-09  ...   \n",
       "2             image  public           calibrated  6.000000e-09  ...   \n",
       "3             image  public           calibrated  6.000000e-09  ...   \n",
       "4             image  public           calibrated  6.000000e-09  ...   \n",
       "5             image  public           calibrated  6.000000e-09  ...   \n",
       "6             image  public           calibrated  6.000000e-09  ...   \n",
       "7             image  public           calibrated  6.000000e-09  ...   \n",
       "8             image  public           calibrated  6.000000e-09  ...   \n",
       "9             image  public           calibrated  6.000000e-09  ...   \n",
       "10            image  public           calibrated  6.000000e-09  ...   \n",
       "11            image  public           calibrated  6.000000e-09  ...   \n",
       "12            image  public           calibrated  6.000000e-09  ...   \n",
       "\n",
       "    t_stat_error                                       postcard_url  obs_id  \\\n",
       "0         0.0001  https://cdaftp.cfa.harvard.edu/cgi-bin/chaser_...    8001   \n",
       "1         0.0001  https://cdaftp.cfa.harvard.edu/cgi-bin/chaser_...    8006   \n",
       "2         0.0001  https://cdaftp.cfa.harvard.edu/cgi-bin/chaser_...    8007   \n",
       "3         0.0001  https://cdaftp.cfa.harvard.edu/cgi-bin/chaser_...    8008   \n",
       "4         0.0001  https://cdaftp.cfa.harvard.edu/cgi-bin/chaser_...    8012   \n",
       "5         0.0001  https://cdaftp.cfa.harvard.edu/cgi-bin/chaser_...    8013   \n",
       "6         0.0001  https://cdaftp.cfa.harvard.edu/cgi-bin/chaser_...    8014   \n",
       "7         0.0001  https://cdaftp.cfa.harvard.edu/cgi-bin/chaser_...    8123   \n",
       "8         0.0001  https://cdaftp.cfa.harvard.edu/cgi-bin/chaser_...    8124   \n",
       "9         0.0001  https://cdaftp.cfa.harvard.edu/cgi-bin/chaser_...    8497   \n",
       "10        0.0001  https://cdaftp.cfa.harvard.edu/cgi-bin/chaser_...    8503   \n",
       "11        0.0001  https://cdaftp.cfa.harvard.edu/cgi-bin/chaser_...    8549   \n",
       "12        0.0001  https://cdaftp.cfa.harvard.edu/cgi-bin/chaser_...   12810   \n",
       "\n",
       "    instrument_name            target_name        s_ra     s_dec  \\\n",
       "0              ACIS               C-COSMOS  150.338138  2.289032   \n",
       "1              ACIS               C-COSMOS  150.170323  2.220460   \n",
       "2              ACIS               C-COSMOS  150.044920  2.266118   \n",
       "3              ACIS               C-COSMOS  149.919773  2.311538   \n",
       "4              ACIS               C-COSMOS  150.124713  2.095025   \n",
       "5              ACIS               C-COSMOS  149.999441  2.140587   \n",
       "6              ACIS               C-COSMOS  149.874166  2.186129   \n",
       "7              ACIS               C-COSMOS  150.212714  2.334583   \n",
       "8              ACIS               C-COSMOS  150.292376  2.163767   \n",
       "9              ACIS               C-COSMOS  150.044928  2.266112   \n",
       "10             ACIS               C-COSMOS  150.170306  2.220435   \n",
       "11             ACIS               C-COSMOS  150.292365  2.163726   \n",
       "12              HRC  2XMM J100043.1+020637  150.183368  2.112489   \n",
       "\n",
       "           t_min     t_exptime  \\\n",
       "0   54192.154658  48674.862721   \n",
       "1   54101.492241  26681.765299   \n",
       "2   54088.929365  21753.017469   \n",
       "3   54102.194052  46431.672633   \n",
       "4   54104.229596  49499.527374   \n",
       "5   54104.822690  48115.634792   \n",
       "6   54105.395729  47858.684211   \n",
       "7   54197.569689  49123.589776   \n",
       "8   54198.154295  31689.459561   \n",
       "9   54094.076538  27797.102061   \n",
       "10  54100.429450  20410.238613   \n",
       "11  54225.720218  17813.146331   \n",
       "12  55585.232420  79298.884758   \n",
       "\n",
       "                                                stc_s  \n",
       "0   polygon j2000 UNION ICRS TOPOCENTER  POLYGON 1...  \n",
       "1   polygon j2000 UNION ICRS TOPOCENTER  POLYGON 1...  \n",
       "2   polygon j2000 UNION ICRS TOPOCENTER  POLYGON 1...  \n",
       "3   polygon j2000 UNION ICRS TOPOCENTER  POLYGON 1...  \n",
       "4   polygon j2000 UNION ICRS TOPOCENTER  POLYGON 1...  \n",
       "5   polygon j2000 UNION ICRS TOPOCENTER  POLYGON 1...  \n",
       "6   polygon j2000 UNION ICRS TOPOCENTER  POLYGON 1...  \n",
       "7   polygon j2000 UNION ICRS TOPOCENTER  POLYGON 1...  \n",
       "8   polygon j2000 UNION ICRS TOPOCENTER  POLYGON 1...  \n",
       "9   polygon j2000 UNION ICRS TOPOCENTER  POLYGON 1...  \n",
       "10  polygon j2000 UNION ICRS TOPOCENTER  POLYGON 1...  \n",
       "11  polygon j2000 UNION ICRS TOPOCENTER  POLYGON 1...  \n",
       "12  polygon j2000 UNION ICRS TOPOCENTER  POLYGON 1...  \n",
       "\n",
       "[13 rows x 52 columns]"
      ]
     },
     "execution_count": 17,
     "metadata": {},
     "output_type": "execute_result"
    }
   ],
   "source": [
    "data=esasky.getResultPanelData()\n",
    "chandra = pd.DataFrame.from_dict(data)\n",
    "chandra"
   ]
  },
  {
   "cell_type": "code",
   "execution_count": 18,
   "metadata": {},
   "outputs": [
    {
     "data": {
      "image/jpeg": "[encoded data removed]",
      "text/plain": [
       "<IPython.core.display.Image object>"
      ]
     },
     "execution_count": 18,
     "metadata": {},
     "output_type": "execute_result"
    }
   ],
   "source": [
    "# plot one of the Chandra observation postcards:\n",
    "from IPython.display import Image\n",
    "Image(chandra.iloc[5]['postcard_url'])"
   ]
  },
  {
   "cell_type": "markdown",
   "metadata": {},
   "source": [
    "### Download data from XMM-Newton in the current FoV"
   ]
  },
  {
   "cell_type": "code",
   "execution_count": 19,
   "metadata": {},
   "outputs": [
    {
     "name": "stdout",
     "output_type": "stream",
     "text": [
      "Image observations from missionId: XMM displayed in the ESASky\n"
     ]
    }
   ],
   "source": [
    "# Plot the XMM-Newton imaging observations in ESASky\n",
    "esasky.plotObservations('XMM')"
   ]
  },
  {
   "cell_type": "code",
   "execution_count": 20,
   "metadata": {
    "scrolled": true
   },
   "outputs": [
    {
     "data": {
      "text/html": [
       "<div>\n",
       "<style scoped>\n",
       "    .dataframe tbody tr th:only-of-type {\n",
       "        vertical-align: middle;\n",
       "    }\n",
       "\n",
       "    .dataframe tbody tr th {\n",
       "        vertical-align: top;\n",
       "    }\n",
       "\n",
       "    .dataframe thead th {\n",
       "        text-align: right;\n",
       "    }\n",
       "</style>\n",
       "<table border=\"1\" class=\"dataframe\">\n",
       "  <thead>\n",
       "    <tr style=\"text-align: right;\">\n",
       "      <th></th>\n",
       "      <th>position_angle</th>\n",
       "      <th>postcard_url</th>\n",
       "      <th>product_url</th>\n",
       "      <th>observation_id</th>\n",
       "      <th>observation_oid</th>\n",
       "      <th>ra_deg</th>\n",
       "      <th>dec_deg</th>\n",
       "      <th>target_name</th>\n",
       "      <th>instrument</th>\n",
       "      <th>start_time</th>\n",
       "      <th>end_time</th>\n",
       "      <th>duration</th>\n",
       "      <th>stc_s</th>\n",
       "    </tr>\n",
       "  </thead>\n",
       "  <tbody>\n",
       "    <tr>\n",
       "      <th>0</th>\n",
       "      <td>109.31900</td>\n",
       "      <td>http://nxsa.esac.esa.int/nxsa-sl/servlet/data-...</td>\n",
       "      <td>http://nxsa.esac.esa.int/nxsa-sl/servlet/data-...</td>\n",
       "      <td>0203360801</td>\n",
       "      <td>57698</td>\n",
       "      <td>150.36000</td>\n",
       "      <td>2.210000</td>\n",
       "      <td>COSMOS FIELD 8</td>\n",
       "      <td>EPIC</td>\n",
       "      <td>2004-11-17T21:48:58.0</td>\n",
       "      <td>2004-11-18T12:32:48.0</td>\n",
       "      <td>53030</td>\n",
       "      <td>POLYGON J2000 150.378966425527 1.962772734369...</td>\n",
       "    </tr>\n",
       "    <tr>\n",
       "      <th>1</th>\n",
       "      <td>111.49267</td>\n",
       "      <td>http://nxsa.esac.esa.int/nxsa-sl/servlet/data-...</td>\n",
       "      <td>http://nxsa.esac.esa.int/nxsa-sl/servlet/data-...</td>\n",
       "      <td>0203361301</td>\n",
       "      <td>57703</td>\n",
       "      <td>150.10995</td>\n",
       "      <td>2.210000</td>\n",
       "      <td>COSMOS FIELD 13</td>\n",
       "      <td>EPIC</td>\n",
       "      <td>2003-12-10T11:23:18.0</td>\n",
       "      <td>2003-12-10T20:13:32.0</td>\n",
       "      <td>31814</td>\n",
       "      <td>POLYGON J2000 150.119182241097 1.961439563435...</td>\n",
       "    </tr>\n",
       "    <tr>\n",
       "      <th>2</th>\n",
       "      <td>110.58479</td>\n",
       "      <td>http://nxsa.esac.esa.int/nxsa-sl/servlet/data-...</td>\n",
       "      <td>http://nxsa.esac.esa.int/nxsa-sl/servlet/data-...</td>\n",
       "      <td>0302350801</td>\n",
       "      <td>58370</td>\n",
       "      <td>150.34335</td>\n",
       "      <td>2.210000</td>\n",
       "      <td>Cosmos field B8</td>\n",
       "      <td>EPIC</td>\n",
       "      <td>2005-11-25T19:43:56.0</td>\n",
       "      <td>2005-11-26T01:15:47.0</td>\n",
       "      <td>19911</td>\n",
       "      <td>POLYGON J2000 150.355517498744 1.962272863506...</td>\n",
       "    </tr>\n",
       "    <tr>\n",
       "      <th>3</th>\n",
       "      <td>291.52957</td>\n",
       "      <td>http://nxsa.esac.esa.int/nxsa-sl/servlet/data-...</td>\n",
       "      <td>http://nxsa.esac.esa.int/nxsa-sl/servlet/data-...</td>\n",
       "      <td>0672780101</td>\n",
       "      <td>62595</td>\n",
       "      <td>150.17985</td>\n",
       "      <td>2.110389</td>\n",
       "      <td>CID-42</td>\n",
       "      <td>EPIC</td>\n",
       "      <td>2011-06-03T05:13:50.0</td>\n",
       "      <td>2011-06-04T18:09:33.0</td>\n",
       "      <td>132943</td>\n",
       "      <td>POLYGON J2000 150.16060570992 1.8563273947007...</td>\n",
       "    </tr>\n",
       "    <tr>\n",
       "      <th>4</th>\n",
       "      <td>110.26381</td>\n",
       "      <td>http://nxsa.esac.esa.int/nxsa-sl/servlet/data-...</td>\n",
       "      <td>http://nxsa.esac.esa.int/nxsa-sl/servlet/data-...</td>\n",
       "      <td>0302351301</td>\n",
       "      <td>58375</td>\n",
       "      <td>150.10995</td>\n",
       "      <td>2.226667</td>\n",
       "      <td>Cosmos field B13</td>\n",
       "      <td>EPIC</td>\n",
       "      <td>2005-11-23T17:25:30.0</td>\n",
       "      <td>2005-11-23T22:57:16.0</td>\n",
       "      <td>19906</td>\n",
       "      <td>POLYGON J2000 150.123699528738 1.978189503299...</td>\n",
       "    </tr>\n",
       "  </tbody>\n",
       "</table>\n",
       "</div>"
      ],
      "text/plain": [
       "   position_angle                                       postcard_url  \\\n",
       "0       109.31900  http://nxsa.esac.esa.int/nxsa-sl/servlet/data-...   \n",
       "1       111.49267  http://nxsa.esac.esa.int/nxsa-sl/servlet/data-...   \n",
       "2       110.58479  http://nxsa.esac.esa.int/nxsa-sl/servlet/data-...   \n",
       "3       291.52957  http://nxsa.esac.esa.int/nxsa-sl/servlet/data-...   \n",
       "4       110.26381  http://nxsa.esac.esa.int/nxsa-sl/servlet/data-...   \n",
       "\n",
       "                                         product_url observation_id  \\\n",
       "0  http://nxsa.esac.esa.int/nxsa-sl/servlet/data-...     0203360801   \n",
       "1  http://nxsa.esac.esa.int/nxsa-sl/servlet/data-...     0203361301   \n",
       "2  http://nxsa.esac.esa.int/nxsa-sl/servlet/data-...     0302350801   \n",
       "3  http://nxsa.esac.esa.int/nxsa-sl/servlet/data-...     0672780101   \n",
       "4  http://nxsa.esac.esa.int/nxsa-sl/servlet/data-...     0302351301   \n",
       "\n",
       "   observation_oid     ra_deg   dec_deg       target_name instrument  \\\n",
       "0            57698  150.36000  2.210000    COSMOS FIELD 8       EPIC   \n",
       "1            57703  150.10995  2.210000   COSMOS FIELD 13       EPIC   \n",
       "2            58370  150.34335  2.210000   Cosmos field B8       EPIC   \n",
       "3            62595  150.17985  2.110389            CID-42       EPIC   \n",
       "4            58375  150.10995  2.226667  Cosmos field B13       EPIC   \n",
       "\n",
       "              start_time               end_time  duration  \\\n",
       "0  2004-11-17T21:48:58.0  2004-11-18T12:32:48.0     53030   \n",
       "1  2003-12-10T11:23:18.0  2003-12-10T20:13:32.0     31814   \n",
       "2  2005-11-25T19:43:56.0  2005-11-26T01:15:47.0     19911   \n",
       "3  2011-06-03T05:13:50.0  2011-06-04T18:09:33.0    132943   \n",
       "4  2005-11-23T17:25:30.0  2005-11-23T22:57:16.0     19906   \n",
       "\n",
       "                                               stc_s  \n",
       "0   POLYGON J2000 150.378966425527 1.962772734369...  \n",
       "1   POLYGON J2000 150.119182241097 1.961439563435...  \n",
       "2   POLYGON J2000 150.355517498744 1.962272863506...  \n",
       "3   POLYGON J2000 150.16060570992 1.8563273947007...  \n",
       "4   POLYGON J2000 150.123699528738 1.978189503299...  "
      ]
     },
     "execution_count": 20,
     "metadata": {},
     "output_type": "execute_result"
    }
   ],
   "source": [
    "data=esasky.getResultPanelData()\n",
    "xmm_newton = pd.DataFrame.from_dict(data)\n",
    "xmm_newton"
   ]
  },
  {
   "cell_type": "markdown",
   "metadata": {},
   "source": [
    "### Display and get data from External Data Centres"
   ]
  },
  {
   "cell_type": "code",
   "execution_count": 21,
   "metadata": {},
   "outputs": [
    {
     "data": {
      "text/plain": [
       "['ESO', 'ASTRON', 'HEASARC', 'CADC', 'MAST']"
      ]
     },
     "execution_count": 21,
     "metadata": {},
     "output_type": "execute_result"
    }
   ],
   "source": [
    "# View the available predefined external TAP services in ESASky,\n",
    "# e.g. European Southern Observatory (ESO), MAST (STScI), Canadian \n",
    "# Astronomical Data Centre (CADC)\n",
    "esasky.getAvailableTapServices()"
   ]
  },
  {
   "cell_type": "code",
   "execution_count": 22,
   "metadata": {
    "scrolled": true
   },
   "outputs": [
    {
     "data": {
      "text/plain": [
       "{'ESO': {}, 'ASTRON': {}, 'HEASARC': {}, 'CADC': {}, 'MAST': {}}"
      ]
     },
     "execution_count": 22,
     "metadata": {},
     "output_type": "execute_result"
    }
   ],
   "source": [
    "# View all the available external TAP missions:\n",
    "esasky.getAllAvailableTapMissions()"
   ]
  },
  {
   "cell_type": "code",
   "execution_count": 24,
   "metadata": {},
   "outputs": [
    {
     "data": {
      "text/plain": [
       "{'ESO-spectrum-ZCOSMOS': 12865,\n",
       " 'ESO-spectrum-FORS2-SPEC': 957,\n",
       " 'ESO-spectrum-LEGA-C': 2390,\n",
       " 'ESO-spectrum-XSHOOTER': 948,\n",
       " 'ESO-spectrum-UVES': 26,\n",
       " 'ESO-spectrum-GIRAFFE': 4708,\n",
       " 'ESO-measurements-VIMOS': 188,\n",
       " 'ESO-measurements-KIDS': 6,\n",
       " 'ESO-measurements-UltraVISTA': 12,\n",
       " 'ESO-measurements-HAWKI': 164,\n",
       " 'ESO-measurements-ZCOSMOS': 1,\n",
       " 'ESO-cube-ALMA': 3837,\n",
       " 'ESO-cube-SUPER': 3,\n",
       " 'ESO-cube-KMOS': 16492,\n",
       " 'ESO-cube-MUSE': 198,\n",
       " 'ESO-cube-MUSE-DEEP': 29,\n",
       " 'ESO-image-UltraVISTA': 5,\n",
       " 'ESO-image-VIMOS': 188,\n",
       " 'ESO-image-HAWKI': 164,\n",
       " 'ESO-image-KIDS': 4,\n",
       " 'ESO-image-ALMA': 9790}"
      ]
     },
     "execution_count": 24,
     "metadata": {},
     "output_type": "execute_result"
    }
   ],
   "source": [
    "# Return the available data in the current field of from ESO (from the ESO TAP):\n",
    "esasky.getTapServiceCount('ESO')"
   ]
  },
  {
   "cell_type": "code",
   "execution_count": 25,
   "metadata": {},
   "outputs": [
    {
     "ename": "TimeoutError",
     "evalue": "Request timed out",
     "output_type": "error",
     "traceback": [
      "\u001b[1;31m---------------------------------------------------------------------------\u001b[0m",
      "\u001b[1;31mTimeoutError\u001b[0m                              Traceback (most recent call last)",
      "Cell \u001b[1;32mIn[25], line 2\u001b[0m\n\u001b[0;32m      1\u001b[0m \u001b[38;5;66;03m# Plot the footprints and metadata in pyESASky for ESO VLT images in the current FoV \u001b[39;00m\n\u001b[1;32m----> 2\u001b[0m \u001b[43mesasky\u001b[49m\u001b[38;5;241;43m.\u001b[39;49m\u001b[43mplotTapService\u001b[49m\u001b[43m(\u001b[49m\u001b[38;5;124;43m'\u001b[39;49m\u001b[38;5;124;43meso-image-eso-vlt-u\u001b[39;49m\u001b[38;5;124;43m'\u001b[39;49m\u001b[43m)\u001b[49m\n",
      "File \u001b[1;32m~\\anaconda3\\envs\\tf-gpu\\lib\\site-packages\\pyesasky\\pyesasky.py:1269\u001b[0m, in \u001b[0;36mESASkyWidget.plotTapService\u001b[1;34m(self, tapServiceName)\u001b[0m\n\u001b[0;32m   1262\u001b[0m \u001b[38;5;124;03m\"\"\"Plots data from selected mission in the an external TAP service\"\"\"\u001b[39;00m\n\u001b[0;32m   1264\u001b[0m content \u001b[38;5;241m=\u001b[39m \u001b[38;5;28mdict\u001b[39m(\n\u001b[0;32m   1265\u001b[0m     event\u001b[38;5;241m=\u001b[39m\u001b[38;5;124m'\u001b[39m\u001b[38;5;124mplotTapService\u001b[39m\u001b[38;5;124m'\u001b[39m,\n\u001b[0;32m   1266\u001b[0m     content\u001b[38;5;241m=\u001b[39m\u001b[38;5;28mdict\u001b[39m(\n\u001b[0;32m   1267\u001b[0m         tapService\u001b[38;5;241m=\u001b[39mtapServiceName\n\u001b[0;32m   1268\u001b[0m     ))\n\u001b[1;32m-> 1269\u001b[0m \u001b[38;5;28;01mreturn\u001b[39;00m \u001b[38;5;28;43mself\u001b[39;49m\u001b[38;5;241;43m.\u001b[39;49m\u001b[43m_sendAwaitCallback\u001b[49m\u001b[43m(\u001b[49m\u001b[43mcontent\u001b[49m\u001b[43m)\u001b[49m\n",
      "File \u001b[1;32m~\\anaconda3\\envs\\tf-gpu\\lib\\site-packages\\pyesasky\\pyesasky.py:175\u001b[0m, in \u001b[0;36mESASkyWidget._sendAwaitCallback\u001b[1;34m(self, content)\u001b[0m\n\u001b[0;32m    173\u001b[0m             \u001b[38;5;28;01mreturn\u001b[39;00m val\n\u001b[0;32m    174\u001b[0m     time\u001b[38;5;241m.\u001b[39msleep(\u001b[38;5;241m0.1\u001b[39m)\n\u001b[1;32m--> 175\u001b[0m \u001b[38;5;28;01mraise\u001b[39;00m (\u001b[38;5;167;01mTimeoutError\u001b[39;00m(\u001b[38;5;124m\"\u001b[39m\u001b[38;5;124mRequest timed out\u001b[39m\u001b[38;5;124m\"\u001b[39m))\n",
      "\u001b[1;31mTimeoutError\u001b[0m: Request timed out"
     ]
    }
   ],
   "source": [
    "# Plot the footprints and metadata in pyESASky for ESO VLT images in the current FoV \n",
    "esasky.plotTapService('eso-image-eso-vlt-u')"
   ]
  },
  {
   "cell_type": "code",
   "execution_count": null,
   "metadata": {
    "scrolled": true,
    "tags": []
   },
   "outputs": [],
   "source": [
    "data=esasky.getResultPanelData()\n",
    "vlt = pd.DataFrame.from_dict(data)\n",
    "vlt"
   ]
  },
  {
   "cell_type": "markdown",
   "metadata": {},
   "source": [
    "<br />\n",
    "<p style=\"font-weight: bold;text-align: center;font-size: 2.0em;color: #00338D\">Cross-match catalogues using astropy</p>"
   ]
  },
  {
   "cell_type": "markdown",
   "metadata": {},
   "source": [
    "### Cross-match the two catalogues using astropy.coordinates"
   ]
  },
  {
   "cell_type": "code",
   "execution_count": null,
   "metadata": {},
   "outputs": [],
   "source": [
    "from astropy.coordinates import SkyCoord\n",
    "from astropy.coordinates import ICRS, Galactic, FK4, FK5\n",
    "from astropy import units as u"
   ]
  },
  {
   "cell_type": "code",
   "execution_count": null,
   "metadata": {},
   "outputs": [],
   "source": [
    "ra1 = xmmepic['ra']\n",
    "dec1 = xmmepic['dec']\n",
    "ra2 = HPPSC100['ra']\n",
    "dec2 = HPPSC100['dec']\n",
    "c = SkyCoord(ra1, dec1, frame='icrs', unit='deg')\n",
    "catalog = SkyCoord(ra2, dec2, frame='icrs', unit='deg')\n",
    "idx, d2d, d3d = c.match_to_catalog_sky(catalog)"
   ]
  },
  {
   "cell_type": "code",
   "execution_count": null,
   "metadata": {
    "scrolled": true
   },
   "outputs": [],
   "source": [
    "# Set a maximum separation as 5 arcseconds\n",
    "max_sep = 5.0 * u.arcsec\n",
    "idx, d2d, d3d = c.match_to_catalog_3d(catalog)\n",
    "sep_constraint = d2d < max_sep\n",
    "c_matches = c[sep_constraint]\n",
    "catalog_matches = catalog[idx[sep_constraint]]\n",
    "catalog_matches\n",
    "#catalog_matches"
   ]
  },
  {
   "cell_type": "code",
   "execution_count": null,
   "metadata": {},
   "outputs": [],
   "source": [
    "# Convert the SkyCoord column to an astropy table \n",
    "# and add a Name column (for pyESASky)\n",
    "from astropy.table import Table\n",
    "import numpy as np\n",
    "XMMEPIC_HPPSC100 = Table()\n",
    "XMMEPIC_HPPSC100['ra'] = catalog_matches.ra\n",
    "XMMEPIC_HPPSC100['dec'] = catalog_matches.dec\n",
    "XMMEPIC_HPPSC100['Name'] = np.linspace(1, catalog_matches.size, catalog_matches.size)\n",
    "XMMEPIC_HPPSC100"
   ]
  },
  {
   "cell_type": "markdown",
   "metadata": {},
   "source": [
    "<br />\n",
    "<p style=\"font-weight: bold;text-align: center;font-size: 2.5em;color: #00338D\">Send your data to ESASky</p>"
   ]
  },
  {
   "cell_type": "markdown",
   "metadata": {},
   "source": [
    "## Send the cross-matched table to ESASky"
   ]
  },
  {
   "cell_type": "code",
   "execution_count": null,
   "metadata": {},
   "outputs": [],
   "source": [
    "# overlayCatalogueFromAstropyTable('<catName>', '<cooFrame>', <color>, <lineWidth>, <table>, '<raColname>', '<decColname>', '<mainIDColname>')\n",
    "# where:\n",
    "# - <catName> : name of the catalogue that will be used in pyESASky as label\n",
    "# - <cooFRAME> : coordinate frame\n",
    "# - <color> : HTML color. It could be a \"Color name\", \"Hex color code\" or \"RGB color code\"\n",
    "# - <lineWidth> : width used to draw sources. From 1 to 10\n",
    "# - <table> : name of the column containing a unique identifier for sources if any. None if not applicable\n",
    "# - <raColname> : name of the RA column in degrees\n",
    "# - <decColname> : name of the Dec column in degrees\n",
    "# - <mainIDColname> : name of the column with the name of the source\n",
    "\n",
    "esasky.overlayCatalogueFromAstropyTable('XMMEPIC_HPPSC100', 'J2000', '#ffff00', 10, XMMEPIC_HPPSC100, 'ra','dec','Name')"
   ]
  },
  {
   "cell_type": "markdown",
   "metadata": {},
   "source": [
    "## Send a catalogue in VizieR to ESASky"
   ]
  },
  {
   "cell_type": "code",
   "execution_count": null,
   "metadata": {},
   "outputs": [],
   "source": [
    "# Import the VizieR astroquery module\n",
    "from astroquery.vizier import Vizier"
   ]
  },
  {
   "cell_type": "code",
   "execution_count": null,
   "metadata": {},
   "outputs": [],
   "source": [
    "# Query the Véron-Cetty+ 2010 catalogue, VII/258/vv10, for the \n",
    "# Cosmos field with search radius 0.5 degrees\n",
    "result = Vizier.query_region(\"Cosmos Field\", \n",
    "                             radius=0.5*u.deg, catalog='VII/258/vv10')\n",
    "print(result)"
   ]
  },
  {
   "cell_type": "code",
   "execution_count": null,
   "metadata": {
    "scrolled": true
   },
   "outputs": [],
   "source": [
    "Veron = result['VII/258/vv10']\n",
    "Veron"
   ]
  },
  {
   "cell_type": "code",
   "execution_count": null,
   "metadata": {
    "scrolled": true
   },
   "outputs": [],
   "source": [
    "#transform the RA and Dec to degrees and add two new columns\n",
    "c = SkyCoord(Veron['RAJ2000'], Veron['DEJ2000'], unit=(u.hourangle, u.deg))\n",
    "Veron['RAJ2000'] = c.ra\n",
    "Veron['DEJ2000'] = c.dec\n",
    "Veron"
   ]
  },
  {
   "cell_type": "code",
   "execution_count": null,
   "metadata": {},
   "outputs": [],
   "source": [
    "# Send the catalogue to ESASky\n",
    "esasky.overlayCatalogueFromAstropyTable('Veron', 'J2000', '#33c9cc', 5, Veron, 'RAJ2000', 'DEJ2000','Name')"
   ]
  },
  {
   "cell_type": "markdown",
   "metadata": {},
   "source": [
    "You can also upload your own tables from files or create your own tables and send them to ESASky."
   ]
  },
  {
   "cell_type": "markdown",
   "metadata": {},
   "source": [
    "## Send Footprints to ESASky"
   ]
  },
  {
   "cell_type": "markdown",
   "metadata": {},
   "source": [
    "Go to another region in the sky, set the Fov and change the HiPS to Spitzer"
   ]
  },
  {
   "cell_type": "code",
   "execution_count": null,
   "metadata": {},
   "outputs": [],
   "source": [
    "esasky.closeAllResultPanelTabs()\n",
    "esasky.goToTargetName('[SPK2012] MWP1G300134-001035')\n",
    "esasky.setFoV(2.3)\n",
    "esasky.setHiPS(\"Spitzer cold SEIP IRAC-1-3-4 RGB bright\")\n",
    "#esasky.setHiPS(\"Spitzer\", \"http://cdn.skies.esac.esa.int/Spitzer/IRAC134_RGB_bright/\")"
   ]
  },
  {
   "cell_type": "code",
   "execution_count": null,
   "metadata": {},
   "outputs": [],
   "source": [
    "footprintDesc = FootprintSetDescriptor('test footprints', 'red', 5, 'id', 'id', 'stcs', 'ra', 'dec', [])"
   ]
  },
  {
   "cell_type": "code",
   "execution_count": null,
   "metadata": {},
   "outputs": [],
   "source": [
    "esasky.overlayFootprintsFromCSV('./testfootprint.csv', ',', footprintDesc)"
   ]
  },
  {
   "cell_type": "code",
   "execution_count": null,
   "metadata": {},
   "outputs": [],
   "source": [
    "esasky.closeResultPanelTab()"
   ]
  },
  {
   "cell_type": "markdown",
   "metadata": {},
   "source": [
    "## Send your own HiPS to ESASky"
   ]
  },
  {
   "cell_type": "markdown",
   "metadata": {},
   "source": [
    "This will start a tornado server opening up a port allowing web browser access to this path and all folders/files underneath"
   ]
  },
  {
   "cell_type": "code",
   "execution_count": null,
   "metadata": {},
   "outputs": [],
   "source": [
    "esasky.goToRADec('266.41683', '-29.00781')\n",
    "esasky.setFoV(90)\n",
    "esasky.removeHiPS('User')\n",
    "#Change the below directory to your own HiPS\n",
    "esasky.addLocalHiPS('/Users/dbaines/Downloads/LFI_SkyMap_030_1024_R3.00_full_HiPS/')\n",
    "esasky.openSkyPanel()"
   ]
  },
  {
   "cell_type": "code",
   "execution_count": null,
   "metadata": {},
   "outputs": [],
   "source": [
    "esasky.setHiPSColorPalette('PLANCK')"
   ]
  },
  {
   "cell_type": "code",
   "execution_count": null,
   "metadata": {},
   "outputs": [],
   "source": [
    "#Stop the tornado server:\n",
    "esasky.httpserver.stop()"
   ]
  },
  {
   "cell_type": "markdown",
   "metadata": {},
   "source": [
    "## Send HiPS from any URL to ESASky"
   ]
  },
  {
   "cell_type": "markdown",
   "metadata": {},
   "source": [
    "There are many additional HiPS available from many HiPS nodes, all listed here in the Aladin HiPS list: https://aladin.u-strasbg.fr/hips/list \n",
    "\n",
    "Select which HiPS you'd like to load in the list, copy the HiPS URL from the HiPS ID column in the HiPS sky maps section and paste the URL into the esasky.addHiPS command. Examples:"
   ]
  },
  {
   "cell_type": "code",
   "execution_count": null,
   "metadata": {},
   "outputs": [],
   "source": [
    "esasky.addHiPS(\"Skymapper\", \"https://alasky.u-strasbg.fr/Skymapper/skymapper_color/\")\n",
    "esasky.addHiPS(\"PanSTARRS DR1 color-i-r-g\", \"https://alasky.u-strasbg.fr/Pan-STARRS/DR1/color-i-r-g/\")\n",
    "esasky.addHiPS(\"DECaLS DR5 color\", \"https://alasky.u-strasbg.fr/DECaLS/DR5/color/\")\n",
    "esasky.addHiPS(\"ROSAT\", \"https://alasky.u-strasbg.fr/RASS/\")"
   ]
  },
  {
   "cell_type": "markdown",
   "metadata": {},
   "source": [
    "<br />\n",
    "<p style=\"font-weight: bold;text-align: center;font-size: 2.5em;color: #00338D\">Interacting with other ESASky Functionalities</p>"
   ]
  },
  {
   "cell_type": "markdown",
   "metadata": {},
   "source": [
    "## Perform Cone, Box and Polygon Searches"
   ]
  },
  {
   "cell_type": "markdown",
   "metadata": {},
   "source": [
    "There are a couple of ways to perform a cone search with pyESASky. "
   ]
  },
  {
   "cell_type": "markdown",
   "metadata": {},
   "source": [
    "#### Method 1) use the coneSearchCatalogues, Observations or Spectra commands:"
   ]
  },
  {
   "cell_type": "code",
   "execution_count": null,
   "metadata": {},
   "outputs": [],
   "source": [
    "esasky.goToRADec('15 0 0', '-59')\n",
    "esasky.setFoV(5)"
   ]
  },
  {
   "cell_type": "code",
   "execution_count": null,
   "metadata": {},
   "outputs": [],
   "source": [
    "?esasky.coneSearchCatalogues"
   ]
  },
  {
   "cell_type": "code",
   "execution_count": null,
   "metadata": {},
   "outputs": [],
   "source": [
    "esasky.coneSearchCatalogues('Herschel-HPPSC-160', '225.0', '-59', 1 )"
   ]
  },
  {
   "cell_type": "code",
   "execution_count": null,
   "metadata": {},
   "outputs": [],
   "source": [
    "esasky.coneSearchObservations('Chandra', '225.0', '-59', 1 )"
   ]
  },
  {
   "cell_type": "code",
   "execution_count": null,
   "metadata": {},
   "outputs": [],
   "source": [
    "esasky.coneSearchSpectra('ISO-IR', '225.0', '-59', 1 )"
   ]
  },
  {
   "cell_type": "code",
   "execution_count": null,
   "metadata": {},
   "outputs": [],
   "source": [
    "esasky.closeAllResultPanelTabs()"
   ]
  },
  {
   "cell_type": "markdown",
   "metadata": {},
   "source": [
    "#### Method 2) use the setConeSearchArea command:"
   ]
  },
  {
   "cell_type": "markdown",
   "metadata": {},
   "source": [
    "Define the Ra, Dec and radius, then data returned will only fall within this region. "
   ]
  },
  {
   "cell_type": "code",
   "execution_count": null,
   "metadata": {},
   "outputs": [],
   "source": [
    "ra = 225.0\n",
    "dec = -59.0\n",
    "radius = 1.0 # in decimal degrees\n",
    "esasky.setConeSearchArea(ra, dec, radius)"
   ]
  },
  {
   "cell_type": "code",
   "execution_count": null,
   "metadata": {},
   "outputs": [],
   "source": [
    "esasky.plotCatalogues('Herschel-HPPSC-160')\n",
    "esasky.plotObservations('Chandra')\n",
    "esasky.plotSpectra('ISO-IR')"
   ]
  },
  {
   "cell_type": "markdown",
   "metadata": {},
   "source": [
    "#### To perform a box or polygon search, use the setPolygonSearchArea(STCS) command. "
   ]
  },
  {
   "cell_type": "markdown",
   "metadata": {},
   "source": [
    "STCS strings are expected to follow the format of 'BOX|POLYGON ICRS RA(1) Dec(1) ... RA(n) Dec(n)'."
   ]
  },
  {
   "cell_type": "code",
   "execution_count": null,
   "metadata": {},
   "outputs": [],
   "source": [
    "esasky.setPolygonSearchArea('BOX ICRS 226.8297 -58.0490 223.2086 -58.0496 223.1085 -59.9203 226.9319 -59.9197')"
   ]
  },
  {
   "cell_type": "code",
   "execution_count": null,
   "metadata": {},
   "outputs": [],
   "source": [
    "esasky.setPolygonSearchArea('POLYGON ICRS 226.8682 -58.2503 225.3984 -60.1154 222.9764 -57.9569')"
   ]
  },
  {
   "cell_type": "code",
   "execution_count": null,
   "metadata": {},
   "outputs": [],
   "source": [
    "esasky.clearSearchArea()"
   ]
  },
  {
   "cell_type": "markdown",
   "metadata": {},
   "source": [
    "The Search tool panel can also be opened and closed with the following:"
   ]
  },
  {
   "cell_type": "code",
   "execution_count": null,
   "metadata": {},
   "outputs": [],
   "source": [
    "esasky.showSearchToolPanel()"
   ]
  },
  {
   "cell_type": "code",
   "execution_count": null,
   "metadata": {},
   "outputs": [],
   "source": [
    "esasky.closeSearchToolPanel()"
   ]
  },
  {
   "cell_type": "code",
   "execution_count": null,
   "metadata": {},
   "outputs": [],
   "source": [
    "esasky.clearSearchArea()"
   ]
  },
  {
   "cell_type": "code",
   "execution_count": null,
   "metadata": {},
   "outputs": [],
   "source": [
    "esasky.closeAllResultPanelTabs()"
   ]
  },
  {
   "cell_type": "markdown",
   "metadata": {},
   "source": [
    "## Sliding through different HiPS"
   ]
  },
  {
   "cell_type": "code",
   "execution_count": null,
   "metadata": {},
   "outputs": [],
   "source": [
    "# Go to Seyfert 2 Galaxy Centaurus A\n",
    "esasky.removeHiPS('User')\n",
    "esasky.goToRADec(201.365063, -43.019113)\n",
    "esasky.setFoV(0.2)"
   ]
  },
  {
   "cell_type": "markdown",
   "metadata": {},
   "source": [
    "Add HiPS to the sky panel"
   ]
  },
  {
   "cell_type": "code",
   "execution_count": null,
   "metadata": {},
   "outputs": [],
   "source": [
    "esasky.addHiPS(\"Chandra RGB\")\n",
    "esasky.addHiPS(\"XMM-Newton EPIC color\")\n",
    "esasky.addHiPS(\"DSS2 Color\")\n",
    "esasky.addHiPS(\"2MASS color JHK\")\n",
    "esasky.addHiPS(\"Spitzer cold SEIP IRAC2 faint\")\n",
    "esasky.addHiPS(\"Herschel PACS RGB 70, 160 micron\")"
   ]
  },
  {
   "cell_type": "markdown",
   "metadata": {},
   "source": [
    "Animations can be made programmatically using this slider function"
   ]
  },
  {
   "cell_type": "code",
   "execution_count": null,
   "metadata": {},
   "outputs": [],
   "source": [
    "import time\n",
    "for i in range(500):\n",
    "    esasky.setHiPSSliderValue(i/100.0)\n",
    "    time.sleep(0.02)"
   ]
  },
  {
   "cell_type": "markdown",
   "metadata": {},
   "source": [
    "We can even create a slider in the python interface to control the HiPS"
   ]
  },
  {
   "cell_type": "code",
   "execution_count": null,
   "metadata": {},
   "outputs": [],
   "source": [
    "import asyncio\n",
    "nSkies = esasky.getNumberOfSkyRows()\n",
    "def wait_for_change(widget, value):\n",
    "    future = asyncio.Future()\n",
    "    def getvalue(change):\n",
    "        future.set_result(change.new)\n",
    "        widget.unobserve(getvalue, value)\n",
    "    widget.observe(getvalue, value)\n",
    "    return future\n",
    "\n",
    "from ipywidgets import FloatSlider\n",
    "slider = FloatSlider(min=0.0, max=nSkies-1, step=0.01,  continuous_update=True)\n",
    "\n",
    "async def f():\n",
    "    while True:\n",
    "        x = await wait_for_change(slider, 'value')\n",
    "        esasky.setHiPSSliderValue(x)\n",
    "asyncio.ensure_future(f())\n",
    "\n",
    "slider"
   ]
  },
  {
   "cell_type": "markdown",
   "metadata": {},
   "source": [
    "## Interacting with the JWST Planning Tool"
   ]
  },
  {
   "cell_type": "markdown",
   "metadata": {},
   "source": [
    "### Open the JWST Planning Tool and add an instrument at specific coordinates"
   ]
  },
  {
   "cell_type": "code",
   "execution_count": null,
   "metadata": {},
   "outputs": [],
   "source": [
    "esasky.closeSkyPanel() #first, close the sky panel\n",
    "esasky.addJwstWithCoordinates(\"NIRSpec\", \"NRS_FULL_MSA\", False, \"201.365063\", \"-43.019113\", \"5\")"
   ]
  },
  {
   "cell_type": "markdown",
   "metadata": {},
   "source": [
    "### Add an instrument at the centre of the screen and include all instruments in the focal plane"
   ]
  },
  {
   "cell_type": "code",
   "execution_count": null,
   "metadata": {},
   "outputs": [],
   "source": [
    "esasky.setFoV(0.5)\n",
    "esasky.addJwst(\"NIRCam\", \"NRCALL_FULL\", True)"
   ]
  },
  {
   "cell_type": "code",
   "execution_count": null,
   "metadata": {},
   "outputs": [],
   "source": [
    "esasky.addJwstWithCoordinates?"
   ]
  },
  {
   "cell_type": "code",
   "execution_count": null,
   "metadata": {},
   "outputs": [],
   "source": [
    "esasky.closeJwstPanel()"
   ]
  },
  {
   "cell_type": "code",
   "execution_count": null,
   "metadata": {},
   "outputs": [],
   "source": [
    "esasky.openJwstPanel()"
   ]
  },
  {
   "cell_type": "code",
   "execution_count": null,
   "metadata": {},
   "outputs": [],
   "source": [
    "esasky.clearJwstAll()\n",
    "esasky.closeJwstPanel()"
   ]
  },
  {
   "cell_type": "markdown",
   "metadata": {},
   "source": [
    "## Coordinates Grid"
   ]
  },
  {
   "cell_type": "markdown",
   "metadata": {},
   "source": [
    "Switch on or off the coordinates grid:"
   ]
  },
  {
   "cell_type": "code",
   "execution_count": null,
   "metadata": {},
   "outputs": [],
   "source": [
    "esasky.goToRADec(350.850, +58.815) #Cas A\n",
    "esasky.setFoV(0.2)"
   ]
  },
  {
   "cell_type": "code",
   "execution_count": null,
   "metadata": {},
   "outputs": [],
   "source": [
    "esasky.setHiPS('Chandra RGB')\n",
    "esasky.showCoordinateGrid(True)"
   ]
  },
  {
   "cell_type": "code",
   "execution_count": null,
   "metadata": {},
   "outputs": [],
   "source": [
    "esasky.showCoordinateGrid(False)"
   ]
  },
  {
   "cell_type": "markdown",
   "metadata": {},
   "source": [
    "## Healpix MOCs"
   ]
  },
  {
   "cell_type": "markdown",
   "metadata": {},
   "source": [
    "Display your own multi-order coverage (MOC) maps on the sky using IVOA string or JSON notation"
   ]
  },
  {
   "cell_type": "code",
   "execution_count": null,
   "metadata": {},
   "outputs": [],
   "source": [
    "esasky.setHiPS('DSS2 color')\n",
    "esasky.goToRADec(43.376, +05.8587) #Cas A\n",
    "esasky.setFoV(150)\n",
    "esasky.overlayMOC('6/2-15 23 554 7/22 50-75', 'myMoc', 'red', 0.2)"
   ]
  },
  {
   "cell_type": "code",
   "execution_count": null,
   "metadata": {},
   "outputs": [],
   "source": [
    "esasky.overlayMOC('{\"3\":[1,2,3,4,5], \"4\":[26,27]}', 'myMoc2', '#FF1244', 1)"
   ]
  },
  {
   "cell_type": "code",
   "execution_count": null,
   "metadata": {},
   "outputs": [],
   "source": [
    "esasky.removeMOC('myMoc')\n",
    "esasky.removeMOC('myMoc2')"
   ]
  },
  {
   "cell_type": "markdown",
   "metadata": {},
   "source": [
    "## Multi-Messenger Events"
   ]
  },
  {
   "cell_type": "markdown",
   "metadata": {},
   "source": [
    "Return and visualise the multi-messenger events in ESASky."
   ]
  },
  {
   "cell_type": "markdown",
   "metadata": {},
   "source": [
    "#### Gravitational Wave (GW) Events:"
   ]
  },
  {
   "cell_type": "markdown",
   "metadata": {},
   "source": [
    "Return the IDs of all available GW events in ESASky"
   ]
  },
  {
   "cell_type": "code",
   "execution_count": null,
   "metadata": {
    "scrolled": true,
    "tags": []
   },
   "outputs": [],
   "source": [
    "gwdata=esasky.getGWIds() \n",
    "GWs = pd.DataFrame.from_dict(gwdata)\n",
    "GWs"
   ]
  },
  {
   "cell_type": "markdown",
   "metadata": {},
   "source": [
    "Return the metadata of all available GW Events in ESASky"
   ]
  },
  {
   "cell_type": "code",
   "execution_count": null,
   "metadata": {
    "scrolled": true,
    "tags": []
   },
   "outputs": [],
   "source": [
    "pd.set_option('max_colwidth', 400)\n",
    "gwdata=esasky.getGWData()\n",
    "GWs = pd.DataFrame.from_dict(gwdata)\n",
    "GWs"
   ]
  },
  {
   "cell_type": "markdown",
   "metadata": {},
   "source": [
    "Open the GWs Multi-Messenger Events in ESASky and display a GW Event"
   ]
  },
  {
   "cell_type": "code",
   "execution_count": null,
   "metadata": {},
   "outputs": [],
   "source": [
    "esasky.openGWPanel()\n",
    "esasky.showGWEvent('S200316bj') "
   ]
  },
  {
   "cell_type": "markdown",
   "metadata": {},
   "source": [
    "#### Neutrino Events:"
   ]
  },
  {
   "cell_type": "markdown",
   "metadata": {},
   "source": [
    "Return the metadata of all available Neutrino events in ESASky"
   ]
  },
  {
   "cell_type": "code",
   "execution_count": null,
   "metadata": {
    "scrolled": true,
    "tags": []
   },
   "outputs": [],
   "source": [
    "ndata=esasky.getNeutrinoEventData()\n",
    "neutrinos = pd.DataFrame.from_dict(ndata)\n",
    "neutrinos"
   ]
  },
  {
   "cell_type": "markdown",
   "metadata": {},
   "source": [
    "Open the neutrino event panel"
   ]
  },
  {
   "cell_type": "code",
   "execution_count": null,
   "metadata": {},
   "outputs": [],
   "source": [
    "esasky.openNeutrinoPanel()"
   ]
  },
  {
   "cell_type": "markdown",
   "metadata": {},
   "source": [
    "Close the Multi-Messenger panel in ESASky"
   ]
  },
  {
   "cell_type": "code",
   "execution_count": null,
   "metadata": {},
   "outputs": [],
   "source": [
    "esasky.closeAlertPanel() "
   ]
  },
  {
   "cell_type": "markdown",
   "metadata": {},
   "source": []
  },
  {
   "cell_type": "markdown",
   "metadata": {},
   "source": [
    "### Save and restore an ESASky session"
   ]
  },
  {
   "cell_type": "markdown",
   "metadata": {},
   "source": [
    "Save the current ESASky session as a JSON file object with all settings, HiPS stack, datapanels etc."
   ]
  },
  {
   "cell_type": "code",
   "execution_count": null,
   "metadata": {},
   "outputs": [],
   "source": [
    "esasky.saveSession(fileName='ESASkySession.json')"
   ]
  },
  {
   "cell_type": "markdown",
   "metadata": {},
   "source": [
    "Change ESASky settings and then restore the previous session"
   ]
  },
  {
   "cell_type": "code",
   "execution_count": null,
   "metadata": {},
   "outputs": [],
   "source": [
    "esasky.showCoordinateGrid(False)\n",
    "esasky.setHiPS('DSS2 color')\n",
    "esasky.goToTargetName('M101')"
   ]
  },
  {
   "cell_type": "code",
   "execution_count": null,
   "metadata": {},
   "outputs": [],
   "source": [
    "esasky.restoreSessionFromFile('ESASkySession.json')"
   ]
  }
 ],
 "metadata": {
  "kernelspec": {
   "display_name": "Python 3 (ipykernel)",
   "language": "python",
   "name": "python3"
  },
  "language_info": {
   "codemirror_mode": {
    "name": "ipython",
    "version": 3
   },
   "file_extension": ".py",
   "mimetype": "text/x-python",
   "name": "python",
   "nbconvert_exporter": "python",
   "pygments_lexer": "ipython3",
   "version": "3.9.16"
  }
 },
 "nbformat": 4,
 "nbformat_minor": 4
}
