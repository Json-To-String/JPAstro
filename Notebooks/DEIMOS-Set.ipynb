{
 "cells": [
  {
   "cell_type": "code",
   "execution_count": 1,
   "id": "bd254555-d90b-462a-bb06-0cd54f6fd884",
   "metadata": {},
   "outputs": [],
   "source": [
    "import SciServer.CasJobs as CasJobs # query with CasJobs, the primary database for the SDSS\n",
    "import SciServer.SkyServer as SkyServer # show individual objects through SkyServer\n",
    "import SciServer.SciDrive\n",
    "import warnings\n",
    "warnings.filterwarnings('ignore')\n",
    "import pandas as pd\n",
    "from PIL import Image\n",
    "import glob as glob\n",
    "import os"
   ]
  },
  {
   "cell_type": "code",
   "execution_count": 2,
   "id": "86f0f4ee-ca80-4fcc-967a-d58e91be5ca8",
   "metadata": {},
   "outputs": [],
   "source": [
    "\n",
    "deimosDf = pd.read_csv('../Sheets/Perseus DEIMOS spectroscopy - Sheet1.csv')"
   ]
  },
  {
   "cell_type": "code",
   "execution_count": 3,
   "id": "a49ce8c2-5820-45dc-a15c-64c1f229790e",
   "metadata": {},
   "outputs": [
    {
     "data": {
      "text/plain": [
       "82"
      ]
     },
     "execution_count": 3,
     "metadata": {},
     "output_type": "execute_result"
    }
   ],
   "source": [
    "deimosDf.shape[0]"
   ]
  },
  {
   "cell_type": "code",
   "execution_count": 4,
   "id": "9a158e6a-0960-410c-93ff-2d4cc11afd61",
   "metadata": {},
   "outputs": [
    {
     "name": "stdout",
     "output_type": "stream",
     "text": [
      "Skipping Populate\n"
     ]
    }
   ],
   "source": [
    "outDir = '..\\Images\\DEIMOS-Set1'\n",
    "img_width, img_height = 200, 200\n",
    "SkyServer_DataRelease = 'DR16'\n",
    "\n",
    "## If directory is fully populated already, don't run the image downloads\n",
    "if len(glob.glob(os.path.join(outDir, '*.png'))) == deimosDf.shape[0]:\n",
    "    print('Skipping Populate')\n",
    "else:\n",
    "    for id, r, d in zip(deimosDf['Name'], deimosDf['RA'], deimosDf['Dec']):\n",
    "        img_array = SkyServer.getJpegImgCutout(ra=r, dec=d, width=img_width, height=img_height, scale=0.1, \n",
    "                                     dataRelease=SkyServer_DataRelease)\n",
    "        # print(f'{id}-label={labeler(z)}')\n",
    "        # outPicTemplate = f'{id}-label={labeler(z)}.png'\n",
    "        outPicTemplate = f'{id}.png'\n",
    "        \n",
    "        img0 = Image.fromarray(img_array, 'RGB')\n",
    "        img0.save(f'{outDir}/{outPicTemplate}')"
   ]
  },
  {
   "cell_type": "code",
   "execution_count": null,
   "id": "b6177f80-4455-4141-ae9c-04548e4305cc",
   "metadata": {},
   "outputs": [],
   "source": []
  },
  {
   "cell_type": "code",
   "execution_count": null,
   "id": "c9a950e8-536a-4d58-96be-05ca26595f4d",
   "metadata": {},
   "outputs": [],
   "source": []
  }
 ],
 "metadata": {
  "kernelspec": {
   "display_name": "Python 3 (ipykernel)",
   "language": "python",
   "name": "python3"
  },
  "language_info": {
   "codemirror_mode": {
    "name": "ipython",
    "version": 3
   },
   "file_extension": ".py",
   "mimetype": "text/x-python",
   "name": "python",
   "nbconvert_exporter": "python",
   "pygments_lexer": "ipython3",
   "version": "3.9.16"
  },
  "widgets": {
   "application/vnd.jupyter.widget-state+json": {
    "state": {},
    "version_major": 2,
    "version_minor": 0
   }
  }
 },
 "nbformat": 4,
 "nbformat_minor": 5
}
