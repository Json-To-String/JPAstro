{
 "cells": [
  {
   "cell_type": "code",
   "execution_count": 22,
   "id": "cd072b98-76f9-4d44-94da-b7dfdc776ea3",
   "metadata": {},
   "outputs": [
    {
     "name": "stdout",
     "output_type": "stream",
     "text": [
      "..\\Models\\pcc_model_1.h5\n"
     ]
    }
   ],
   "source": [
    "import h5py\n",
    "import os\n",
    "import glob\n",
    "from keras.models import load_model\n",
    "\n",
    "models = glob.glob(os.path.join('..', 'Models', '*.h5'))\n",
    "print(models[0])\n",
    "filename = models[0]\n",
    "# def read_hdf5(path):\n",
    "\n",
    "#     weights = {}\n",
    "\n",
    "#     keys = []\n",
    "#     with h5py.File(path, 'r') as f: # open file\n",
    "#         f.visit(keys.append) # append all keys to list\n",
    "#         for key in keys:\n",
    "#             if ':' in key: # contains data if ':' in key\n",
    "#                 print(f[key].name)\n",
    "#                 print(dir(f[key]))\n",
    "#                 # weights[f[key].name] = f[key].value\n",
    "#     return weights"
   ]
  },
  {
   "cell_type": "code",
   "execution_count": 23,
   "id": "326d6183-ae44-4a95-96eb-ab688d4f8162",
   "metadata": {},
   "outputs": [
    {
     "data": {
      "text/plain": [
       "<bound method Model.load_weights of <keras.engine.sequential.Sequential object at 0x000002AB88F22850>>"
      ]
     },
     "execution_count": 23,
     "metadata": {},
     "output_type": "execute_result"
    }
   ],
   "source": [
    "cnn_model = load_model(filename)\n",
    "cnn_model.load_weights"
   ]
  },
  {
   "cell_type": "code",
   "execution_count": null,
   "id": "34c5182c-61ac-44d2-9bdd-dea25a36cda1",
   "metadata": {},
   "outputs": [],
   "source": []
  }
 ],
 "metadata": {
  "kernelspec": {
   "display_name": "Python 3 (ipykernel)",
   "language": "python",
   "name": "python3"
  },
  "language_info": {
   "codemirror_mode": {
    "name": "ipython",
    "version": 3
   },
   "file_extension": ".py",
   "mimetype": "text/x-python",
   "name": "python",
   "nbconvert_exporter": "python",
   "pygments_lexer": "ipython3",
   "version": "3.9.16"
  },
  "widgets": {
   "application/vnd.jupyter.widget-state+json": {
    "state": {},
    "version_major": 2,
    "version_minor": 0
   }
  }
 },
 "nbformat": 4,
 "nbformat_minor": 5
}
