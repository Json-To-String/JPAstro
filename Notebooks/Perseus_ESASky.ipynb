{
 "cells": [
  {
   "cell_type": "code",
   "execution_count": 1,
   "id": "def6f758",
   "metadata": {},
   "outputs": [],
   "source": [
    "# Perseus_ESASky.ipynb\n",
    "# see https://github.com/esdc-esac-esa-int/pyesasky/blob/master/samples/pyESASky-Basic.ipynb"
   ]
  },
  {
   "cell_type": "code",
   "execution_count": 2,
   "id": "053b35e9",
   "metadata": {},
   "outputs": [],
   "source": [
    "from pylab import *\n",
    "from pyesasky import ESASkyWidget"
   ]
  },
  {
   "cell_type": "code",
   "execution_count": 3,
   "id": "80b631a8-e801-4b08-a92f-805b04a19daa",
   "metadata": {},
   "outputs": [],
   "source": [
    "from astropy.coordinates import SkyCoord\n",
    "from astropy.coordinates import ICRS, Galactic, FK4, FK5\n",
    "from astropy import units as u"
   ]
  },
  {
   "cell_type": "code",
   "execution_count": 4,
   "id": "8d08d4fe",
   "metadata": {},
   "outputs": [],
   "source": [
    "# instantiating pyESASky instance\n",
    "esasky = ESASkyWidget()"
   ]
  },
  {
   "cell_type": "code",
   "execution_count": 5,
   "id": "01d7a1c2",
   "metadata": {},
   "outputs": [
    {
     "data": {
      "application/vnd.jupyter.widget-view+json": {
       "model_id": "1f74f648ad1941d48f6bcb707e103be5",
       "version_major": 2,
       "version_minor": 0
      },
      "text/plain": [
       "ESASkyWidget(layout=Layout(align_self='stretch', height='400px'))"
      ]
     },
     "execution_count": 5,
     "metadata": {},
     "output_type": "execute_result"
    }
   ],
   "source": [
    "# loading pyESASky instance\n",
    "esasky"
   ]
  },
  {
   "cell_type": "code",
   "execution_count": 6,
   "id": "1d515e7c",
   "metadata": {},
   "outputs": [],
   "source": [
    "esasky.goToRADec('49.94667','41.51306') # Perseus cluster\n",
    "#esasky.goToRADec('49.2542','41.451') # PCC-0050\n",
    "# esasky.goToRADec('49.6483','41.8089') # R24\n",
    "#esasky.setFoV(0.025) # 1.5 arcmin\n",
    "esasky.setFoV(0.015) # 1.5 arcmin\n",
    "#esasky.setHiPS('SDSS9 color')\n",
    "#esasky.setHiPS('Euclid') # not found, other available options provided\n",
    "#esasky.showCoordinateGrid(True)"
   ]
  },
  {
   "cell_type": "code",
   "execution_count": null,
   "id": "b8f8950e",
   "metadata": {},
   "outputs": [],
   "source": []
  },
  {
   "cell_type": "code",
   "execution_count": null,
   "id": "93587a27",
   "metadata": {},
   "outputs": [],
   "source": []
  }
 ],
 "metadata": {
  "kernelspec": {
   "display_name": "Python 3 (ipykernel)",
   "language": "python",
   "name": "python3"
  },
  "language_info": {
   "codemirror_mode": {
    "name": "ipython",
    "version": 3
   },
   "file_extension": ".py",
   "mimetype": "text/x-python",
   "name": "python",
   "nbconvert_exporter": "python",
   "pygments_lexer": "ipython3",
   "version": "3.9.16"
  },
  "widgets": {
   "application/vnd.jupyter.widget-state+json": {
    "state": {
     "1f74f648ad1941d48f6bcb707e103be5": {
      "model_module": "pyesasky",
      "model_module_version": "1.9.5",
      "model_name": "ESASkyJSModel",
      "state": {
       "_model_module_version": "1.9.5",
       "_view_language": "en",
       "_view_module_ids": [
        "esaskyFramezpcfsqkm7x"
       ],
       "_view_module_version": "1.9.5",
       "layout": "IPY_MODEL_27bf58f7571445b6962747ce013e0d2e",
       "view_height": "800px"
      }
     },
     "27bf58f7571445b6962747ce013e0d2e": {
      "model_module": "@jupyter-widgets/base",
      "model_module_version": "2.0.0",
      "model_name": "LayoutModel",
      "state": {
       "align_self": "stretch",
       "height": "400px"
      }
     }
    },
    "version_major": 2,
    "version_minor": 0
   }
  }
 },
 "nbformat": 4,
 "nbformat_minor": 5
}
