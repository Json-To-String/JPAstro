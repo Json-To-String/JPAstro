{
 "cells": [
  {
   "cell_type": "code",
   "execution_count": 7,
   "id": "def6f758",
   "metadata": {},
   "outputs": [],
   "source": [
    "# Perseus_ESASky.ipynb\n",
    "# see https://github.com/esdc-esac-esa-int/pyesasky/blob/master/samples/pyESASky-Basic.ipynb"
   ]
  },
  {
   "cell_type": "code",
   "execution_count": 8,
   "id": "053b35e9",
   "metadata": {},
   "outputs": [],
   "source": [
    "from pylab import *\n",
    "from pyesasky import ESASkyWidget"
   ]
  },
  {
   "cell_type": "code",
   "execution_count": 9,
   "id": "80b631a8-e801-4b08-a92f-805b04a19daa",
   "metadata": {},
   "outputs": [],
   "source": [
    "from astropy.coordinates import SkyCoord\n",
    "from astropy.coordinates import ICRS, Galactic, FK4, FK5\n",
    "from astropy import units as u"
   ]
  },
  {
   "cell_type": "code",
   "execution_count": 10,
   "id": "8d08d4fe",
   "metadata": {},
   "outputs": [],
   "source": [
    "# instantiating pyESASky instance\n",
    "esasky = ESASkyWidget()"
   ]
  },
  {
   "cell_type": "code",
   "execution_count": 11,
   "id": "01d7a1c2",
   "metadata": {},
   "outputs": [
    {
     "data": {
      "application/vnd.jupyter.widget-view+json": {
       "model_id": "b932004c1d564125a1c64b95cbe43609",
       "version_major": 2,
       "version_minor": 0
      },
      "text/plain": [
       "ESASkyWidget(layout=Layout(align_self='stretch', height='400px'))"
      ]
     },
     "execution_count": 11,
     "metadata": {},
     "output_type": "execute_result"
    }
   ],
   "source": [
    "# loading pyESASky instance\n",
    "esasky"
   ]
  },
  {
   "cell_type": "code",
   "execution_count": 12,
   "id": "1d515e7c",
   "metadata": {},
   "outputs": [],
   "source": [
    "#esasky.goToRADec('49.94667','41.51306') # Perseus cluster\n",
    "#esasky.goToRADec('49.2542','41.451') # PCC-0050\n",
    "esasky.goToRADec('49.6483','41.8089') # R24\n",
    "#esasky.setFoV(0.025) # 1.5 arcmin\n",
    "esasky.setFoV(0.015) # 1.5 arcmin\n",
    "#esasky.setHiPS('SDSS9 color')\n",
    "#esasky.setHiPS('Euclid') # not found, other available options provided\n",
    "#esasky.showCoordinateGrid(True)"
   ]
  },
  {
   "cell_type": "code",
   "execution_count": null,
   "id": "b8f8950e",
   "metadata": {},
   "outputs": [],
   "source": []
  },
  {
   "cell_type": "code",
   "execution_count": null,
   "id": "93587a27",
   "metadata": {},
   "outputs": [],
   "source": []
  }
 ],
 "metadata": {
  "kernelspec": {
   "display_name": "Python 3 (ipykernel)",
   "language": "python",
   "name": "python3"
  },
  "language_info": {
   "codemirror_mode": {
    "name": "ipython",
    "version": 3
   },
   "file_extension": ".py",
   "mimetype": "text/x-python",
   "name": "python",
   "nbconvert_exporter": "python",
   "pygments_lexer": "ipython3",
   "version": "3.9.16"
  }
 },
 "nbformat": 4,
 "nbformat_minor": 5
}
