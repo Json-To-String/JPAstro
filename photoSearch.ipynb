{
 "cells": [
  {
   "cell_type": "code",
   "execution_count": 1,
   "id": "c4557820",
   "metadata": {},
   "outputs": [],
   "source": [
    "import pandas as pd\n",
    "import SciServer.CasJobs as CasJobs # query with CasJobs, the primary database for the SDSS\n",
    "import SciServer.SkyServer as SkyServer # show individual objects through SkyServer\n",
    "import SciServer.SciDrive\n",
    "import warnings\n",
    "warnings.filterwarnings('ignore')"
   ]
  },
  {
   "cell_type": "code",
   "execution_count": 2,
   "id": "b5b07549",
   "metadata": {},
   "outputs": [
    {
     "data": {
      "text/plain": [
       "\"SELECT TOP 100  p.objID, p.ra, p.dec,  p.modelMag_r,  p.modelMag_u - p.modelMag_g as u_g,  p.modelMag_g - p.modelMag_z as g_z,  p.modelMag_g - p.modelMag_r as g_r,  p.modelMag_g - p.modelMag_i as g_i,  p.modelMag_r - p.modelMag_i as r_i,  p.modelMag_r - p.modelMag_z as r_z,  p.petroRad_r, p.flags, dbo.fPhotoFlagsN(p.flags) as flag_text FROM photoObj as p JOIN dbo.fGetNearbyObjEq(49.9467, 41.5131, 45) as N ON N.objID = p.objID WHERE p.modelMag_r > -14.3*(p.modelMag_g - p.modelMag_z) + 37  and p.modelMag_r > -14.3*(p.modelMag_g - p.modelMag_z) + 46  and p.type = 3 and p.flags & dbo.fPhotoFlags('MANYPETRO') = 0 and p.flags & dbo.fPhotoFlags('TOO_FEW_GOOD_DETECTIONS ') = 0 and p.flags & dbo.fPhotoFlags('BAD_MOVING_FIT_CHILD ') = 0 and p.flags & dbo.fPhotoFlags('PEAKS_TOO_CLOSE ') = 0 and p.flags & dbo.fPhotoFlags('NODEBLEND_MOVING') = 0\""
      ]
     },
     "execution_count": 2,
     "metadata": {},
     "output_type": "execute_result"
    }
   ],
   "source": [
    "query = \"SELECT TOP 100 \\\n",
    " p.objID, p.ra, p.dec, \\\n",
    " p.modelMag_r, \\\n",
    " p.modelMag_u - p.modelMag_g as u_g, \\\n",
    " p.modelMag_g - p.modelMag_z as g_z, \\\n",
    " p.modelMag_g - p.modelMag_r as g_r, \\\n",
    " p.modelMag_g - p.modelMag_i as g_i, \\\n",
    " p.modelMag_r - p.modelMag_i as r_i, \\\n",
    " p.modelMag_r - p.modelMag_z as r_z, \\\n",
    " p.petroRad_r, p.flags, dbo.fPhotoFlagsN(p.flags) as flag_text \\\n",
    "FROM\\\n",
    " photoObj as p \\\n",
    "JOIN dbo.fGetNearbyObjEq(49.9467, 41.5131, 45) as N ON N.objID = p.objID \\\n",
    "WHERE\\\n",
    " p.modelMag_r > -14.3*(p.modelMag_g - p.modelMag_z) + 37 \\\n",
    " and p.modelMag_r > -14.3*(p.modelMag_g - p.modelMag_z) + 46 \\\n",
    " and p.type = 3\\\n",
    " and ((p.flags & 0x10000000) != 0)\\\n",
    " and p.flags & (dbo.fPhotoFlags('MANYPETRO')\\\n",
    " + dbo.fPhotoFlags('TOO_FEW_GOOD_DETECTIONS ')\\\n",
    " + dbo.fPhotoFlags('BAD_MOVING_FIT_CHILD ')\\\n",
    " + dbo.fPhotoFlags('PEAKS_TOO_CLOSE ')\\\n",
    " + dbo.fPhotoFlags('NODEBLEND_MOVING')) = 0\"\n",
    "query"
   ]
  },
  {
   "cell_type": "code",
   "execution_count": 3,
   "id": "c396dd66",
   "metadata": {},
   "outputs": [],
   "source": [
    "df0 = CasJobs.executeQuery(query, \"dr16\")\n",
    "coords = df0[['ra', 'dec']]\n"
   ]
  },
  {
   "cell_type": "code",
   "execution_count": null,
   "id": "9590501b",
   "metadata": {},
   "outputs": [],
   "source": []
  }
 ],
 "metadata": {
  "kernelspec": {
   "display_name": "Python 3 (ipykernel)",
   "language": "python",
   "name": "python3"
  },
  "language_info": {
   "codemirror_mode": {
    "name": "ipython",
    "version": 3
   },
   "file_extension": ".py",
   "mimetype": "text/x-python",
   "name": "python",
   "nbconvert_exporter": "python",
   "pygments_lexer": "ipython3",
   "version": "3.9.16"
  }
 },
 "nbformat": 4,
 "nbformat_minor": 5
}
