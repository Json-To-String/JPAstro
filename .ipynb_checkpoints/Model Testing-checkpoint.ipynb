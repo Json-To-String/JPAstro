{
 "cells": [
  {
   "cell_type": "markdown",
   "id": "7bb119c3",
   "metadata": {},
   "source": [
    "Filename is pcc_resnet50_1.h5\n"
   ]
  },
  {
   "cell_type": "code",
   "execution_count": 1,
   "id": "b7f50d71",
   "metadata": {},
   "outputs": [],
   "source": [
    "from keras.models import load_model\n",
    "from keras.preprocessing import image\n",
    "import os\n",
    "import glob\n",
    "import numpy as np\n",
    "import matplotlib.pyplot as plt"
   ]
  },
  {
   "cell_type": "code",
   "execution_count": 2,
   "id": "6c305283",
   "metadata": {},
   "outputs": [
    {
     "data": {
      "text/plain": [
       "<bound method Model.load_weights of <keras.engine.functional.Functional object at 0x000001D0831A9400>>"
      ]
     },
     "execution_count": 2,
     "metadata": {},
     "output_type": "execute_result"
    }
   ],
   "source": [
    "cnn_model = load_model('pcc_resnet50_1.h5')\n",
    "cnn_model.load_weights\n",
    "# cnn_model.summary()\n"
   ]
  },
  {
   "cell_type": "markdown",
   "id": "9903373b",
   "metadata": {},
   "source": [
    "https://stackoverflow.com/questions/43469281/how-to-predict-input-image-using-trained-model-in-keras"
   ]
  },
  {
   "cell_type": "code",
   "execution_count": 3,
   "id": "665347cf",
   "metadata": {},
   "outputs": [],
   "source": [
    "testDir = 'newSet'\n",
    "testImgs = glob.glob(os.path.join(testDir, '*.png'))\n",
    "img_width, img_height = 200, 200\n",
    "\n",
    "predictions = []\n",
    "\n",
    "for ind, im in enumerate(testImgs):\n",
    "#     print(ind, im)\n",
    "#     imPaths.append(im)\n",
    "    img = image.load_img(im, target_size=(img_width, img_height))\n",
    "    x = image.img_to_array(img)\n",
    "    ex = np.expand_dims(x, axis = 0)\n",
    "    images = np.vstack([ex])\n",
    "    \n",
    "    pred = cnn_model.predict(ex)\n",
    "    pred = np.argmax(pred, axis = 1)\n",
    "    predictions.append(pred[0])\n",
    "    \n",
    "#     if ind > 4:\n",
    "#         break"
   ]
  },
  {
   "cell_type": "code",
   "execution_count": 4,
   "id": "56641ea8",
   "metadata": {},
   "outputs": [
    {
     "name": "stderr",
     "output_type": "stream",
     "text": [
      "A subdirectory or file newSetPredictions already exists.\n"
     ]
    }
   ],
   "source": [
    "mkdir newSetPredictions "
   ]
  },
  {
   "cell_type": "code",
   "execution_count": 5,
   "id": "d582446f",
   "metadata": {},
   "outputs": [],
   "source": [
    "predictDir = 'newSetPredictions'\n",
    "\n",
    "for ind, im in enumerate(testImgs):\n",
    "    \n",
    "    img = image.load_img(im, target_size=(img_width, img_height))\n",
    "    \n",
    "    plt.figure()\n",
    "    plt.imshow(img)\n",
    "    plt.title(f'Predicted as {predictions[ind]}')\n",
    "    \n",
    "    basename = os.path.basename(im)\n",
    "    filename = os.path.join(predictDir, f'{str(basename[:-4])}_label={str(predictions[ind])}')\n",
    "#     print(filename)\n",
    "    plt.savefig(f'{filename}.png')\n",
    "    plt.close()"
   ]
  },
  {
   "cell_type": "code",
   "execution_count": null,
   "id": "c46f94ea",
   "metadata": {},
   "outputs": [],
   "source": []
  },
  {
   "cell_type": "code",
   "execution_count": null,
   "id": "b379b8c7",
   "metadata": {},
   "outputs": [],
   "source": []
  }
 ],
 "metadata": {
  "kernelspec": {
   "display_name": "Python 3 (ipykernel)",
   "language": "python",
   "name": "python3"
  },
  "language_info": {
   "codemirror_mode": {
    "name": "ipython",
    "version": 3
   },
   "file_extension": ".py",
   "mimetype": "text/x-python",
   "name": "python",
   "nbconvert_exporter": "python",
   "pygments_lexer": "ipython3",
   "version": "3.9.16"
  }
 },
 "nbformat": 4,
 "nbformat_minor": 5
}
